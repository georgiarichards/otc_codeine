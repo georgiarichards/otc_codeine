{
 "cells": [
  {
   "cell_type": "markdown",
   "metadata": {},
   "source": [
    "# This notebook is for the processing of drug combinations in 569 OTC codeine products from 31 countries"
   ]
  },
  {
   "cell_type": "code",
   "execution_count": 1,
   "metadata": {},
   "outputs": [],
   "source": [
    "import pandas as pd\n",
    "import numpy as np"
   ]
  },
  {
   "cell_type": "markdown",
   "metadata": {},
   "source": [
    "# Importing data "
   ]
  },
  {
   "cell_type": "code",
   "execution_count": 2,
   "metadata": {},
   "outputs": [
    {
     "data": {
      "text/html": [
       "<div>\n",
       "<style scoped>\n",
       "    .dataframe tbody tr th:only-of-type {\n",
       "        vertical-align: middle;\n",
       "    }\n",
       "\n",
       "    .dataframe tbody tr th {\n",
       "        vertical-align: top;\n",
       "    }\n",
       "\n",
       "    .dataframe thead th {\n",
       "        text-align: right;\n",
       "    }\n",
       "</style>\n",
       "<table border=\"1\" class=\"dataframe\">\n",
       "  <thead>\n",
       "    <tr style=\"text-align: right;\">\n",
       "      <th></th>\n",
       "      <th>Country</th>\n",
       "      <th>Molecules</th>\n",
       "      <th>no_combinations</th>\n",
       "    </tr>\n",
       "  </thead>\n",
       "  <tbody>\n",
       "    <tr>\n",
       "      <th>0</th>\n",
       "      <td>ARGENTINA</td>\n",
       "      <td>BENZOIC ACID!CODEINE!CRATAEGUS LAEVIGATA!ETHYL...</td>\n",
       "      <td>6</td>\n",
       "    </tr>\n",
       "    <tr>\n",
       "      <th>1</th>\n",
       "      <td>BELGIUM</td>\n",
       "      <td>ACONITUM NAPELLUS!CODEINE!SULFOGAIACOL</td>\n",
       "      <td>3</td>\n",
       "    </tr>\n",
       "    <tr>\n",
       "      <th>2</th>\n",
       "      <td>BELGIUM</td>\n",
       "      <td>BROMOFORM!CAMPHOR!CINEOLE!CODEINE!GUAIACOL!PHENOL</td>\n",
       "      <td>6</td>\n",
       "    </tr>\n",
       "    <tr>\n",
       "      <th>3</th>\n",
       "      <td>BELGIUM</td>\n",
       "      <td>CODEINE</td>\n",
       "      <td>1</td>\n",
       "    </tr>\n",
       "    <tr>\n",
       "      <th>4</th>\n",
       "      <td>BELGIUM</td>\n",
       "      <td>CODEINE!EPHEDRINE!ETHYLMORPHINE!GUAIFENESIN</td>\n",
       "      <td>4</td>\n",
       "    </tr>\n",
       "  </tbody>\n",
       "</table>\n",
       "</div>"
      ],
      "text/plain": [
       "     Country                                          Molecules  \\\n",
       "0  ARGENTINA  BENZOIC ACID!CODEINE!CRATAEGUS LAEVIGATA!ETHYL...   \n",
       "1    BELGIUM             ACONITUM NAPELLUS!CODEINE!SULFOGAIACOL   \n",
       "2    BELGIUM  BROMOFORM!CAMPHOR!CINEOLE!CODEINE!GUAIACOL!PHENOL   \n",
       "3    BELGIUM                                            CODEINE   \n",
       "4    BELGIUM        CODEINE!EPHEDRINE!ETHYLMORPHINE!GUAIFENESIN   \n",
       "\n",
       "   no_combinations  \n",
       "0                6  \n",
       "1                3  \n",
       "2                6  \n",
       "3                1  \n",
       "4                4  "
      ]
     },
     "execution_count": 2,
     "metadata": {},
     "output_type": "execute_result"
    }
   ],
   "source": [
    "df1 = pd.read_csv(\"/Users/georgiarichards/Desktop/Python/OTC/otc_combinations.csv\")\n",
    "df1.head()"
   ]
  },
  {
   "cell_type": "code",
   "execution_count": 3,
   "metadata": {
    "scrolled": true
   },
   "outputs": [
    {
     "data": {
      "text/plain": [
       "CODEINE!PARACETAMOL                                                                                                                                                      80\n",
       "CAFFEINE!CODEINE!PARACETAMOL                                                                                                                                             67\n",
       "CAFFEINE!CODEINE!DOXYLAMINE!PARACETAMOL                                                                                                                                  50\n",
       "CODEINE                                                                                                                                                                  45\n",
       "CODEINE!IBUPROFEN                                                                                                                                                        19\n",
       "CODEINE!PARACETAMOL!PROMETHAZINE                                                                                                                                         13\n",
       "CAFFEINE!CODEINE!PARACETAMOL!PROPYPHENAZONE                                                                                                                              11\n",
       "CAFFEINE!CODEINE!DIPHENHYDRAMINE!PARACETAMOL                                                                                                                             10\n",
       "CODEINE!IBUPROFEN!PARACETAMOL                                                                                                                                            10\n",
       "CODEINE!EPHEDRINE!PROMETHAZINE                                                                                                                                            9\n",
       "CAFFEINE!CHLORPHENAMINE!CODEINE!LYSOZYME!METHYLEPHEDRINE!POLYGALA SENEGA                                                                                                  9\n",
       "CODEINE!GUAIFENESIN                                                                                                                                                       9\n",
       "AMMI VISNAGA!ASCLEPIAS TUBEROSA!BRYONIA ALBA!CEPHAELIS IPECACUANHA!CHELIDONIUM MAJUS!CODEINE!DROSERA ROTUNDIFOLIA!EPHEDRINE!GRINDELIA ROBUSTA!TEUCRIUM SCORODONIA!TIN     8\n",
       "CODEINE!EPHEDRINE!EUCALYPTUS GLOBULUS!MENTHOL                                                                                                                             7\n",
       "BROMHEXINE!CAFFEINE!CARBINOXAMINE!CODEINE!EPHEDRINE!PARACETAMOL!RIBOFLAVIN!SULBUTIAMINE                                                                                   7\n",
       "CODEINE!GUAIFENESIN!PSEUDOEPHEDRINE!TRIPROLIDINE                                                                                                                          7\n",
       "BUCLIZINE!CODEINE!PARACETAMOL                                                                                                                                             7\n",
       "CODEINE!GUAIACOL                                                                                                                                                          6\n",
       "AMMONIUM!CODEINE!DIPHENHYDRAMINE                                                                                                                                          6\n",
       "ACETYLSALICYLIC ACID!CAFFEINE!CODEINE!PARACETAMOL                                                                                                                         6\n",
       "AMBROXOL!CARBOCISTEINE!CHLORPHENAMINE!CODEINE!PARACETAMOL!RIBOFLAVIN                                                                                                      5\n",
       "ASCORBIC ACID!CAFFEINE!CODEINE!DIPHENHYDRAMINE!PARACETAMOL!PHENYLEPHRINE                                                                                                  4\n",
       "CODEINE!PARACETAMOL!PHENYLPROPANOLAMINE!PHENYLTOLOXAMINE                                                                                                                  4\n",
       "CODEINE!EPHEDRINE!GUAIFENESIN!POLYGALA AMARA                                                                                                                              4\n",
       "CODEINE!EUCALYPTUS GLOBULUS!GLYCYRRHIZA GLABRA!LEVOMENTHOL!PIMPINELLA ANISUM!TOLU BALSAM                                                                                  4\n",
       "CODEINE!PSEUDOEPHEDRINE!TRIPROLIDINE                                                                                                                                      4\n",
       "AMMONIUM!CITRIC ACID!CODEINE!DIPHENHYDRAMINE                                                                                                                              4\n",
       "ACETYLSALICYLIC ACID!CODEINE                                                                                                                                              4\n",
       "CAFFEINE!CODEINE!METAMIZOLE SODIUM!PARACETAMOL!PHENOBARBITAL                                                                                                              4\n",
       "CODEINE!SISYMBRIUM OFFICINALE                                                                                                                                             4\n",
       "                                                                                                                                                                         ..\n",
       "CAFFEINE!CODEINE!MEPROBAMATE!PARACETAMOL                                                                                                                                  1\n",
       "CHELIDONIUM MAJUS!CODEINE!DL-LACTIC ACID!FOENICULUM VULGARE!PHOSPHORIC ACID!PINUS MUGO PUMILIO                                                                            1\n",
       "ATROPINE METHYLHYDROXIDE!CODEINE!DIPHENHYDRAMINE!EPHEDRINE!PHENAZONE!PROPYPHENAZONE                                                                                       1\n",
       "CITRIC ACID!CODEINE!EPHEDRINE!PAPAVERINE                                                                                                                                  1\n",
       "CODEINE!SODIUM!TERPIN HYDRATE                                                                                                                                             1\n",
       "CAFFEINE!CODEINE!HESPERIDIN!PARACETAMOL!PIPERYLONE                                                                                                                        1\n",
       "CODEINE!ETHYLMORPHINE                                                                                                                                                     1\n",
       "CODEINE!THYMUS VULGARE                                                                                                                                                    1\n",
       "ACONITUM NAPELLUS!BORIC ACID!CODEINE!MENTHOL!TETRACAINE                                                                                                                   1\n",
       "ALLOBARBITAL!CODEINE!DROFENINE!PROPYPHENAZONE                                                                                                                             1\n",
       "ACONITUM NAPELLUS!CODEINE!FORMIC ACID                                                                                                                                     1\n",
       "CODEINE!MEPYRAMINE!THEOPHYLLINE                                                                                                                                           1\n",
       "ACETYLSALICYLIC ACID!CAFFEINE!CODEINE!PHENACETIN!PHENOBARBITAL                                                                                                            1\n",
       "ATROPA BELLADONNA!CODEINE!SULFOGAIACOL!TERPIN HYDRATE                                                                                                                     1\n",
       "CODEINE!EPHEDRINE!FRANGULA ALNUS!GUAIFENESIN!POLYGALA SENEGA                                                                                                              1\n",
       "ASCORBIC ACID!BENZOIC ACID!CEPHAELIS IPECACUANHA!CODEINE!PAPAVER RHOEAS!SODIUM                                                                                            1\n",
       "CODEINE!GUAIACOL!PHOSPHORIC ACID                                                                                                                                          1\n",
       "CODEINE!GRINDELIA ROBUSTA!SULFOGAIACOL                                                                                                                                    1\n",
       "ACONITUM NAPELLUS!ATROPA BELLADONNA!CAMPHORSULFONIC ACID!CEPHAELIS IPECACUANHA!CODEINE!EPHEDRINE!ETHYLMORPHINE!SENNA                                                      1\n",
       "BENZOIC ACID!CODEINE!CRATAEGUS LAEVIGATA!ETHYLMORPHINE!POLYGALA SENEGA!URGINEA SCILLA                                                                                     1\n",
       "CODEINE!ETHYLMORPHINE!SULFOGAIACOL                                                                                                                                        1\n",
       "CHLORPHENAMINE!CODEINE!GUAIACOL!METHYLEPHEDRINE!THEOPHYLLINE                                                                                                              1\n",
       "CAFFEINE!CODEINE!METAMIZOLE SODIUM!PARACETAMOL!PENTOBARBITAL                                                                                                              1\n",
       "CAFFEINE!CINNAMOMUM ZEYLANICUM!CODEINE!PHENAZONE!PROPYPHENAZONE                                                                                                           1\n",
       "CAFFEINE!CODEINE!PARACETAMOL!PHENOBARBITAL!PROPYPHENAZONE                                                                                                                 1\n",
       "CHLORPHENAMINE!CODEINE!METHYLEPHEDRINE!SULFOGAIACOL!THEOPHYLLINE                                                                                                          1\n",
       "BROMHEXINE!CODEINE!DIPHENHYDRAMINE!EPHEDRINE!NOSCAPINE!PAPAVERINE                                                                                                         1\n",
       "ACONITUM NAPELLUS!ATROPA BELLADONNA!BROMOFORM!CAMPHORSULFONIC ACID!CINEOLE!CODEINE!O-PHENOLSULFONIC ACID!SULFOGAIACOL                                                     1\n",
       "BENZOIC ACID!CEPHAELIS IPECACUANHA!CINEOLE!CODEINE!GUAIFENESIN!TERPIN HYDRATE                                                                                             1\n",
       "ACONITUM NAPELLUS!ANETHOLE!CODEINE!PAPAVER RHOEAS!PRUNUS LAUROCERASUS!RHEUM OFFICINALE                                                                                    1\n",
       "Name: Molecules, Length: 129, dtype: int64"
      ]
     },
     "execution_count": 3,
     "metadata": {},
     "output_type": "execute_result"
    }
   ],
   "source": [
    "df1['Molecules'].value_counts()"
   ]
  },
  {
   "cell_type": "code",
   "execution_count": 3,
   "metadata": {
    "scrolled": true
   },
   "outputs": [
    {
     "data": {
      "text/html": [
       "<div>\n",
       "<style scoped>\n",
       "    .dataframe tbody tr th:only-of-type {\n",
       "        vertical-align: middle;\n",
       "    }\n",
       "\n",
       "    .dataframe tbody tr th {\n",
       "        vertical-align: top;\n",
       "    }\n",
       "\n",
       "    .dataframe thead th {\n",
       "        text-align: right;\n",
       "    }\n",
       "</style>\n",
       "<table border=\"1\" class=\"dataframe\">\n",
       "  <thead>\n",
       "    <tr style=\"text-align: right;\">\n",
       "      <th></th>\n",
       "      <th>Country</th>\n",
       "      <th>Molecules</th>\n",
       "      <th>no_combinations</th>\n",
       "      <th>ACETYLSALICYLIC ACID</th>\n",
       "      <th>ACONITUM NAPELLUS</th>\n",
       "      <th>ALLOBARBITAL</th>\n",
       "      <th>ALTHAEA OFFICINALIS</th>\n",
       "      <th>AMBROXOL</th>\n",
       "      <th>AMBUCETAMIDE</th>\n",
       "      <th>AMMI VISNAGA</th>\n",
       "      <th>...</th>\n",
       "      <th>TOLU BALSAM</th>\n",
       "      <th>TRANEXAMIC ACID</th>\n",
       "      <th>TRIPROLIDINE</th>\n",
       "      <th>TUSSILAGO FARFARA</th>\n",
       "      <th>URGINEA SCILLA</th>\n",
       "      <th>VALERIANA OFFICINALIS</th>\n",
       "      <th>VERBASCUM DENSIFLORUM</th>\n",
       "      <th>VERBASCUM THAPSUS</th>\n",
       "      <th>VIOLA ODORATA</th>\n",
       "      <th>VISCUM ALBUM</th>\n",
       "    </tr>\n",
       "  </thead>\n",
       "  <tbody>\n",
       "    <tr>\n",
       "      <th>0</th>\n",
       "      <td>ARGENTINA</td>\n",
       "      <td>BENZOIC ACID!CODEINE!CRATAEGUS LAEVIGATA!ETHYL...</td>\n",
       "      <td>6</td>\n",
       "      <td>0</td>\n",
       "      <td>0</td>\n",
       "      <td>0</td>\n",
       "      <td>0</td>\n",
       "      <td>0</td>\n",
       "      <td>0</td>\n",
       "      <td>0</td>\n",
       "      <td>...</td>\n",
       "      <td>0</td>\n",
       "      <td>0</td>\n",
       "      <td>0</td>\n",
       "      <td>0</td>\n",
       "      <td>1</td>\n",
       "      <td>0</td>\n",
       "      <td>0</td>\n",
       "      <td>0</td>\n",
       "      <td>0</td>\n",
       "      <td>0</td>\n",
       "    </tr>\n",
       "    <tr>\n",
       "      <th>1</th>\n",
       "      <td>BELGIUM</td>\n",
       "      <td>ACONITUM NAPELLUS!CODEINE!SULFOGAIACOL</td>\n",
       "      <td>3</td>\n",
       "      <td>0</td>\n",
       "      <td>1</td>\n",
       "      <td>0</td>\n",
       "      <td>0</td>\n",
       "      <td>0</td>\n",
       "      <td>0</td>\n",
       "      <td>0</td>\n",
       "      <td>...</td>\n",
       "      <td>0</td>\n",
       "      <td>0</td>\n",
       "      <td>0</td>\n",
       "      <td>0</td>\n",
       "      <td>0</td>\n",
       "      <td>0</td>\n",
       "      <td>0</td>\n",
       "      <td>0</td>\n",
       "      <td>0</td>\n",
       "      <td>0</td>\n",
       "    </tr>\n",
       "    <tr>\n",
       "      <th>2</th>\n",
       "      <td>BELGIUM</td>\n",
       "      <td>BROMOFORM!CAMPHOR!CINEOLE!CODEINE!GUAIACOL!PHENOL</td>\n",
       "      <td>6</td>\n",
       "      <td>0</td>\n",
       "      <td>0</td>\n",
       "      <td>0</td>\n",
       "      <td>0</td>\n",
       "      <td>0</td>\n",
       "      <td>0</td>\n",
       "      <td>0</td>\n",
       "      <td>...</td>\n",
       "      <td>0</td>\n",
       "      <td>0</td>\n",
       "      <td>0</td>\n",
       "      <td>0</td>\n",
       "      <td>0</td>\n",
       "      <td>0</td>\n",
       "      <td>0</td>\n",
       "      <td>0</td>\n",
       "      <td>0</td>\n",
       "      <td>0</td>\n",
       "    </tr>\n",
       "    <tr>\n",
       "      <th>3</th>\n",
       "      <td>BELGIUM</td>\n",
       "      <td>CODEINE</td>\n",
       "      <td>1</td>\n",
       "      <td>0</td>\n",
       "      <td>0</td>\n",
       "      <td>0</td>\n",
       "      <td>0</td>\n",
       "      <td>0</td>\n",
       "      <td>0</td>\n",
       "      <td>0</td>\n",
       "      <td>...</td>\n",
       "      <td>0</td>\n",
       "      <td>0</td>\n",
       "      <td>0</td>\n",
       "      <td>0</td>\n",
       "      <td>0</td>\n",
       "      <td>0</td>\n",
       "      <td>0</td>\n",
       "      <td>0</td>\n",
       "      <td>0</td>\n",
       "      <td>0</td>\n",
       "    </tr>\n",
       "    <tr>\n",
       "      <th>4</th>\n",
       "      <td>BELGIUM</td>\n",
       "      <td>CODEINE!EPHEDRINE!ETHYLMORPHINE!GUAIFENESIN</td>\n",
       "      <td>4</td>\n",
       "      <td>0</td>\n",
       "      <td>0</td>\n",
       "      <td>0</td>\n",
       "      <td>0</td>\n",
       "      <td>0</td>\n",
       "      <td>0</td>\n",
       "      <td>0</td>\n",
       "      <td>...</td>\n",
       "      <td>0</td>\n",
       "      <td>0</td>\n",
       "      <td>0</td>\n",
       "      <td>0</td>\n",
       "      <td>0</td>\n",
       "      <td>0</td>\n",
       "      <td>0</td>\n",
       "      <td>0</td>\n",
       "      <td>0</td>\n",
       "      <td>0</td>\n",
       "    </tr>\n",
       "    <tr>\n",
       "      <th>5</th>\n",
       "      <td>BELGIUM</td>\n",
       "      <td>CODEINE</td>\n",
       "      <td>1</td>\n",
       "      <td>0</td>\n",
       "      <td>0</td>\n",
       "      <td>0</td>\n",
       "      <td>0</td>\n",
       "      <td>0</td>\n",
       "      <td>0</td>\n",
       "      <td>0</td>\n",
       "      <td>...</td>\n",
       "      <td>0</td>\n",
       "      <td>0</td>\n",
       "      <td>0</td>\n",
       "      <td>0</td>\n",
       "      <td>0</td>\n",
       "      <td>0</td>\n",
       "      <td>0</td>\n",
       "      <td>0</td>\n",
       "      <td>0</td>\n",
       "      <td>0</td>\n",
       "    </tr>\n",
       "    <tr>\n",
       "      <th>6</th>\n",
       "      <td>BELGIUM</td>\n",
       "      <td>CINEOLE!CODEINE</td>\n",
       "      <td>2</td>\n",
       "      <td>0</td>\n",
       "      <td>0</td>\n",
       "      <td>0</td>\n",
       "      <td>0</td>\n",
       "      <td>0</td>\n",
       "      <td>0</td>\n",
       "      <td>0</td>\n",
       "      <td>...</td>\n",
       "      <td>0</td>\n",
       "      <td>0</td>\n",
       "      <td>0</td>\n",
       "      <td>0</td>\n",
       "      <td>0</td>\n",
       "      <td>0</td>\n",
       "      <td>0</td>\n",
       "      <td>0</td>\n",
       "      <td>0</td>\n",
       "      <td>0</td>\n",
       "    </tr>\n",
       "    <tr>\n",
       "      <th>7</th>\n",
       "      <td>BELGIUM</td>\n",
       "      <td>ACONITUM NAPELLUS!CODEINE!FORMIC ACID</td>\n",
       "      <td>3</td>\n",
       "      <td>0</td>\n",
       "      <td>1</td>\n",
       "      <td>0</td>\n",
       "      <td>0</td>\n",
       "      <td>0</td>\n",
       "      <td>0</td>\n",
       "      <td>0</td>\n",
       "      <td>...</td>\n",
       "      <td>0</td>\n",
       "      <td>0</td>\n",
       "      <td>0</td>\n",
       "      <td>0</td>\n",
       "      <td>0</td>\n",
       "      <td>0</td>\n",
       "      <td>0</td>\n",
       "      <td>0</td>\n",
       "      <td>0</td>\n",
       "      <td>0</td>\n",
       "    </tr>\n",
       "    <tr>\n",
       "      <th>8</th>\n",
       "      <td>BELGIUM</td>\n",
       "      <td>CODEINE</td>\n",
       "      <td>1</td>\n",
       "      <td>0</td>\n",
       "      <td>0</td>\n",
       "      <td>0</td>\n",
       "      <td>0</td>\n",
       "      <td>0</td>\n",
       "      <td>0</td>\n",
       "      <td>0</td>\n",
       "      <td>...</td>\n",
       "      <td>0</td>\n",
       "      <td>0</td>\n",
       "      <td>0</td>\n",
       "      <td>0</td>\n",
       "      <td>0</td>\n",
       "      <td>0</td>\n",
       "      <td>0</td>\n",
       "      <td>0</td>\n",
       "      <td>0</td>\n",
       "      <td>0</td>\n",
       "    </tr>\n",
       "    <tr>\n",
       "      <th>9</th>\n",
       "      <td>BELGIUM</td>\n",
       "      <td>CAFFEINE!CINNAMOMUM ZEYLANICUM!CODEINE!PHENAZO...</td>\n",
       "      <td>5</td>\n",
       "      <td>0</td>\n",
       "      <td>0</td>\n",
       "      <td>0</td>\n",
       "      <td>0</td>\n",
       "      <td>0</td>\n",
       "      <td>0</td>\n",
       "      <td>0</td>\n",
       "      <td>...</td>\n",
       "      <td>0</td>\n",
       "      <td>0</td>\n",
       "      <td>0</td>\n",
       "      <td>0</td>\n",
       "      <td>0</td>\n",
       "      <td>0</td>\n",
       "      <td>0</td>\n",
       "      <td>0</td>\n",
       "      <td>0</td>\n",
       "      <td>0</td>\n",
       "    </tr>\n",
       "    <tr>\n",
       "      <th>10</th>\n",
       "      <td>BELGIUM</td>\n",
       "      <td>ALLOBARBITAL!CODEINE!DROFENINE!PROPYPHENAZONE</td>\n",
       "      <td>4</td>\n",
       "      <td>0</td>\n",
       "      <td>0</td>\n",
       "      <td>1</td>\n",
       "      <td>0</td>\n",
       "      <td>0</td>\n",
       "      <td>0</td>\n",
       "      <td>0</td>\n",
       "      <td>...</td>\n",
       "      <td>0</td>\n",
       "      <td>0</td>\n",
       "      <td>0</td>\n",
       "      <td>0</td>\n",
       "      <td>0</td>\n",
       "      <td>0</td>\n",
       "      <td>0</td>\n",
       "      <td>0</td>\n",
       "      <td>0</td>\n",
       "      <td>0</td>\n",
       "    </tr>\n",
       "    <tr>\n",
       "      <th>11</th>\n",
       "      <td>BELGIUM</td>\n",
       "      <td>CODEINE!ETHYLMORPHINE!SULFOGAIACOL</td>\n",
       "      <td>3</td>\n",
       "      <td>0</td>\n",
       "      <td>0</td>\n",
       "      <td>0</td>\n",
       "      <td>0</td>\n",
       "      <td>0</td>\n",
       "      <td>0</td>\n",
       "      <td>0</td>\n",
       "      <td>...</td>\n",
       "      <td>0</td>\n",
       "      <td>0</td>\n",
       "      <td>0</td>\n",
       "      <td>0</td>\n",
       "      <td>0</td>\n",
       "      <td>0</td>\n",
       "      <td>0</td>\n",
       "      <td>0</td>\n",
       "      <td>0</td>\n",
       "      <td>0</td>\n",
       "    </tr>\n",
       "    <tr>\n",
       "      <th>12</th>\n",
       "      <td>BELGIUM</td>\n",
       "      <td>CODEINE!PARACETAMOL</td>\n",
       "      <td>2</td>\n",
       "      <td>0</td>\n",
       "      <td>0</td>\n",
       "      <td>0</td>\n",
       "      <td>0</td>\n",
       "      <td>0</td>\n",
       "      <td>0</td>\n",
       "      <td>0</td>\n",
       "      <td>...</td>\n",
       "      <td>0</td>\n",
       "      <td>0</td>\n",
       "      <td>0</td>\n",
       "      <td>0</td>\n",
       "      <td>0</td>\n",
       "      <td>0</td>\n",
       "      <td>0</td>\n",
       "      <td>0</td>\n",
       "      <td>0</td>\n",
       "      <td>0</td>\n",
       "    </tr>\n",
       "    <tr>\n",
       "      <th>13</th>\n",
       "      <td>BELGIUM</td>\n",
       "      <td>CODEINE</td>\n",
       "      <td>1</td>\n",
       "      <td>0</td>\n",
       "      <td>0</td>\n",
       "      <td>0</td>\n",
       "      <td>0</td>\n",
       "      <td>0</td>\n",
       "      <td>0</td>\n",
       "      <td>0</td>\n",
       "      <td>...</td>\n",
       "      <td>0</td>\n",
       "      <td>0</td>\n",
       "      <td>0</td>\n",
       "      <td>0</td>\n",
       "      <td>0</td>\n",
       "      <td>0</td>\n",
       "      <td>0</td>\n",
       "      <td>0</td>\n",
       "      <td>0</td>\n",
       "      <td>0</td>\n",
       "    </tr>\n",
       "    <tr>\n",
       "      <th>14</th>\n",
       "      <td>BELGIUM</td>\n",
       "      <td>ACONITUM NAPELLUS!CODEINE!FORMIC ACID!SISYMBRI...</td>\n",
       "      <td>5</td>\n",
       "      <td>0</td>\n",
       "      <td>1</td>\n",
       "      <td>0</td>\n",
       "      <td>0</td>\n",
       "      <td>0</td>\n",
       "      <td>0</td>\n",
       "      <td>0</td>\n",
       "      <td>...</td>\n",
       "      <td>0</td>\n",
       "      <td>0</td>\n",
       "      <td>0</td>\n",
       "      <td>0</td>\n",
       "      <td>0</td>\n",
       "      <td>0</td>\n",
       "      <td>0</td>\n",
       "      <td>0</td>\n",
       "      <td>0</td>\n",
       "      <td>0</td>\n",
       "    </tr>\n",
       "    <tr>\n",
       "      <th>15</th>\n",
       "      <td>BELGIUM</td>\n",
       "      <td>ACETYLSALICYLIC ACID!CAFFEINE!CODEINE!PARACETAMOL</td>\n",
       "      <td>4</td>\n",
       "      <td>1</td>\n",
       "      <td>0</td>\n",
       "      <td>0</td>\n",
       "      <td>0</td>\n",
       "      <td>0</td>\n",
       "      <td>0</td>\n",
       "      <td>0</td>\n",
       "      <td>...</td>\n",
       "      <td>0</td>\n",
       "      <td>0</td>\n",
       "      <td>0</td>\n",
       "      <td>0</td>\n",
       "      <td>0</td>\n",
       "      <td>0</td>\n",
       "      <td>0</td>\n",
       "      <td>0</td>\n",
       "      <td>0</td>\n",
       "      <td>0</td>\n",
       "    </tr>\n",
       "    <tr>\n",
       "      <th>16</th>\n",
       "      <td>BELGIUM</td>\n",
       "      <td>CINEOLE!CODEINE</td>\n",
       "      <td>2</td>\n",
       "      <td>0</td>\n",
       "      <td>0</td>\n",
       "      <td>0</td>\n",
       "      <td>0</td>\n",
       "      <td>0</td>\n",
       "      <td>0</td>\n",
       "      <td>0</td>\n",
       "      <td>...</td>\n",
       "      <td>0</td>\n",
       "      <td>0</td>\n",
       "      <td>0</td>\n",
       "      <td>0</td>\n",
       "      <td>0</td>\n",
       "      <td>0</td>\n",
       "      <td>0</td>\n",
       "      <td>0</td>\n",
       "      <td>0</td>\n",
       "      <td>0</td>\n",
       "    </tr>\n",
       "    <tr>\n",
       "      <th>17</th>\n",
       "      <td>BELGIUM</td>\n",
       "      <td>ACONITUM NAPELLUS!CODEINE!SULFOGAIACOL</td>\n",
       "      <td>3</td>\n",
       "      <td>0</td>\n",
       "      <td>1</td>\n",
       "      <td>0</td>\n",
       "      <td>0</td>\n",
       "      <td>0</td>\n",
       "      <td>0</td>\n",
       "      <td>0</td>\n",
       "      <td>...</td>\n",
       "      <td>0</td>\n",
       "      <td>0</td>\n",
       "      <td>0</td>\n",
       "      <td>0</td>\n",
       "      <td>0</td>\n",
       "      <td>0</td>\n",
       "      <td>0</td>\n",
       "      <td>0</td>\n",
       "      <td>0</td>\n",
       "      <td>0</td>\n",
       "    </tr>\n",
       "    <tr>\n",
       "      <th>18</th>\n",
       "      <td>BELGIUM</td>\n",
       "      <td>ACETYLSALICYLIC ACID!CAFFEINE!CODEINE!DIPHENHY...</td>\n",
       "      <td>4</td>\n",
       "      <td>1</td>\n",
       "      <td>0</td>\n",
       "      <td>0</td>\n",
       "      <td>0</td>\n",
       "      <td>0</td>\n",
       "      <td>0</td>\n",
       "      <td>0</td>\n",
       "      <td>...</td>\n",
       "      <td>0</td>\n",
       "      <td>0</td>\n",
       "      <td>0</td>\n",
       "      <td>0</td>\n",
       "      <td>0</td>\n",
       "      <td>0</td>\n",
       "      <td>0</td>\n",
       "      <td>0</td>\n",
       "      <td>0</td>\n",
       "      <td>0</td>\n",
       "    </tr>\n",
       "    <tr>\n",
       "      <th>19</th>\n",
       "      <td>BELGIUM</td>\n",
       "      <td>CODEINE!EPHEDRINE!ETHYLMORPHINE!GUAIFENESIN</td>\n",
       "      <td>4</td>\n",
       "      <td>0</td>\n",
       "      <td>0</td>\n",
       "      <td>0</td>\n",
       "      <td>0</td>\n",
       "      <td>0</td>\n",
       "      <td>0</td>\n",
       "      <td>0</td>\n",
       "      <td>...</td>\n",
       "      <td>0</td>\n",
       "      <td>0</td>\n",
       "      <td>0</td>\n",
       "      <td>0</td>\n",
       "      <td>0</td>\n",
       "      <td>0</td>\n",
       "      <td>0</td>\n",
       "      <td>0</td>\n",
       "      <td>0</td>\n",
       "      <td>0</td>\n",
       "    </tr>\n",
       "    <tr>\n",
       "      <th>20</th>\n",
       "      <td>BELGIUM</td>\n",
       "      <td>ACONITUM NAPELLUS!BENZOIC ACID!CODEINE!PRUNUS ...</td>\n",
       "      <td>4</td>\n",
       "      <td>0</td>\n",
       "      <td>1</td>\n",
       "      <td>0</td>\n",
       "      <td>0</td>\n",
       "      <td>0</td>\n",
       "      <td>0</td>\n",
       "      <td>0</td>\n",
       "      <td>...</td>\n",
       "      <td>0</td>\n",
       "      <td>0</td>\n",
       "      <td>0</td>\n",
       "      <td>0</td>\n",
       "      <td>0</td>\n",
       "      <td>0</td>\n",
       "      <td>0</td>\n",
       "      <td>0</td>\n",
       "      <td>0</td>\n",
       "      <td>0</td>\n",
       "    </tr>\n",
       "    <tr>\n",
       "      <th>21</th>\n",
       "      <td>BELGIUM</td>\n",
       "      <td>ACONITUM NAPELLUS!ATROPA BELLADONNA!CAMPHORSUL...</td>\n",
       "      <td>8</td>\n",
       "      <td>0</td>\n",
       "      <td>1</td>\n",
       "      <td>0</td>\n",
       "      <td>0</td>\n",
       "      <td>0</td>\n",
       "      <td>0</td>\n",
       "      <td>0</td>\n",
       "      <td>...</td>\n",
       "      <td>0</td>\n",
       "      <td>0</td>\n",
       "      <td>0</td>\n",
       "      <td>0</td>\n",
       "      <td>0</td>\n",
       "      <td>0</td>\n",
       "      <td>0</td>\n",
       "      <td>0</td>\n",
       "      <td>0</td>\n",
       "      <td>0</td>\n",
       "    </tr>\n",
       "    <tr>\n",
       "      <th>22</th>\n",
       "      <td>BELGIUM</td>\n",
       "      <td>ACETYLSALICYLIC ACID!AMBUCETAMIDE!CAFFEINE!COD...</td>\n",
       "      <td>5</td>\n",
       "      <td>1</td>\n",
       "      <td>0</td>\n",
       "      <td>0</td>\n",
       "      <td>0</td>\n",
       "      <td>0</td>\n",
       "      <td>1</td>\n",
       "      <td>0</td>\n",
       "      <td>...</td>\n",
       "      <td>0</td>\n",
       "      <td>0</td>\n",
       "      <td>0</td>\n",
       "      <td>0</td>\n",
       "      <td>0</td>\n",
       "      <td>0</td>\n",
       "      <td>0</td>\n",
       "      <td>0</td>\n",
       "      <td>0</td>\n",
       "      <td>0</td>\n",
       "    </tr>\n",
       "    <tr>\n",
       "      <th>23</th>\n",
       "      <td>BELGIUM</td>\n",
       "      <td>ASCORBIC ACID!CAFFEINE!CODEINE!CRESOTAMIDE!PAR...</td>\n",
       "      <td>5</td>\n",
       "      <td>0</td>\n",
       "      <td>0</td>\n",
       "      <td>0</td>\n",
       "      <td>0</td>\n",
       "      <td>0</td>\n",
       "      <td>0</td>\n",
       "      <td>0</td>\n",
       "      <td>...</td>\n",
       "      <td>0</td>\n",
       "      <td>0</td>\n",
       "      <td>0</td>\n",
       "      <td>0</td>\n",
       "      <td>0</td>\n",
       "      <td>0</td>\n",
       "      <td>0</td>\n",
       "      <td>0</td>\n",
       "      <td>0</td>\n",
       "      <td>0</td>\n",
       "    </tr>\n",
       "    <tr>\n",
       "      <th>24</th>\n",
       "      <td>BELGIUM</td>\n",
       "      <td>ACONITUM NAPELLUS!ATROPA BELLADONNA!BROMOFORM!...</td>\n",
       "      <td>7</td>\n",
       "      <td>0</td>\n",
       "      <td>1</td>\n",
       "      <td>0</td>\n",
       "      <td>0</td>\n",
       "      <td>0</td>\n",
       "      <td>0</td>\n",
       "      <td>0</td>\n",
       "      <td>...</td>\n",
       "      <td>0</td>\n",
       "      <td>0</td>\n",
       "      <td>0</td>\n",
       "      <td>0</td>\n",
       "      <td>0</td>\n",
       "      <td>0</td>\n",
       "      <td>0</td>\n",
       "      <td>0</td>\n",
       "      <td>0</td>\n",
       "      <td>0</td>\n",
       "    </tr>\n",
       "    <tr>\n",
       "      <th>25</th>\n",
       "      <td>BELGIUM</td>\n",
       "      <td>CODEINE</td>\n",
       "      <td>1</td>\n",
       "      <td>0</td>\n",
       "      <td>0</td>\n",
       "      <td>0</td>\n",
       "      <td>0</td>\n",
       "      <td>0</td>\n",
       "      <td>0</td>\n",
       "      <td>0</td>\n",
       "      <td>...</td>\n",
       "      <td>0</td>\n",
       "      <td>0</td>\n",
       "      <td>0</td>\n",
       "      <td>0</td>\n",
       "      <td>0</td>\n",
       "      <td>0</td>\n",
       "      <td>0</td>\n",
       "      <td>0</td>\n",
       "      <td>0</td>\n",
       "      <td>0</td>\n",
       "    </tr>\n",
       "    <tr>\n",
       "      <th>26</th>\n",
       "      <td>BELGIUM</td>\n",
       "      <td>ASCORBIC ACID!BENZOIC ACID!CEPHAELIS IPECACUAN...</td>\n",
       "      <td>6</td>\n",
       "      <td>0</td>\n",
       "      <td>0</td>\n",
       "      <td>0</td>\n",
       "      <td>0</td>\n",
       "      <td>0</td>\n",
       "      <td>0</td>\n",
       "      <td>0</td>\n",
       "      <td>...</td>\n",
       "      <td>0</td>\n",
       "      <td>0</td>\n",
       "      <td>0</td>\n",
       "      <td>0</td>\n",
       "      <td>0</td>\n",
       "      <td>0</td>\n",
       "      <td>0</td>\n",
       "      <td>0</td>\n",
       "      <td>0</td>\n",
       "      <td>0</td>\n",
       "    </tr>\n",
       "    <tr>\n",
       "      <th>27</th>\n",
       "      <td>BELGIUM</td>\n",
       "      <td>CODEINE</td>\n",
       "      <td>1</td>\n",
       "      <td>0</td>\n",
       "      <td>0</td>\n",
       "      <td>0</td>\n",
       "      <td>0</td>\n",
       "      <td>0</td>\n",
       "      <td>0</td>\n",
       "      <td>0</td>\n",
       "      <td>...</td>\n",
       "      <td>0</td>\n",
       "      <td>0</td>\n",
       "      <td>0</td>\n",
       "      <td>0</td>\n",
       "      <td>0</td>\n",
       "      <td>0</td>\n",
       "      <td>0</td>\n",
       "      <td>0</td>\n",
       "      <td>0</td>\n",
       "      <td>0</td>\n",
       "    </tr>\n",
       "    <tr>\n",
       "      <th>28</th>\n",
       "      <td>BELGIUM</td>\n",
       "      <td>ACETYLSALICYLIC ACID!CAFFEINE!CODEINE</td>\n",
       "      <td>3</td>\n",
       "      <td>1</td>\n",
       "      <td>0</td>\n",
       "      <td>0</td>\n",
       "      <td>0</td>\n",
       "      <td>0</td>\n",
       "      <td>0</td>\n",
       "      <td>0</td>\n",
       "      <td>...</td>\n",
       "      <td>0</td>\n",
       "      <td>0</td>\n",
       "      <td>0</td>\n",
       "      <td>0</td>\n",
       "      <td>0</td>\n",
       "      <td>0</td>\n",
       "      <td>0</td>\n",
       "      <td>0</td>\n",
       "      <td>0</td>\n",
       "      <td>0</td>\n",
       "    </tr>\n",
       "    <tr>\n",
       "      <th>29</th>\n",
       "      <td>BELGIUM</td>\n",
       "      <td>CODEINE</td>\n",
       "      <td>1</td>\n",
       "      <td>0</td>\n",
       "      <td>0</td>\n",
       "      <td>0</td>\n",
       "      <td>0</td>\n",
       "      <td>0</td>\n",
       "      <td>0</td>\n",
       "      <td>0</td>\n",
       "      <td>...</td>\n",
       "      <td>0</td>\n",
       "      <td>0</td>\n",
       "      <td>0</td>\n",
       "      <td>0</td>\n",
       "      <td>0</td>\n",
       "      <td>0</td>\n",
       "      <td>0</td>\n",
       "      <td>0</td>\n",
       "      <td>0</td>\n",
       "      <td>0</td>\n",
       "    </tr>\n",
       "    <tr>\n",
       "      <th>...</th>\n",
       "      <td>...</td>\n",
       "      <td>...</td>\n",
       "      <td>...</td>\n",
       "      <td>...</td>\n",
       "      <td>...</td>\n",
       "      <td>...</td>\n",
       "      <td>...</td>\n",
       "      <td>...</td>\n",
       "      <td>...</td>\n",
       "      <td>...</td>\n",
       "      <td>...</td>\n",
       "      <td>...</td>\n",
       "      <td>...</td>\n",
       "      <td>...</td>\n",
       "      <td>...</td>\n",
       "      <td>...</td>\n",
       "      <td>...</td>\n",
       "      <td>...</td>\n",
       "      <td>...</td>\n",
       "      <td>...</td>\n",
       "      <td>...</td>\n",
       "    </tr>\n",
       "    <tr>\n",
       "      <th>539</th>\n",
       "      <td>UK</td>\n",
       "      <td>CODEINE!PARACETAMOL</td>\n",
       "      <td>2</td>\n",
       "      <td>0</td>\n",
       "      <td>0</td>\n",
       "      <td>0</td>\n",
       "      <td>0</td>\n",
       "      <td>0</td>\n",
       "      <td>0</td>\n",
       "      <td>0</td>\n",
       "      <td>...</td>\n",
       "      <td>0</td>\n",
       "      <td>0</td>\n",
       "      <td>0</td>\n",
       "      <td>0</td>\n",
       "      <td>0</td>\n",
       "      <td>0</td>\n",
       "      <td>0</td>\n",
       "      <td>0</td>\n",
       "      <td>0</td>\n",
       "      <td>0</td>\n",
       "    </tr>\n",
       "    <tr>\n",
       "      <th>540</th>\n",
       "      <td>UK</td>\n",
       "      <td>CODEINE</td>\n",
       "      <td>1</td>\n",
       "      <td>0</td>\n",
       "      <td>0</td>\n",
       "      <td>0</td>\n",
       "      <td>0</td>\n",
       "      <td>0</td>\n",
       "      <td>0</td>\n",
       "      <td>0</td>\n",
       "      <td>...</td>\n",
       "      <td>0</td>\n",
       "      <td>0</td>\n",
       "      <td>0</td>\n",
       "      <td>0</td>\n",
       "      <td>0</td>\n",
       "      <td>0</td>\n",
       "      <td>0</td>\n",
       "      <td>0</td>\n",
       "      <td>0</td>\n",
       "      <td>0</td>\n",
       "    </tr>\n",
       "    <tr>\n",
       "      <th>541</th>\n",
       "      <td>UK</td>\n",
       "      <td>BUCLIZINE!CODEINE!PARACETAMOL</td>\n",
       "      <td>3</td>\n",
       "      <td>0</td>\n",
       "      <td>0</td>\n",
       "      <td>0</td>\n",
       "      <td>0</td>\n",
       "      <td>0</td>\n",
       "      <td>0</td>\n",
       "      <td>0</td>\n",
       "      <td>...</td>\n",
       "      <td>0</td>\n",
       "      <td>0</td>\n",
       "      <td>0</td>\n",
       "      <td>0</td>\n",
       "      <td>0</td>\n",
       "      <td>0</td>\n",
       "      <td>0</td>\n",
       "      <td>0</td>\n",
       "      <td>0</td>\n",
       "      <td>0</td>\n",
       "    </tr>\n",
       "    <tr>\n",
       "      <th>542</th>\n",
       "      <td>UK</td>\n",
       "      <td>CODEINE!IBUPROFEN</td>\n",
       "      <td>2</td>\n",
       "      <td>0</td>\n",
       "      <td>0</td>\n",
       "      <td>0</td>\n",
       "      <td>0</td>\n",
       "      <td>0</td>\n",
       "      <td>0</td>\n",
       "      <td>0</td>\n",
       "      <td>...</td>\n",
       "      <td>0</td>\n",
       "      <td>0</td>\n",
       "      <td>0</td>\n",
       "      <td>0</td>\n",
       "      <td>0</td>\n",
       "      <td>0</td>\n",
       "      <td>0</td>\n",
       "      <td>0</td>\n",
       "      <td>0</td>\n",
       "      <td>0</td>\n",
       "    </tr>\n",
       "    <tr>\n",
       "      <th>543</th>\n",
       "      <td>UK</td>\n",
       "      <td>CODEINE!PARACETAMOL</td>\n",
       "      <td>2</td>\n",
       "      <td>0</td>\n",
       "      <td>0</td>\n",
       "      <td>0</td>\n",
       "      <td>0</td>\n",
       "      <td>0</td>\n",
       "      <td>0</td>\n",
       "      <td>0</td>\n",
       "      <td>...</td>\n",
       "      <td>0</td>\n",
       "      <td>0</td>\n",
       "      <td>0</td>\n",
       "      <td>0</td>\n",
       "      <td>0</td>\n",
       "      <td>0</td>\n",
       "      <td>0</td>\n",
       "      <td>0</td>\n",
       "      <td>0</td>\n",
       "      <td>0</td>\n",
       "    </tr>\n",
       "    <tr>\n",
       "      <th>544</th>\n",
       "      <td>UK</td>\n",
       "      <td>CODEINE!PARACETAMOL</td>\n",
       "      <td>2</td>\n",
       "      <td>0</td>\n",
       "      <td>0</td>\n",
       "      <td>0</td>\n",
       "      <td>0</td>\n",
       "      <td>0</td>\n",
       "      <td>0</td>\n",
       "      <td>0</td>\n",
       "      <td>...</td>\n",
       "      <td>0</td>\n",
       "      <td>0</td>\n",
       "      <td>0</td>\n",
       "      <td>0</td>\n",
       "      <td>0</td>\n",
       "      <td>0</td>\n",
       "      <td>0</td>\n",
       "      <td>0</td>\n",
       "      <td>0</td>\n",
       "      <td>0</td>\n",
       "    </tr>\n",
       "    <tr>\n",
       "      <th>545</th>\n",
       "      <td>UK</td>\n",
       "      <td>CODEINE!IBUPROFEN</td>\n",
       "      <td>2</td>\n",
       "      <td>0</td>\n",
       "      <td>0</td>\n",
       "      <td>0</td>\n",
       "      <td>0</td>\n",
       "      <td>0</td>\n",
       "      <td>0</td>\n",
       "      <td>0</td>\n",
       "      <td>...</td>\n",
       "      <td>0</td>\n",
       "      <td>0</td>\n",
       "      <td>0</td>\n",
       "      <td>0</td>\n",
       "      <td>0</td>\n",
       "      <td>0</td>\n",
       "      <td>0</td>\n",
       "      <td>0</td>\n",
       "      <td>0</td>\n",
       "      <td>0</td>\n",
       "    </tr>\n",
       "    <tr>\n",
       "      <th>546</th>\n",
       "      <td>UK</td>\n",
       "      <td>CAFFEINE!CODEINE!DOXYLAMINE!PARACETAMOL</td>\n",
       "      <td>4</td>\n",
       "      <td>0</td>\n",
       "      <td>0</td>\n",
       "      <td>0</td>\n",
       "      <td>0</td>\n",
       "      <td>0</td>\n",
       "      <td>0</td>\n",
       "      <td>0</td>\n",
       "      <td>...</td>\n",
       "      <td>0</td>\n",
       "      <td>0</td>\n",
       "      <td>0</td>\n",
       "      <td>0</td>\n",
       "      <td>0</td>\n",
       "      <td>0</td>\n",
       "      <td>0</td>\n",
       "      <td>0</td>\n",
       "      <td>0</td>\n",
       "      <td>0</td>\n",
       "    </tr>\n",
       "    <tr>\n",
       "      <th>547</th>\n",
       "      <td>UK</td>\n",
       "      <td>CAFFEINE!CODEINE!PARACETAMOL</td>\n",
       "      <td>3</td>\n",
       "      <td>0</td>\n",
       "      <td>0</td>\n",
       "      <td>0</td>\n",
       "      <td>0</td>\n",
       "      <td>0</td>\n",
       "      <td>0</td>\n",
       "      <td>0</td>\n",
       "      <td>...</td>\n",
       "      <td>0</td>\n",
       "      <td>0</td>\n",
       "      <td>0</td>\n",
       "      <td>0</td>\n",
       "      <td>0</td>\n",
       "      <td>0</td>\n",
       "      <td>0</td>\n",
       "      <td>0</td>\n",
       "      <td>0</td>\n",
       "      <td>0</td>\n",
       "    </tr>\n",
       "    <tr>\n",
       "      <th>548</th>\n",
       "      <td>UK</td>\n",
       "      <td>CODEINE!PARACETAMOL</td>\n",
       "      <td>2</td>\n",
       "      <td>0</td>\n",
       "      <td>0</td>\n",
       "      <td>0</td>\n",
       "      <td>0</td>\n",
       "      <td>0</td>\n",
       "      <td>0</td>\n",
       "      <td>0</td>\n",
       "      <td>...</td>\n",
       "      <td>0</td>\n",
       "      <td>0</td>\n",
       "      <td>0</td>\n",
       "      <td>0</td>\n",
       "      <td>0</td>\n",
       "      <td>0</td>\n",
       "      <td>0</td>\n",
       "      <td>0</td>\n",
       "      <td>0</td>\n",
       "      <td>0</td>\n",
       "    </tr>\n",
       "    <tr>\n",
       "      <th>549</th>\n",
       "      <td>UK</td>\n",
       "      <td>CAFFEINE!CODEINE!DOXYLAMINE!PARACETAMOL</td>\n",
       "      <td>4</td>\n",
       "      <td>0</td>\n",
       "      <td>0</td>\n",
       "      <td>0</td>\n",
       "      <td>0</td>\n",
       "      <td>0</td>\n",
       "      <td>0</td>\n",
       "      <td>0</td>\n",
       "      <td>...</td>\n",
       "      <td>0</td>\n",
       "      <td>0</td>\n",
       "      <td>0</td>\n",
       "      <td>0</td>\n",
       "      <td>0</td>\n",
       "      <td>0</td>\n",
       "      <td>0</td>\n",
       "      <td>0</td>\n",
       "      <td>0</td>\n",
       "      <td>0</td>\n",
       "    </tr>\n",
       "    <tr>\n",
       "      <th>550</th>\n",
       "      <td>UK</td>\n",
       "      <td>CAFFEINE!CODEINE!DOXYLAMINE!PARACETAMOL</td>\n",
       "      <td>4</td>\n",
       "      <td>0</td>\n",
       "      <td>0</td>\n",
       "      <td>0</td>\n",
       "      <td>0</td>\n",
       "      <td>0</td>\n",
       "      <td>0</td>\n",
       "      <td>0</td>\n",
       "      <td>...</td>\n",
       "      <td>0</td>\n",
       "      <td>0</td>\n",
       "      <td>0</td>\n",
       "      <td>0</td>\n",
       "      <td>0</td>\n",
       "      <td>0</td>\n",
       "      <td>0</td>\n",
       "      <td>0</td>\n",
       "      <td>0</td>\n",
       "      <td>0</td>\n",
       "    </tr>\n",
       "    <tr>\n",
       "      <th>551</th>\n",
       "      <td>UK</td>\n",
       "      <td>CODEINE!PARACETAMOL</td>\n",
       "      <td>2</td>\n",
       "      <td>0</td>\n",
       "      <td>0</td>\n",
       "      <td>0</td>\n",
       "      <td>0</td>\n",
       "      <td>0</td>\n",
       "      <td>0</td>\n",
       "      <td>0</td>\n",
       "      <td>...</td>\n",
       "      <td>0</td>\n",
       "      <td>0</td>\n",
       "      <td>0</td>\n",
       "      <td>0</td>\n",
       "      <td>0</td>\n",
       "      <td>0</td>\n",
       "      <td>0</td>\n",
       "      <td>0</td>\n",
       "      <td>0</td>\n",
       "      <td>0</td>\n",
       "    </tr>\n",
       "    <tr>\n",
       "      <th>552</th>\n",
       "      <td>UK</td>\n",
       "      <td>ACETYLSALICYLIC ACID!CODEINE</td>\n",
       "      <td>2</td>\n",
       "      <td>1</td>\n",
       "      <td>0</td>\n",
       "      <td>0</td>\n",
       "      <td>0</td>\n",
       "      <td>0</td>\n",
       "      <td>0</td>\n",
       "      <td>0</td>\n",
       "      <td>...</td>\n",
       "      <td>0</td>\n",
       "      <td>0</td>\n",
       "      <td>0</td>\n",
       "      <td>0</td>\n",
       "      <td>0</td>\n",
       "      <td>0</td>\n",
       "      <td>0</td>\n",
       "      <td>0</td>\n",
       "      <td>0</td>\n",
       "      <td>0</td>\n",
       "    </tr>\n",
       "    <tr>\n",
       "      <th>553</th>\n",
       "      <td>UK</td>\n",
       "      <td>CAFFEINE!CODEINE!PARACETAMOL</td>\n",
       "      <td>3</td>\n",
       "      <td>0</td>\n",
       "      <td>0</td>\n",
       "      <td>0</td>\n",
       "      <td>0</td>\n",
       "      <td>0</td>\n",
       "      <td>0</td>\n",
       "      <td>0</td>\n",
       "      <td>...</td>\n",
       "      <td>0</td>\n",
       "      <td>0</td>\n",
       "      <td>0</td>\n",
       "      <td>0</td>\n",
       "      <td>0</td>\n",
       "      <td>0</td>\n",
       "      <td>0</td>\n",
       "      <td>0</td>\n",
       "      <td>0</td>\n",
       "      <td>0</td>\n",
       "    </tr>\n",
       "    <tr>\n",
       "      <th>554</th>\n",
       "      <td>UK</td>\n",
       "      <td>CAFFEINE!CODEINE!PARACETAMOL</td>\n",
       "      <td>3</td>\n",
       "      <td>0</td>\n",
       "      <td>0</td>\n",
       "      <td>0</td>\n",
       "      <td>0</td>\n",
       "      <td>0</td>\n",
       "      <td>0</td>\n",
       "      <td>0</td>\n",
       "      <td>...</td>\n",
       "      <td>0</td>\n",
       "      <td>0</td>\n",
       "      <td>0</td>\n",
       "      <td>0</td>\n",
       "      <td>0</td>\n",
       "      <td>0</td>\n",
       "      <td>0</td>\n",
       "      <td>0</td>\n",
       "      <td>0</td>\n",
       "      <td>0</td>\n",
       "    </tr>\n",
       "    <tr>\n",
       "      <th>555</th>\n",
       "      <td>UK</td>\n",
       "      <td>BUCLIZINE!CODEINE!PARACETAMOL</td>\n",
       "      <td>3</td>\n",
       "      <td>0</td>\n",
       "      <td>0</td>\n",
       "      <td>0</td>\n",
       "      <td>0</td>\n",
       "      <td>0</td>\n",
       "      <td>0</td>\n",
       "      <td>0</td>\n",
       "      <td>...</td>\n",
       "      <td>0</td>\n",
       "      <td>0</td>\n",
       "      <td>0</td>\n",
       "      <td>0</td>\n",
       "      <td>0</td>\n",
       "      <td>0</td>\n",
       "      <td>0</td>\n",
       "      <td>0</td>\n",
       "      <td>0</td>\n",
       "      <td>0</td>\n",
       "    </tr>\n",
       "    <tr>\n",
       "      <th>556</th>\n",
       "      <td>UK</td>\n",
       "      <td>CODEINE!GUAIACOL!PHOSPHORIC ACID</td>\n",
       "      <td>3</td>\n",
       "      <td>0</td>\n",
       "      <td>0</td>\n",
       "      <td>0</td>\n",
       "      <td>0</td>\n",
       "      <td>0</td>\n",
       "      <td>0</td>\n",
       "      <td>0</td>\n",
       "      <td>...</td>\n",
       "      <td>0</td>\n",
       "      <td>0</td>\n",
       "      <td>0</td>\n",
       "      <td>0</td>\n",
       "      <td>0</td>\n",
       "      <td>0</td>\n",
       "      <td>0</td>\n",
       "      <td>0</td>\n",
       "      <td>0</td>\n",
       "      <td>0</td>\n",
       "    </tr>\n",
       "    <tr>\n",
       "      <th>557</th>\n",
       "      <td>UK</td>\n",
       "      <td>CAFFEINE!CODEINE!PARACETAMOL</td>\n",
       "      <td>3</td>\n",
       "      <td>0</td>\n",
       "      <td>0</td>\n",
       "      <td>0</td>\n",
       "      <td>0</td>\n",
       "      <td>0</td>\n",
       "      <td>0</td>\n",
       "      <td>0</td>\n",
       "      <td>...</td>\n",
       "      <td>0</td>\n",
       "      <td>0</td>\n",
       "      <td>0</td>\n",
       "      <td>0</td>\n",
       "      <td>0</td>\n",
       "      <td>0</td>\n",
       "      <td>0</td>\n",
       "      <td>0</td>\n",
       "      <td>0</td>\n",
       "      <td>0</td>\n",
       "    </tr>\n",
       "    <tr>\n",
       "      <th>558</th>\n",
       "      <td>UK</td>\n",
       "      <td>ASCORBIC ACID!CAFFEINE!CODEINE!DIPHENHYDRAMINE...</td>\n",
       "      <td>6</td>\n",
       "      <td>0</td>\n",
       "      <td>0</td>\n",
       "      <td>0</td>\n",
       "      <td>0</td>\n",
       "      <td>0</td>\n",
       "      <td>0</td>\n",
       "      <td>0</td>\n",
       "      <td>...</td>\n",
       "      <td>0</td>\n",
       "      <td>0</td>\n",
       "      <td>0</td>\n",
       "      <td>0</td>\n",
       "      <td>0</td>\n",
       "      <td>0</td>\n",
       "      <td>0</td>\n",
       "      <td>0</td>\n",
       "      <td>0</td>\n",
       "      <td>0</td>\n",
       "    </tr>\n",
       "    <tr>\n",
       "      <th>559</th>\n",
       "      <td>UK</td>\n",
       "      <td>CODEINE!IBUPROFEN</td>\n",
       "      <td>2</td>\n",
       "      <td>0</td>\n",
       "      <td>0</td>\n",
       "      <td>0</td>\n",
       "      <td>0</td>\n",
       "      <td>0</td>\n",
       "      <td>0</td>\n",
       "      <td>0</td>\n",
       "      <td>...</td>\n",
       "      <td>0</td>\n",
       "      <td>0</td>\n",
       "      <td>0</td>\n",
       "      <td>0</td>\n",
       "      <td>0</td>\n",
       "      <td>0</td>\n",
       "      <td>0</td>\n",
       "      <td>0</td>\n",
       "      <td>0</td>\n",
       "      <td>0</td>\n",
       "    </tr>\n",
       "    <tr>\n",
       "      <th>560</th>\n",
       "      <td>UK</td>\n",
       "      <td>CAFFEINE!CODEINE!PARACETAMOL</td>\n",
       "      <td>3</td>\n",
       "      <td>0</td>\n",
       "      <td>0</td>\n",
       "      <td>0</td>\n",
       "      <td>0</td>\n",
       "      <td>0</td>\n",
       "      <td>0</td>\n",
       "      <td>0</td>\n",
       "      <td>...</td>\n",
       "      <td>0</td>\n",
       "      <td>0</td>\n",
       "      <td>0</td>\n",
       "      <td>0</td>\n",
       "      <td>0</td>\n",
       "      <td>0</td>\n",
       "      <td>0</td>\n",
       "      <td>0</td>\n",
       "      <td>0</td>\n",
       "      <td>0</td>\n",
       "    </tr>\n",
       "    <tr>\n",
       "      <th>561</th>\n",
       "      <td>UK</td>\n",
       "      <td>ACETYLSALICYLIC ACID!CODEINE</td>\n",
       "      <td>2</td>\n",
       "      <td>1</td>\n",
       "      <td>0</td>\n",
       "      <td>0</td>\n",
       "      <td>0</td>\n",
       "      <td>0</td>\n",
       "      <td>0</td>\n",
       "      <td>0</td>\n",
       "      <td>...</td>\n",
       "      <td>0</td>\n",
       "      <td>0</td>\n",
       "      <td>0</td>\n",
       "      <td>0</td>\n",
       "      <td>0</td>\n",
       "      <td>0</td>\n",
       "      <td>0</td>\n",
       "      <td>0</td>\n",
       "      <td>0</td>\n",
       "      <td>0</td>\n",
       "    </tr>\n",
       "    <tr>\n",
       "      <th>562</th>\n",
       "      <td>UK</td>\n",
       "      <td>CODEINE!TERPIN HYDRATE</td>\n",
       "      <td>2</td>\n",
       "      <td>0</td>\n",
       "      <td>0</td>\n",
       "      <td>0</td>\n",
       "      <td>0</td>\n",
       "      <td>0</td>\n",
       "      <td>0</td>\n",
       "      <td>0</td>\n",
       "      <td>...</td>\n",
       "      <td>0</td>\n",
       "      <td>0</td>\n",
       "      <td>0</td>\n",
       "      <td>0</td>\n",
       "      <td>0</td>\n",
       "      <td>0</td>\n",
       "      <td>0</td>\n",
       "      <td>0</td>\n",
       "      <td>0</td>\n",
       "      <td>0</td>\n",
       "    </tr>\n",
       "    <tr>\n",
       "      <th>563</th>\n",
       "      <td>UK</td>\n",
       "      <td>BROMPHENIRAMINE!CODEINE!PSEUDOEPHEDRINE</td>\n",
       "      <td>3</td>\n",
       "      <td>0</td>\n",
       "      <td>0</td>\n",
       "      <td>0</td>\n",
       "      <td>0</td>\n",
       "      <td>0</td>\n",
       "      <td>0</td>\n",
       "      <td>0</td>\n",
       "      <td>...</td>\n",
       "      <td>0</td>\n",
       "      <td>0</td>\n",
       "      <td>0</td>\n",
       "      <td>0</td>\n",
       "      <td>0</td>\n",
       "      <td>0</td>\n",
       "      <td>0</td>\n",
       "      <td>0</td>\n",
       "      <td>0</td>\n",
       "      <td>0</td>\n",
       "    </tr>\n",
       "    <tr>\n",
       "      <th>564</th>\n",
       "      <td>UK</td>\n",
       "      <td>CAFFEINE!CODEINE!PARACETAMOL</td>\n",
       "      <td>3</td>\n",
       "      <td>0</td>\n",
       "      <td>0</td>\n",
       "      <td>0</td>\n",
       "      <td>0</td>\n",
       "      <td>0</td>\n",
       "      <td>0</td>\n",
       "      <td>0</td>\n",
       "      <td>...</td>\n",
       "      <td>0</td>\n",
       "      <td>0</td>\n",
       "      <td>0</td>\n",
       "      <td>0</td>\n",
       "      <td>0</td>\n",
       "      <td>0</td>\n",
       "      <td>0</td>\n",
       "      <td>0</td>\n",
       "      <td>0</td>\n",
       "      <td>0</td>\n",
       "    </tr>\n",
       "    <tr>\n",
       "      <th>565</th>\n",
       "      <td>UK</td>\n",
       "      <td>CAFFEINE!CODEINE!PARACETAMOL</td>\n",
       "      <td>3</td>\n",
       "      <td>0</td>\n",
       "      <td>0</td>\n",
       "      <td>0</td>\n",
       "      <td>0</td>\n",
       "      <td>0</td>\n",
       "      <td>0</td>\n",
       "      <td>0</td>\n",
       "      <td>...</td>\n",
       "      <td>0</td>\n",
       "      <td>0</td>\n",
       "      <td>0</td>\n",
       "      <td>0</td>\n",
       "      <td>0</td>\n",
       "      <td>0</td>\n",
       "      <td>0</td>\n",
       "      <td>0</td>\n",
       "      <td>0</td>\n",
       "      <td>0</td>\n",
       "    </tr>\n",
       "    <tr>\n",
       "      <th>566</th>\n",
       "      <td>USA</td>\n",
       "      <td>CODEINE!DEXTROMETHORPHAN!PARACETAMOL!PSEUDOEPH...</td>\n",
       "      <td>4</td>\n",
       "      <td>0</td>\n",
       "      <td>0</td>\n",
       "      <td>0</td>\n",
       "      <td>0</td>\n",
       "      <td>0</td>\n",
       "      <td>0</td>\n",
       "      <td>0</td>\n",
       "      <td>...</td>\n",
       "      <td>0</td>\n",
       "      <td>0</td>\n",
       "      <td>0</td>\n",
       "      <td>0</td>\n",
       "      <td>0</td>\n",
       "      <td>0</td>\n",
       "      <td>0</td>\n",
       "      <td>0</td>\n",
       "      <td>0</td>\n",
       "      <td>0</td>\n",
       "    </tr>\n",
       "    <tr>\n",
       "      <th>567</th>\n",
       "      <td>USA</td>\n",
       "      <td>CODEINE!GUAIFENESIN</td>\n",
       "      <td>2</td>\n",
       "      <td>0</td>\n",
       "      <td>0</td>\n",
       "      <td>0</td>\n",
       "      <td>0</td>\n",
       "      <td>0</td>\n",
       "      <td>0</td>\n",
       "      <td>0</td>\n",
       "      <td>...</td>\n",
       "      <td>0</td>\n",
       "      <td>0</td>\n",
       "      <td>0</td>\n",
       "      <td>0</td>\n",
       "      <td>0</td>\n",
       "      <td>0</td>\n",
       "      <td>0</td>\n",
       "      <td>0</td>\n",
       "      <td>0</td>\n",
       "      <td>0</td>\n",
       "    </tr>\n",
       "    <tr>\n",
       "      <th>568</th>\n",
       "      <td>USA</td>\n",
       "      <td>CODEINE!GUAIFENESIN</td>\n",
       "      <td>2</td>\n",
       "      <td>0</td>\n",
       "      <td>0</td>\n",
       "      <td>0</td>\n",
       "      <td>0</td>\n",
       "      <td>0</td>\n",
       "      <td>0</td>\n",
       "      <td>0</td>\n",
       "      <td>...</td>\n",
       "      <td>0</td>\n",
       "      <td>0</td>\n",
       "      <td>0</td>\n",
       "      <td>0</td>\n",
       "      <td>0</td>\n",
       "      <td>0</td>\n",
       "      <td>0</td>\n",
       "      <td>0</td>\n",
       "      <td>0</td>\n",
       "      <td>0</td>\n",
       "    </tr>\n",
       "  </tbody>\n",
       "</table>\n",
       "<p>569 rows × 153 columns</p>\n",
       "</div>"
      ],
      "text/plain": [
       "       Country                                          Molecules  \\\n",
       "0    ARGENTINA  BENZOIC ACID!CODEINE!CRATAEGUS LAEVIGATA!ETHYL...   \n",
       "1      BELGIUM             ACONITUM NAPELLUS!CODEINE!SULFOGAIACOL   \n",
       "2      BELGIUM  BROMOFORM!CAMPHOR!CINEOLE!CODEINE!GUAIACOL!PHENOL   \n",
       "3      BELGIUM                                            CODEINE   \n",
       "4      BELGIUM        CODEINE!EPHEDRINE!ETHYLMORPHINE!GUAIFENESIN   \n",
       "5      BELGIUM                                            CODEINE   \n",
       "6      BELGIUM                                    CINEOLE!CODEINE   \n",
       "7      BELGIUM              ACONITUM NAPELLUS!CODEINE!FORMIC ACID   \n",
       "8      BELGIUM                                            CODEINE   \n",
       "9      BELGIUM  CAFFEINE!CINNAMOMUM ZEYLANICUM!CODEINE!PHENAZO...   \n",
       "10     BELGIUM      ALLOBARBITAL!CODEINE!DROFENINE!PROPYPHENAZONE   \n",
       "11     BELGIUM                 CODEINE!ETHYLMORPHINE!SULFOGAIACOL   \n",
       "12     BELGIUM                                CODEINE!PARACETAMOL   \n",
       "13     BELGIUM                                            CODEINE   \n",
       "14     BELGIUM  ACONITUM NAPELLUS!CODEINE!FORMIC ACID!SISYMBRI...   \n",
       "15     BELGIUM  ACETYLSALICYLIC ACID!CAFFEINE!CODEINE!PARACETAMOL   \n",
       "16     BELGIUM                                    CINEOLE!CODEINE   \n",
       "17     BELGIUM             ACONITUM NAPELLUS!CODEINE!SULFOGAIACOL   \n",
       "18     BELGIUM  ACETYLSALICYLIC ACID!CAFFEINE!CODEINE!DIPHENHY...   \n",
       "19     BELGIUM        CODEINE!EPHEDRINE!ETHYLMORPHINE!GUAIFENESIN   \n",
       "20     BELGIUM  ACONITUM NAPELLUS!BENZOIC ACID!CODEINE!PRUNUS ...   \n",
       "21     BELGIUM  ACONITUM NAPELLUS!ATROPA BELLADONNA!CAMPHORSUL...   \n",
       "22     BELGIUM  ACETYLSALICYLIC ACID!AMBUCETAMIDE!CAFFEINE!COD...   \n",
       "23     BELGIUM  ASCORBIC ACID!CAFFEINE!CODEINE!CRESOTAMIDE!PAR...   \n",
       "24     BELGIUM  ACONITUM NAPELLUS!ATROPA BELLADONNA!BROMOFORM!...   \n",
       "25     BELGIUM                                            CODEINE   \n",
       "26     BELGIUM  ASCORBIC ACID!BENZOIC ACID!CEPHAELIS IPECACUAN...   \n",
       "27     BELGIUM                                            CODEINE   \n",
       "28     BELGIUM              ACETYLSALICYLIC ACID!CAFFEINE!CODEINE   \n",
       "29     BELGIUM                                            CODEINE   \n",
       "..         ...                                                ...   \n",
       "539         UK                                CODEINE!PARACETAMOL   \n",
       "540         UK                                            CODEINE   \n",
       "541         UK                      BUCLIZINE!CODEINE!PARACETAMOL   \n",
       "542         UK                                  CODEINE!IBUPROFEN   \n",
       "543         UK                                CODEINE!PARACETAMOL   \n",
       "544         UK                                CODEINE!PARACETAMOL   \n",
       "545         UK                                  CODEINE!IBUPROFEN   \n",
       "546         UK            CAFFEINE!CODEINE!DOXYLAMINE!PARACETAMOL   \n",
       "547         UK                       CAFFEINE!CODEINE!PARACETAMOL   \n",
       "548         UK                                CODEINE!PARACETAMOL   \n",
       "549         UK            CAFFEINE!CODEINE!DOXYLAMINE!PARACETAMOL   \n",
       "550         UK            CAFFEINE!CODEINE!DOXYLAMINE!PARACETAMOL   \n",
       "551         UK                                CODEINE!PARACETAMOL   \n",
       "552         UK                       ACETYLSALICYLIC ACID!CODEINE   \n",
       "553         UK                       CAFFEINE!CODEINE!PARACETAMOL   \n",
       "554         UK                       CAFFEINE!CODEINE!PARACETAMOL   \n",
       "555         UK                      BUCLIZINE!CODEINE!PARACETAMOL   \n",
       "556         UK                   CODEINE!GUAIACOL!PHOSPHORIC ACID   \n",
       "557         UK                       CAFFEINE!CODEINE!PARACETAMOL   \n",
       "558         UK  ASCORBIC ACID!CAFFEINE!CODEINE!DIPHENHYDRAMINE...   \n",
       "559         UK                                  CODEINE!IBUPROFEN   \n",
       "560         UK                       CAFFEINE!CODEINE!PARACETAMOL   \n",
       "561         UK                       ACETYLSALICYLIC ACID!CODEINE   \n",
       "562         UK                             CODEINE!TERPIN HYDRATE   \n",
       "563         UK            BROMPHENIRAMINE!CODEINE!PSEUDOEPHEDRINE   \n",
       "564         UK                       CAFFEINE!CODEINE!PARACETAMOL   \n",
       "565         UK                       CAFFEINE!CODEINE!PARACETAMOL   \n",
       "566        USA  CODEINE!DEXTROMETHORPHAN!PARACETAMOL!PSEUDOEPH...   \n",
       "567        USA                                CODEINE!GUAIFENESIN   \n",
       "568        USA                                CODEINE!GUAIFENESIN   \n",
       "\n",
       "     no_combinations  ACETYLSALICYLIC ACID  ACONITUM NAPELLUS  ALLOBARBITAL  \\\n",
       "0                  6                     0                  0             0   \n",
       "1                  3                     0                  1             0   \n",
       "2                  6                     0                  0             0   \n",
       "3                  1                     0                  0             0   \n",
       "4                  4                     0                  0             0   \n",
       "5                  1                     0                  0             0   \n",
       "6                  2                     0                  0             0   \n",
       "7                  3                     0                  1             0   \n",
       "8                  1                     0                  0             0   \n",
       "9                  5                     0                  0             0   \n",
       "10                 4                     0                  0             1   \n",
       "11                 3                     0                  0             0   \n",
       "12                 2                     0                  0             0   \n",
       "13                 1                     0                  0             0   \n",
       "14                 5                     0                  1             0   \n",
       "15                 4                     1                  0             0   \n",
       "16                 2                     0                  0             0   \n",
       "17                 3                     0                  1             0   \n",
       "18                 4                     1                  0             0   \n",
       "19                 4                     0                  0             0   \n",
       "20                 4                     0                  1             0   \n",
       "21                 8                     0                  1             0   \n",
       "22                 5                     1                  0             0   \n",
       "23                 5                     0                  0             0   \n",
       "24                 7                     0                  1             0   \n",
       "25                 1                     0                  0             0   \n",
       "26                 6                     0                  0             0   \n",
       "27                 1                     0                  0             0   \n",
       "28                 3                     1                  0             0   \n",
       "29                 1                     0                  0             0   \n",
       "..               ...                   ...                ...           ...   \n",
       "539                2                     0                  0             0   \n",
       "540                1                     0                  0             0   \n",
       "541                3                     0                  0             0   \n",
       "542                2                     0                  0             0   \n",
       "543                2                     0                  0             0   \n",
       "544                2                     0                  0             0   \n",
       "545                2                     0                  0             0   \n",
       "546                4                     0                  0             0   \n",
       "547                3                     0                  0             0   \n",
       "548                2                     0                  0             0   \n",
       "549                4                     0                  0             0   \n",
       "550                4                     0                  0             0   \n",
       "551                2                     0                  0             0   \n",
       "552                2                     1                  0             0   \n",
       "553                3                     0                  0             0   \n",
       "554                3                     0                  0             0   \n",
       "555                3                     0                  0             0   \n",
       "556                3                     0                  0             0   \n",
       "557                3                     0                  0             0   \n",
       "558                6                     0                  0             0   \n",
       "559                2                     0                  0             0   \n",
       "560                3                     0                  0             0   \n",
       "561                2                     1                  0             0   \n",
       "562                2                     0                  0             0   \n",
       "563                3                     0                  0             0   \n",
       "564                3                     0                  0             0   \n",
       "565                3                     0                  0             0   \n",
       "566                4                     0                  0             0   \n",
       "567                2                     0                  0             0   \n",
       "568                2                     0                  0             0   \n",
       "\n",
       "     ALTHAEA OFFICINALIS  AMBROXOL  AMBUCETAMIDE  AMMI VISNAGA      ...       \\\n",
       "0                      0         0             0             0      ...        \n",
       "1                      0         0             0             0      ...        \n",
       "2                      0         0             0             0      ...        \n",
       "3                      0         0             0             0      ...        \n",
       "4                      0         0             0             0      ...        \n",
       "5                      0         0             0             0      ...        \n",
       "6                      0         0             0             0      ...        \n",
       "7                      0         0             0             0      ...        \n",
       "8                      0         0             0             0      ...        \n",
       "9                      0         0             0             0      ...        \n",
       "10                     0         0             0             0      ...        \n",
       "11                     0         0             0             0      ...        \n",
       "12                     0         0             0             0      ...        \n",
       "13                     0         0             0             0      ...        \n",
       "14                     0         0             0             0      ...        \n",
       "15                     0         0             0             0      ...        \n",
       "16                     0         0             0             0      ...        \n",
       "17                     0         0             0             0      ...        \n",
       "18                     0         0             0             0      ...        \n",
       "19                     0         0             0             0      ...        \n",
       "20                     0         0             0             0      ...        \n",
       "21                     0         0             0             0      ...        \n",
       "22                     0         0             1             0      ...        \n",
       "23                     0         0             0             0      ...        \n",
       "24                     0         0             0             0      ...        \n",
       "25                     0         0             0             0      ...        \n",
       "26                     0         0             0             0      ...        \n",
       "27                     0         0             0             0      ...        \n",
       "28                     0         0             0             0      ...        \n",
       "29                     0         0             0             0      ...        \n",
       "..                   ...       ...           ...           ...      ...        \n",
       "539                    0         0             0             0      ...        \n",
       "540                    0         0             0             0      ...        \n",
       "541                    0         0             0             0      ...        \n",
       "542                    0         0             0             0      ...        \n",
       "543                    0         0             0             0      ...        \n",
       "544                    0         0             0             0      ...        \n",
       "545                    0         0             0             0      ...        \n",
       "546                    0         0             0             0      ...        \n",
       "547                    0         0             0             0      ...        \n",
       "548                    0         0             0             0      ...        \n",
       "549                    0         0             0             0      ...        \n",
       "550                    0         0             0             0      ...        \n",
       "551                    0         0             0             0      ...        \n",
       "552                    0         0             0             0      ...        \n",
       "553                    0         0             0             0      ...        \n",
       "554                    0         0             0             0      ...        \n",
       "555                    0         0             0             0      ...        \n",
       "556                    0         0             0             0      ...        \n",
       "557                    0         0             0             0      ...        \n",
       "558                    0         0             0             0      ...        \n",
       "559                    0         0             0             0      ...        \n",
       "560                    0         0             0             0      ...        \n",
       "561                    0         0             0             0      ...        \n",
       "562                    0         0             0             0      ...        \n",
       "563                    0         0             0             0      ...        \n",
       "564                    0         0             0             0      ...        \n",
       "565                    0         0             0             0      ...        \n",
       "566                    0         0             0             0      ...        \n",
       "567                    0         0             0             0      ...        \n",
       "568                    0         0             0             0      ...        \n",
       "\n",
       "     TOLU BALSAM  TRANEXAMIC ACID  TRIPROLIDINE  TUSSILAGO FARFARA  \\\n",
       "0              0                0             0                  0   \n",
       "1              0                0             0                  0   \n",
       "2              0                0             0                  0   \n",
       "3              0                0             0                  0   \n",
       "4              0                0             0                  0   \n",
       "5              0                0             0                  0   \n",
       "6              0                0             0                  0   \n",
       "7              0                0             0                  0   \n",
       "8              0                0             0                  0   \n",
       "9              0                0             0                  0   \n",
       "10             0                0             0                  0   \n",
       "11             0                0             0                  0   \n",
       "12             0                0             0                  0   \n",
       "13             0                0             0                  0   \n",
       "14             0                0             0                  0   \n",
       "15             0                0             0                  0   \n",
       "16             0                0             0                  0   \n",
       "17             0                0             0                  0   \n",
       "18             0                0             0                  0   \n",
       "19             0                0             0                  0   \n",
       "20             0                0             0                  0   \n",
       "21             0                0             0                  0   \n",
       "22             0                0             0                  0   \n",
       "23             0                0             0                  0   \n",
       "24             0                0             0                  0   \n",
       "25             0                0             0                  0   \n",
       "26             0                0             0                  0   \n",
       "27             0                0             0                  0   \n",
       "28             0                0             0                  0   \n",
       "29             0                0             0                  0   \n",
       "..           ...              ...           ...                ...   \n",
       "539            0                0             0                  0   \n",
       "540            0                0             0                  0   \n",
       "541            0                0             0                  0   \n",
       "542            0                0             0                  0   \n",
       "543            0                0             0                  0   \n",
       "544            0                0             0                  0   \n",
       "545            0                0             0                  0   \n",
       "546            0                0             0                  0   \n",
       "547            0                0             0                  0   \n",
       "548            0                0             0                  0   \n",
       "549            0                0             0                  0   \n",
       "550            0                0             0                  0   \n",
       "551            0                0             0                  0   \n",
       "552            0                0             0                  0   \n",
       "553            0                0             0                  0   \n",
       "554            0                0             0                  0   \n",
       "555            0                0             0                  0   \n",
       "556            0                0             0                  0   \n",
       "557            0                0             0                  0   \n",
       "558            0                0             0                  0   \n",
       "559            0                0             0                  0   \n",
       "560            0                0             0                  0   \n",
       "561            0                0             0                  0   \n",
       "562            0                0             0                  0   \n",
       "563            0                0             0                  0   \n",
       "564            0                0             0                  0   \n",
       "565            0                0             0                  0   \n",
       "566            0                0             0                  0   \n",
       "567            0                0             0                  0   \n",
       "568            0                0             0                  0   \n",
       "\n",
       "     URGINEA SCILLA  VALERIANA OFFICINALIS  VERBASCUM DENSIFLORUM  \\\n",
       "0                 1                      0                      0   \n",
       "1                 0                      0                      0   \n",
       "2                 0                      0                      0   \n",
       "3                 0                      0                      0   \n",
       "4                 0                      0                      0   \n",
       "5                 0                      0                      0   \n",
       "6                 0                      0                      0   \n",
       "7                 0                      0                      0   \n",
       "8                 0                      0                      0   \n",
       "9                 0                      0                      0   \n",
       "10                0                      0                      0   \n",
       "11                0                      0                      0   \n",
       "12                0                      0                      0   \n",
       "13                0                      0                      0   \n",
       "14                0                      0                      0   \n",
       "15                0                      0                      0   \n",
       "16                0                      0                      0   \n",
       "17                0                      0                      0   \n",
       "18                0                      0                      0   \n",
       "19                0                      0                      0   \n",
       "20                0                      0                      0   \n",
       "21                0                      0                      0   \n",
       "22                0                      0                      0   \n",
       "23                0                      0                      0   \n",
       "24                0                      0                      0   \n",
       "25                0                      0                      0   \n",
       "26                0                      0                      0   \n",
       "27                0                      0                      0   \n",
       "28                0                      0                      0   \n",
       "29                0                      0                      0   \n",
       "..              ...                    ...                    ...   \n",
       "539               0                      0                      0   \n",
       "540               0                      0                      0   \n",
       "541               0                      0                      0   \n",
       "542               0                      0                      0   \n",
       "543               0                      0                      0   \n",
       "544               0                      0                      0   \n",
       "545               0                      0                      0   \n",
       "546               0                      0                      0   \n",
       "547               0                      0                      0   \n",
       "548               0                      0                      0   \n",
       "549               0                      0                      0   \n",
       "550               0                      0                      0   \n",
       "551               0                      0                      0   \n",
       "552               0                      0                      0   \n",
       "553               0                      0                      0   \n",
       "554               0                      0                      0   \n",
       "555               0                      0                      0   \n",
       "556               0                      0                      0   \n",
       "557               0                      0                      0   \n",
       "558               0                      0                      0   \n",
       "559               0                      0                      0   \n",
       "560               0                      0                      0   \n",
       "561               0                      0                      0   \n",
       "562               0                      0                      0   \n",
       "563               0                      0                      0   \n",
       "564               0                      0                      0   \n",
       "565               0                      0                      0   \n",
       "566               0                      0                      0   \n",
       "567               0                      0                      0   \n",
       "568               0                      0                      0   \n",
       "\n",
       "     VERBASCUM THAPSUS  VIOLA ODORATA  VISCUM ALBUM  \n",
       "0                    0              0             0  \n",
       "1                    0              0             0  \n",
       "2                    0              0             0  \n",
       "3                    0              0             0  \n",
       "4                    0              0             0  \n",
       "5                    0              0             0  \n",
       "6                    0              0             0  \n",
       "7                    0              0             0  \n",
       "8                    0              0             0  \n",
       "9                    0              0             0  \n",
       "10                   0              0             0  \n",
       "11                   0              0             0  \n",
       "12                   0              0             0  \n",
       "13                   0              0             0  \n",
       "14                   0              0             0  \n",
       "15                   0              0             0  \n",
       "16                   0              0             0  \n",
       "17                   0              0             0  \n",
       "18                   0              0             0  \n",
       "19                   0              0             0  \n",
       "20                   0              0             0  \n",
       "21                   0              0             0  \n",
       "22                   0              0             0  \n",
       "23                   0              0             0  \n",
       "24                   0              0             0  \n",
       "25                   0              0             0  \n",
       "26                   0              0             0  \n",
       "27                   0              0             0  \n",
       "28                   0              0             0  \n",
       "29                   0              0             0  \n",
       "..                 ...            ...           ...  \n",
       "539                  0              0             0  \n",
       "540                  0              0             0  \n",
       "541                  0              0             0  \n",
       "542                  0              0             0  \n",
       "543                  0              0             0  \n",
       "544                  0              0             0  \n",
       "545                  0              0             0  \n",
       "546                  0              0             0  \n",
       "547                  0              0             0  \n",
       "548                  0              0             0  \n",
       "549                  0              0             0  \n",
       "550                  0              0             0  \n",
       "551                  0              0             0  \n",
       "552                  0              0             0  \n",
       "553                  0              0             0  \n",
       "554                  0              0             0  \n",
       "555                  0              0             0  \n",
       "556                  0              0             0  \n",
       "557                  0              0             0  \n",
       "558                  0              0             0  \n",
       "559                  0              0             0  \n",
       "560                  0              0             0  \n",
       "561                  0              0             0  \n",
       "562                  0              0             0  \n",
       "563                  0              0             0  \n",
       "564                  0              0             0  \n",
       "565                  0              0             0  \n",
       "566                  0              0             0  \n",
       "567                  0              0             0  \n",
       "568                  0              0             0  \n",
       "\n",
       "[569 rows x 153 columns]"
      ]
     },
     "execution_count": 3,
     "metadata": {},
     "output_type": "execute_result"
    }
   ],
   "source": [
    "df2 = pd.concat([df1,df1.Molecules.str.get_dummies(sep='!')],1)\n",
    "df2"
   ]
  },
  {
   "cell_type": "code",
   "execution_count": 11,
   "metadata": {},
   "outputs": [
    {
     "name": "stdout",
     "output_type": "stream",
     "text": [
      "153\n"
     ]
    }
   ],
   "source": [
    "print(len(df2.columns))"
   ]
  },
  {
   "cell_type": "code",
   "execution_count": 13,
   "metadata": {},
   "outputs": [
    {
     "name": "stdout",
     "output_type": "stream",
     "text": [
      "Index(['Country', 'Molecules', 'no_combinations', 'ACETYLSALICYLIC ACID',\n",
      "       'ACONITUM NAPELLUS', 'ALLOBARBITAL', 'ALTHAEA OFFICINALIS', 'AMBROXOL',\n",
      "       'AMBUCETAMIDE', 'AMMI VISNAGA',\n",
      "       ...\n",
      "       'TOLU BALSAM', 'TRANEXAMIC ACID', 'TRIPROLIDINE', 'TUSSILAGO FARFARA',\n",
      "       'URGINEA SCILLA', 'VALERIANA OFFICINALIS', 'VERBASCUM DENSIFLORUM',\n",
      "       'VERBASCUM THAPSUS', 'VIOLA ODORATA', 'VISCUM ALBUM'],\n",
      "      dtype='object', length=153)\n"
     ]
    }
   ],
   "source": [
    "print(df2.columns)"
   ]
  },
  {
   "cell_type": "code",
   "execution_count": 15,
   "metadata": {},
   "outputs": [
    {
     "name": "stdout",
     "output_type": "stream",
     "text": [
      "Country\n",
      "Molecules\n",
      "no_combinations\n",
      "ACETYLSALICYLIC ACID\n",
      "ACONITUM NAPELLUS\n",
      "ALLOBARBITAL\n",
      "ALTHAEA OFFICINALIS\n",
      "AMBROXOL\n",
      "AMBUCETAMIDE\n",
      "AMMI VISNAGA\n",
      "AMMONIUM\n",
      "ANETHOLE\n",
      "ANETHOLE TRITHIONE\n",
      "ANTENNARIA DIOICA\n",
      "ANTIMONY\n",
      "ARISAEMA ATRORUBENS\n",
      "ARNICA MONTANA\n",
      "ARSENIC\n",
      "ASCLEPIAS TUBEROSA\n",
      "ASCORBIC ACID\n",
      "ATROPA BELLADONNA\n",
      "ATROPINE METHYLHYDROXIDE\n",
      "BENZOIC ACID\n",
      "BORIC ACID\n",
      "BROMHEXINE\n",
      "BROMINE\n",
      "BROMOFORM\n",
      "BROMPHENIRAMINE\n",
      "BRYONIA ALBA\n",
      "BUCLIZINE\n",
      "CAFFEINE\n",
      "CALCIUM\n",
      "CAMPHOR\n",
      "CAMPHORSULFONIC ACID\n",
      "CARBINOXAMINE\n",
      "CARBOCISTEINE\n",
      "CEPHAELIS IPECACUANHA\n",
      "CHELIDONIUM MAJUS\n",
      "CHLORPHENAMINE\n",
      "CINEOLE\n",
      "CINNAMAVERINE\n",
      "CINNAMOMUM ZEYLANICUM\n",
      "CISTUS CANADENSIS\n",
      "CITRIC ACID\n",
      "CITRUS AURANTIUM\n",
      "CODEINE\n",
      "CRATAEGUS LAEVIGATA\n",
      "CRESOTAMIDE\n",
      "DEXTROMETHORPHAN\n",
      "DIPHENHYDRAMINE\n",
      "DIPHENYLPYRALINE\n",
      "DL-LACTIC ACID\n",
      "DOXYLAMINE\n",
      "DROFENINE\n",
      "DROSERA ROTUNDIFOLIA\n",
      "DROTAVERINE\n",
      "EPHEDRINE\n",
      "ERGOTAMINE\n",
      "ETHYLMORPHINE\n",
      "EUCALYPTUS GLOBULUS\n",
      "FOENICULUM VULGARE\n",
      "FORMIC ACID\n",
      "FRANGULA ALNUS\n",
      "GLUCOSE\n",
      "GLYCYRRHIZA GLABRA\n",
      "GRINDELIA ROBUSTA\n",
      "GUAIACOL\n",
      "GUAIFENESIN\n",
      "HEDERA HELIX\n",
      "HESPERIDIN\n",
      "HISTAMINE\n",
      "HYOSCYAMINE\n",
      "HYOSCYAMUS NIGER\n",
      "HYSSOPUS OFFICINALIS\n",
      "IBUPROFEN\n",
      "ILLICIUM VERUM\n",
      "LEVOMENTHOL\n",
      "LIDOCAINE\n",
      "LUFFA ACUTANGULA\n",
      "LYSOZYME\n",
      "MALLOTUS PHILIPPINENSIS\n",
      "MALVA PURPUREA\n",
      "MENTHA PIPERITA\n",
      "MENTHOL\n",
      "MEPROBAMATE\n",
      "MEPYRAMINE\n",
      "METAMIZOLE SODIUM\n",
      "METHAPYRILENE\n",
      "METHYLEPHEDRINE\n",
      "NAPROXEN\n",
      "NICOTINAMIDE\n",
      "NOSCAPINE\n",
      "O-PHENOLSULFONIC ACID\n",
      "PANTOTHENIC ACID\n",
      "PAPAVER RHOEAS\n",
      "PAPAVERINE\n",
      "PARACETAMOL\n",
      "PENTOBARBITAL\n",
      "PHENACETIN\n",
      "PHENAZONE\n",
      "PHENOBARBITAL\n",
      "PHENOL\n",
      "PHENOLPHTHALEIN\n",
      "PHENYLEPHRINE\n",
      "PHENYLPROPANOLAMINE\n",
      "PHENYLTOLOXAMINE\n",
      "PHOLCODINE\n",
      "PHOSPHORIC ACID\n",
      "PIMPINELLA ANISUM\n",
      "PINUS MUGO PUMILIO\n",
      "PINUS SYLVESTRIS\n",
      "PIPERYLONE\n",
      "PLANTAGO OVATA\n",
      "POLYGALA AMARA\n",
      "POLYGALA SENEGA\n",
      "PRIMULA\n",
      "PROMETHAZINE\n",
      "PROPYPHENAZONE\n",
      "PRUNUS LAUROCERASUS\n",
      "PSEUDOEPHEDRINE\n",
      "PYRIDOXINE\n",
      "RHEUM OFFICINALE\n",
      "RHODEA JAPONICA\n",
      "RIBOFLAVIN\n",
      "SAMBUCUS NIGRA\n",
      "SAPONARIA OFFICINALIS\n",
      "SCOPOLAMINE\n",
      "SENNA\n",
      "SILVER\n",
      "SISYMBRIUM OFFICINALE\n",
      "SODIUM\n",
      "SORBITOL\n",
      "SULBUTIAMINE\n",
      "SULFOGAIACOL\n",
      "TERPIN HYDRATE\n",
      "TETRACAINE\n",
      "TEUCRIUM SCORODONIA\n",
      "THEOPHYLLINE\n",
      "THERMOPSIS\n",
      "THIAMINE\n",
      "THYMUS SERPYLLUM\n",
      "THYMUS VULGARE\n",
      "TIN\n",
      "TOLU BALSAM\n",
      "TRANEXAMIC ACID\n",
      "TRIPROLIDINE\n",
      "TUSSILAGO FARFARA\n",
      "URGINEA SCILLA\n",
      "VALERIANA OFFICINALIS\n",
      "VERBASCUM DENSIFLORUM\n",
      "VERBASCUM THAPSUS\n",
      "VIOLA ODORATA\n",
      "VISCUM ALBUM\n"
     ]
    }
   ],
   "source": [
    "for col_name in df2.columns: \n",
    "    print(col_name)"
   ]
  },
  {
   "cell_type": "markdown",
   "metadata": {},
   "source": [
    "# Now I want to count the number of times each substance is in the products "
   ]
  },
  {
   "cell_type": "code",
   "execution_count": 21,
   "metadata": {
    "scrolled": false
   },
   "outputs": [
    {
     "data": {
      "text/plain": [
       "0    547\n",
       "1     22\n",
       "Name: ACETYLSALICYLIC ACID, dtype: int64"
      ]
     },
     "execution_count": 21,
     "metadata": {},
     "output_type": "execute_result"
    }
   ],
   "source": [
    "df2['ACETYLSALICYLIC ACID'].value_counts() # aspirin"
   ]
  },
  {
   "cell_type": "code",
   "execution_count": 22,
   "metadata": {},
   "outputs": [
    {
     "data": {
      "text/plain": [
       "0    555\n",
       "1     14\n",
       "Name: ACONITUM NAPELLUS, dtype: int64"
      ]
     },
     "execution_count": 22,
     "metadata": {},
     "output_type": "execute_result"
    }
   ],
   "source": [
    "df2['ACONITUM NAPELLUS'].value_counts() #plant "
   ]
  },
  {
   "cell_type": "code",
   "execution_count": 25,
   "metadata": {},
   "outputs": [
    {
     "data": {
      "text/plain": [
       "0    562\n",
       "1      7\n",
       "Name: AMBROXOL, dtype: int64"
      ]
     },
     "execution_count": 25,
     "metadata": {},
     "output_type": "execute_result"
    }
   ],
   "source": [
    "df2['AMBROXOL'].value_counts() # secretolytic agent used in the treatment of respiratory \n",
    "#diseases associated with viscid or excessive mucus. It is a mucoactive drug with several \n",
    "#properties including secretolytic and secretomotoric actions that restore the physiological \n",
    "#clearance mechanisms of the respiratory tract which play an important role in the body’s \n",
    "#natural defence mechanisms"
   ]
  },
  {
   "cell_type": "code",
   "execution_count": 32,
   "metadata": {},
   "outputs": [
    {
     "data": {
      "text/html": [
       "<div>\n",
       "<style scoped>\n",
       "    .dataframe tbody tr th:only-of-type {\n",
       "        vertical-align: middle;\n",
       "    }\n",
       "\n",
       "    .dataframe tbody tr th {\n",
       "        vertical-align: top;\n",
       "    }\n",
       "\n",
       "    .dataframe thead th {\n",
       "        text-align: right;\n",
       "    }\n",
       "</style>\n",
       "<table border=\"1\" class=\"dataframe\">\n",
       "  <thead>\n",
       "    <tr style=\"text-align: right;\">\n",
       "      <th></th>\n",
       "      <th>AMMONIUM</th>\n",
       "      <th>ANETHOLE</th>\n",
       "    </tr>\n",
       "  </thead>\n",
       "  <tbody>\n",
       "    <tr>\n",
       "      <th>0</th>\n",
       "      <td>551</td>\n",
       "      <td>568</td>\n",
       "    </tr>\n",
       "    <tr>\n",
       "      <th>1</th>\n",
       "      <td>18</td>\n",
       "      <td>1</td>\n",
       "    </tr>\n",
       "  </tbody>\n",
       "</table>\n",
       "</div>"
      ],
      "text/plain": [
       "   AMMONIUM  ANETHOLE\n",
       "0       551       568\n",
       "1        18         1"
      ]
     },
     "execution_count": 32,
     "metadata": {},
     "output_type": "execute_result"
    }
   ],
   "source": [
    "df2[['AMMONIUM', 'ANETHOLE']].apply(pd.Series.value_counts)"
   ]
  },
  {
   "cell_type": "code",
   "execution_count": 45,
   "metadata": {},
   "outputs": [
    {
     "name": "stdout",
     "output_type": "stream",
     "text": [
      "----------------------------------------Country---------------------------------------- - "
     ]
    },
    {
     "data": {
      "text/plain": [
       "SOUTH AFRICA    157\n",
       "UK               83\n",
       "SWITZERLAND      44\n",
       "FRANCE           36\n",
       "BELGIUM          32\n",
       "JAPAN            28\n",
       "GERMANY          28\n",
       "RUSSIA           24\n",
       "IRELAND          23\n",
       "LATVIA           19\n",
       "POLAND           19\n",
       "ROMANIA          15\n",
       "BULGARIA          8\n",
       "NETHERLANDS       7\n",
       "ESTONIA           5\n",
       "SLOVAKIA          5\n",
       "SERBIA            5\n",
       "CANADA            4\n",
       "USA               3\n",
       "BRAZIL            3\n",
       "THAILAND          3\n",
       "PORTUGAL          2\n",
       "SLOVENIA          2\n",
       "MEXICO            2\n",
       "ITALY             2\n",
       "FINLAND           2\n",
       "LITHUANIA         2\n",
       "SPAIN             2\n",
       "CROATIA           2\n",
       "GREECE            1\n",
       "ARGENTINA         1\n",
       "Name: Country, dtype: int64"
      ]
     },
     "metadata": {},
     "output_type": "display_data"
    },
    {
     "name": "stdout",
     "output_type": "stream",
     "text": [
      "----------------------------------------Molecules---------------------------------------- - "
     ]
    },
    {
     "data": {
      "text/plain": [
       "CODEINE!PARACETAMOL                                                                                                                                                      80\n",
       "CAFFEINE!CODEINE!PARACETAMOL                                                                                                                                             67\n",
       "CAFFEINE!CODEINE!DOXYLAMINE!PARACETAMOL                                                                                                                                  50\n",
       "CODEINE                                                                                                                                                                  45\n",
       "CODEINE!IBUPROFEN                                                                                                                                                        19\n",
       "CODEINE!PARACETAMOL!PROMETHAZINE                                                                                                                                         13\n",
       "CAFFEINE!CODEINE!PARACETAMOL!PROPYPHENAZONE                                                                                                                              11\n",
       "CAFFEINE!CODEINE!DIPHENHYDRAMINE!PARACETAMOL                                                                                                                             10\n",
       "CODEINE!IBUPROFEN!PARACETAMOL                                                                                                                                            10\n",
       "CODEINE!EPHEDRINE!PROMETHAZINE                                                                                                                                            9\n",
       "CAFFEINE!CHLORPHENAMINE!CODEINE!LYSOZYME!METHYLEPHEDRINE!POLYGALA SENEGA                                                                                                  9\n",
       "CODEINE!GUAIFENESIN                                                                                                                                                       9\n",
       "AMMI VISNAGA!ASCLEPIAS TUBEROSA!BRYONIA ALBA!CEPHAELIS IPECACUANHA!CHELIDONIUM MAJUS!CODEINE!DROSERA ROTUNDIFOLIA!EPHEDRINE!GRINDELIA ROBUSTA!TEUCRIUM SCORODONIA!TIN     8\n",
       "CODEINE!EPHEDRINE!EUCALYPTUS GLOBULUS!MENTHOL                                                                                                                             7\n",
       "BROMHEXINE!CAFFEINE!CARBINOXAMINE!CODEINE!EPHEDRINE!PARACETAMOL!RIBOFLAVIN!SULBUTIAMINE                                                                                   7\n",
       "CODEINE!GUAIFENESIN!PSEUDOEPHEDRINE!TRIPROLIDINE                                                                                                                          7\n",
       "BUCLIZINE!CODEINE!PARACETAMOL                                                                                                                                             7\n",
       "CODEINE!GUAIACOL                                                                                                                                                          6\n",
       "AMMONIUM!CODEINE!DIPHENHYDRAMINE                                                                                                                                          6\n",
       "ACETYLSALICYLIC ACID!CAFFEINE!CODEINE!PARACETAMOL                                                                                                                         6\n",
       "AMBROXOL!CARBOCISTEINE!CHLORPHENAMINE!CODEINE!PARACETAMOL!RIBOFLAVIN                                                                                                      5\n",
       "ASCORBIC ACID!CAFFEINE!CODEINE!DIPHENHYDRAMINE!PARACETAMOL!PHENYLEPHRINE                                                                                                  4\n",
       "CODEINE!PARACETAMOL!PHENYLPROPANOLAMINE!PHENYLTOLOXAMINE                                                                                                                  4\n",
       "CODEINE!EPHEDRINE!GUAIFENESIN!POLYGALA AMARA                                                                                                                              4\n",
       "CODEINE!EUCALYPTUS GLOBULUS!GLYCYRRHIZA GLABRA!LEVOMENTHOL!PIMPINELLA ANISUM!TOLU BALSAM                                                                                  4\n",
       "CODEINE!PSEUDOEPHEDRINE!TRIPROLIDINE                                                                                                                                      4\n",
       "AMMONIUM!CITRIC ACID!CODEINE!DIPHENHYDRAMINE                                                                                                                              4\n",
       "ACETYLSALICYLIC ACID!CODEINE                                                                                                                                              4\n",
       "CAFFEINE!CODEINE!METAMIZOLE SODIUM!PARACETAMOL!PHENOBARBITAL                                                                                                              4\n",
       "CODEINE!SISYMBRIUM OFFICINALE                                                                                                                                             4\n",
       "                                                                                                                                                                         ..\n",
       "CAFFEINE!CODEINE!MEPROBAMATE!PARACETAMOL                                                                                                                                  1\n",
       "CHELIDONIUM MAJUS!CODEINE!DL-LACTIC ACID!FOENICULUM VULGARE!PHOSPHORIC ACID!PINUS MUGO PUMILIO                                                                            1\n",
       "ATROPINE METHYLHYDROXIDE!CODEINE!DIPHENHYDRAMINE!EPHEDRINE!PHENAZONE!PROPYPHENAZONE                                                                                       1\n",
       "CITRIC ACID!CODEINE!EPHEDRINE!PAPAVERINE                                                                                                                                  1\n",
       "CODEINE!SODIUM!TERPIN HYDRATE                                                                                                                                             1\n",
       "CAFFEINE!CODEINE!HESPERIDIN!PARACETAMOL!PIPERYLONE                                                                                                                        1\n",
       "CODEINE!ETHYLMORPHINE                                                                                                                                                     1\n",
       "CODEINE!THYMUS VULGARE                                                                                                                                                    1\n",
       "ACONITUM NAPELLUS!BORIC ACID!CODEINE!MENTHOL!TETRACAINE                                                                                                                   1\n",
       "ALLOBARBITAL!CODEINE!DROFENINE!PROPYPHENAZONE                                                                                                                             1\n",
       "ACONITUM NAPELLUS!CODEINE!FORMIC ACID                                                                                                                                     1\n",
       "CODEINE!MEPYRAMINE!THEOPHYLLINE                                                                                                                                           1\n",
       "ACETYLSALICYLIC ACID!CAFFEINE!CODEINE!PHENACETIN!PHENOBARBITAL                                                                                                            1\n",
       "ATROPA BELLADONNA!CODEINE!SULFOGAIACOL!TERPIN HYDRATE                                                                                                                     1\n",
       "CODEINE!EPHEDRINE!FRANGULA ALNUS!GUAIFENESIN!POLYGALA SENEGA                                                                                                              1\n",
       "ASCORBIC ACID!BENZOIC ACID!CEPHAELIS IPECACUANHA!CODEINE!PAPAVER RHOEAS!SODIUM                                                                                            1\n",
       "CODEINE!GUAIACOL!PHOSPHORIC ACID                                                                                                                                          1\n",
       "CODEINE!GRINDELIA ROBUSTA!SULFOGAIACOL                                                                                                                                    1\n",
       "ACONITUM NAPELLUS!ATROPA BELLADONNA!CAMPHORSULFONIC ACID!CEPHAELIS IPECACUANHA!CODEINE!EPHEDRINE!ETHYLMORPHINE!SENNA                                                      1\n",
       "BENZOIC ACID!CODEINE!CRATAEGUS LAEVIGATA!ETHYLMORPHINE!POLYGALA SENEGA!URGINEA SCILLA                                                                                     1\n",
       "CODEINE!ETHYLMORPHINE!SULFOGAIACOL                                                                                                                                        1\n",
       "CHLORPHENAMINE!CODEINE!GUAIACOL!METHYLEPHEDRINE!THEOPHYLLINE                                                                                                              1\n",
       "CAFFEINE!CODEINE!METAMIZOLE SODIUM!PARACETAMOL!PENTOBARBITAL                                                                                                              1\n",
       "CAFFEINE!CINNAMOMUM ZEYLANICUM!CODEINE!PHENAZONE!PROPYPHENAZONE                                                                                                           1\n",
       "CAFFEINE!CODEINE!PARACETAMOL!PHENOBARBITAL!PROPYPHENAZONE                                                                                                                 1\n",
       "CHLORPHENAMINE!CODEINE!METHYLEPHEDRINE!SULFOGAIACOL!THEOPHYLLINE                                                                                                          1\n",
       "BROMHEXINE!CODEINE!DIPHENHYDRAMINE!EPHEDRINE!NOSCAPINE!PAPAVERINE                                                                                                         1\n",
       "ACONITUM NAPELLUS!ATROPA BELLADONNA!BROMOFORM!CAMPHORSULFONIC ACID!CINEOLE!CODEINE!O-PHENOLSULFONIC ACID!SULFOGAIACOL                                                     1\n",
       "BENZOIC ACID!CEPHAELIS IPECACUANHA!CINEOLE!CODEINE!GUAIFENESIN!TERPIN HYDRATE                                                                                             1\n",
       "ACONITUM NAPELLUS!ANETHOLE!CODEINE!PAPAVER RHOEAS!PRUNUS LAUROCERASUS!RHEUM OFFICINALE                                                                                    1\n",
       "Name: Molecules, Length: 129, dtype: int64"
      ]
     },
     "metadata": {},
     "output_type": "display_data"
    },
    {
     "name": "stdout",
     "output_type": "stream",
     "text": [
      "----------------------------------------no_combinations---------------------------------------- - "
     ]
    },
    {
     "data": {
      "text/plain": [
       "3     150\n",
       "4     139\n",
       "2     130\n",
       "1      45\n",
       "6      38\n",
       "5      34\n",
       "7      11\n",
       "8       9\n",
       "11      8\n",
       "9       2\n",
       "16      1\n",
       "13      1\n",
       "12      1\n",
       "Name: no_combinations, dtype: int64"
      ]
     },
     "metadata": {},
     "output_type": "display_data"
    },
    {
     "name": "stdout",
     "output_type": "stream",
     "text": [
      "----------------------------------------ACETYLSALICYLIC ACID---------------------------------------- - "
     ]
    },
    {
     "data": {
      "text/plain": [
       "0    547\n",
       "1     22\n",
       "Name: ACETYLSALICYLIC ACID, dtype: int64"
      ]
     },
     "metadata": {},
     "output_type": "display_data"
    },
    {
     "name": "stdout",
     "output_type": "stream",
     "text": [
      "----------------------------------------ACONITUM NAPELLUS---------------------------------------- - "
     ]
    },
    {
     "data": {
      "text/plain": [
       "0    555\n",
       "1     14\n",
       "Name: ACONITUM NAPELLUS, dtype: int64"
      ]
     },
     "metadata": {},
     "output_type": "display_data"
    },
    {
     "name": "stdout",
     "output_type": "stream",
     "text": [
      "----------------------------------------ALLOBARBITAL---------------------------------------- - "
     ]
    },
    {
     "data": {
      "text/plain": [
       "0    568\n",
       "1      1\n",
       "Name: ALLOBARBITAL, dtype: int64"
      ]
     },
     "metadata": {},
     "output_type": "display_data"
    },
    {
     "name": "stdout",
     "output_type": "stream",
     "text": [
      "----------------------------------------ALTHAEA OFFICINALIS---------------------------------------- - "
     ]
    },
    {
     "data": {
      "text/plain": [
       "0    568\n",
       "1      1\n",
       "Name: ALTHAEA OFFICINALIS, dtype: int64"
      ]
     },
     "metadata": {},
     "output_type": "display_data"
    },
    {
     "name": "stdout",
     "output_type": "stream",
     "text": [
      "----------------------------------------AMBROXOL---------------------------------------- - "
     ]
    },
    {
     "data": {
      "text/plain": [
       "0    562\n",
       "1      7\n",
       "Name: AMBROXOL, dtype: int64"
      ]
     },
     "metadata": {},
     "output_type": "display_data"
    },
    {
     "name": "stdout",
     "output_type": "stream",
     "text": [
      "----------------------------------------AMBUCETAMIDE---------------------------------------- - "
     ]
    },
    {
     "data": {
      "text/plain": [
       "0    568\n",
       "1      1\n",
       "Name: AMBUCETAMIDE, dtype: int64"
      ]
     },
     "metadata": {},
     "output_type": "display_data"
    },
    {
     "name": "stdout",
     "output_type": "stream",
     "text": [
      "----------------------------------------AMMI VISNAGA---------------------------------------- - "
     ]
    },
    {
     "data": {
      "text/plain": [
       "0    561\n",
       "1      8\n",
       "Name: AMMI VISNAGA, dtype: int64"
      ]
     },
     "metadata": {},
     "output_type": "display_data"
    },
    {
     "name": "stdout",
     "output_type": "stream",
     "text": [
      "----------------------------------------AMMONIUM---------------------------------------- - "
     ]
    },
    {
     "data": {
      "text/plain": [
       "0    551\n",
       "1     18\n",
       "Name: AMMONIUM, dtype: int64"
      ]
     },
     "metadata": {},
     "output_type": "display_data"
    },
    {
     "name": "stdout",
     "output_type": "stream",
     "text": [
      "----------------------------------------ANETHOLE---------------------------------------- - "
     ]
    },
    {
     "data": {
      "text/plain": [
       "0    568\n",
       "1      1\n",
       "Name: ANETHOLE, dtype: int64"
      ]
     },
     "metadata": {},
     "output_type": "display_data"
    },
    {
     "name": "stdout",
     "output_type": "stream",
     "text": [
      "----------------------------------------ANETHOLE TRITHIONE---------------------------------------- - "
     ]
    },
    {
     "data": {
      "text/plain": [
       "0    567\n",
       "1      2\n",
       "Name: ANETHOLE TRITHIONE, dtype: int64"
      ]
     },
     "metadata": {},
     "output_type": "display_data"
    },
    {
     "name": "stdout",
     "output_type": "stream",
     "text": [
      "----------------------------------------ANTENNARIA DIOICA---------------------------------------- - "
     ]
    },
    {
     "data": {
      "text/plain": [
       "0    568\n",
       "1      1\n",
       "Name: ANTENNARIA DIOICA, dtype: int64"
      ]
     },
     "metadata": {},
     "output_type": "display_data"
    },
    {
     "name": "stdout",
     "output_type": "stream",
     "text": [
      "----------------------------------------ANTIMONY---------------------------------------- - "
     ]
    },
    {
     "data": {
      "text/plain": [
       "0    567\n",
       "1      2\n",
       "Name: ANTIMONY, dtype: int64"
      ]
     },
     "metadata": {},
     "output_type": "display_data"
    },
    {
     "name": "stdout",
     "output_type": "stream",
     "text": [
      "----------------------------------------ARISAEMA ATRORUBENS---------------------------------------- - "
     ]
    },
    {
     "data": {
      "text/plain": [
       "0    567\n",
       "1      2\n",
       "Name: ARISAEMA ATRORUBENS, dtype: int64"
      ]
     },
     "metadata": {},
     "output_type": "display_data"
    },
    {
     "name": "stdout",
     "output_type": "stream",
     "text": [
      "----------------------------------------ARNICA MONTANA---------------------------------------- - "
     ]
    },
    {
     "data": {
      "text/plain": [
       "0    567\n",
       "1      2\n",
       "Name: ARNICA MONTANA, dtype: int64"
      ]
     },
     "metadata": {},
     "output_type": "display_data"
    },
    {
     "name": "stdout",
     "output_type": "stream",
     "text": [
      "----------------------------------------ARSENIC---------------------------------------- - "
     ]
    },
    {
     "data": {
      "text/plain": [
       "0    567\n",
       "1      2\n",
       "Name: ARSENIC, dtype: int64"
      ]
     },
     "metadata": {},
     "output_type": "display_data"
    },
    {
     "name": "stdout",
     "output_type": "stream",
     "text": [
      "----------------------------------------ASCLEPIAS TUBEROSA---------------------------------------- - "
     ]
    },
    {
     "data": {
      "text/plain": [
       "0    561\n",
       "1      8\n",
       "Name: ASCLEPIAS TUBEROSA, dtype: int64"
      ]
     },
     "metadata": {},
     "output_type": "display_data"
    },
    {
     "name": "stdout",
     "output_type": "stream",
     "text": [
      "----------------------------------------ASCORBIC ACID---------------------------------------- - "
     ]
    },
    {
     "data": {
      "text/plain": [
       "0    558\n",
       "1     11\n",
       "Name: ASCORBIC ACID, dtype: int64"
      ]
     },
     "metadata": {},
     "output_type": "display_data"
    },
    {
     "name": "stdout",
     "output_type": "stream",
     "text": [
      "----------------------------------------ATROPA BELLADONNA---------------------------------------- - "
     ]
    },
    {
     "data": {
      "text/plain": [
       "0    555\n",
       "1     14\n",
       "Name: ATROPA BELLADONNA, dtype: int64"
      ]
     },
     "metadata": {},
     "output_type": "display_data"
    },
    {
     "name": "stdout",
     "output_type": "stream",
     "text": [
      "----------------------------------------ATROPINE METHYLHYDROXIDE---------------------------------------- - "
     ]
    },
    {
     "data": {
      "text/plain": [
       "0    568\n",
       "1      1\n",
       "Name: ATROPINE METHYLHYDROXIDE, dtype: int64"
      ]
     },
     "metadata": {},
     "output_type": "display_data"
    },
    {
     "name": "stdout",
     "output_type": "stream",
     "text": [
      "----------------------------------------BENZOIC ACID---------------------------------------- - "
     ]
    },
    {
     "data": {
      "text/plain": [
       "0    560\n",
       "1      9\n",
       "Name: BENZOIC ACID, dtype: int64"
      ]
     },
     "metadata": {},
     "output_type": "display_data"
    },
    {
     "name": "stdout",
     "output_type": "stream",
     "text": [
      "----------------------------------------BORIC ACID---------------------------------------- - "
     ]
    },
    {
     "data": {
      "text/plain": [
       "0    568\n",
       "1      1\n",
       "Name: BORIC ACID, dtype: int64"
      ]
     },
     "metadata": {},
     "output_type": "display_data"
    },
    {
     "name": "stdout",
     "output_type": "stream",
     "text": [
      "----------------------------------------BROMHEXINE---------------------------------------- - "
     ]
    },
    {
     "data": {
      "text/plain": [
       "0    561\n",
       "1      8\n",
       "Name: BROMHEXINE, dtype: int64"
      ]
     },
     "metadata": {},
     "output_type": "display_data"
    },
    {
     "name": "stdout",
     "output_type": "stream",
     "text": [
      "----------------------------------------BROMINE---------------------------------------- - "
     ]
    },
    {
     "data": {
      "text/plain": [
       "0    566\n",
       "1      3\n",
       "Name: BROMINE, dtype: int64"
      ]
     },
     "metadata": {},
     "output_type": "display_data"
    },
    {
     "name": "stdout",
     "output_type": "stream",
     "text": [
      "----------------------------------------BROMOFORM---------------------------------------- - "
     ]
    },
    {
     "data": {
      "text/plain": [
       "0    565\n",
       "1      4\n",
       "Name: BROMOFORM, dtype: int64"
      ]
     },
     "metadata": {},
     "output_type": "display_data"
    },
    {
     "name": "stdout",
     "output_type": "stream",
     "text": [
      "----------------------------------------BROMPHENIRAMINE---------------------------------------- - "
     ]
    },
    {
     "data": {
      "text/plain": [
       "0    566\n",
       "1      3\n",
       "Name: BROMPHENIRAMINE, dtype: int64"
      ]
     },
     "metadata": {},
     "output_type": "display_data"
    },
    {
     "name": "stdout",
     "output_type": "stream",
     "text": [
      "----------------------------------------BRYONIA ALBA---------------------------------------- - "
     ]
    },
    {
     "data": {
      "text/plain": [
       "0    561\n",
       "1      8\n",
       "Name: BRYONIA ALBA, dtype: int64"
      ]
     },
     "metadata": {},
     "output_type": "display_data"
    },
    {
     "name": "stdout",
     "output_type": "stream",
     "text": [
      "----------------------------------------BUCLIZINE---------------------------------------- - "
     ]
    },
    {
     "data": {
      "text/plain": [
       "0    562\n",
       "1      7\n",
       "Name: BUCLIZINE, dtype: int64"
      ]
     },
     "metadata": {},
     "output_type": "display_data"
    },
    {
     "name": "stdout",
     "output_type": "stream",
     "text": [
      "----------------------------------------CAFFEINE---------------------------------------- - "
     ]
    },
    {
     "data": {
      "text/plain": [
       "0    370\n",
       "1    199\n",
       "Name: CAFFEINE, dtype: int64"
      ]
     },
     "metadata": {},
     "output_type": "display_data"
    },
    {
     "name": "stdout",
     "output_type": "stream",
     "text": [
      "----------------------------------------CALCIUM---------------------------------------- - "
     ]
    },
    {
     "data": {
      "text/plain": [
       "0    565\n",
       "1      4\n",
       "Name: CALCIUM, dtype: int64"
      ]
     },
     "metadata": {},
     "output_type": "display_data"
    },
    {
     "name": "stdout",
     "output_type": "stream",
     "text": [
      "----------------------------------------CAMPHOR---------------------------------------- - "
     ]
    },
    {
     "data": {
      "text/plain": [
       "0    567\n",
       "1      2\n",
       "Name: CAMPHOR, dtype: int64"
      ]
     },
     "metadata": {},
     "output_type": "display_data"
    },
    {
     "name": "stdout",
     "output_type": "stream",
     "text": [
      "----------------------------------------CAMPHORSULFONIC ACID---------------------------------------- - "
     ]
    },
    {
     "data": {
      "text/plain": [
       "0    566\n",
       "1      3\n",
       "Name: CAMPHORSULFONIC ACID, dtype: int64"
      ]
     },
     "metadata": {},
     "output_type": "display_data"
    },
    {
     "name": "stdout",
     "output_type": "stream",
     "text": [
      "----------------------------------------CARBINOXAMINE---------------------------------------- - "
     ]
    },
    {
     "data": {
      "text/plain": [
       "0    562\n",
       "1      7\n",
       "Name: CARBINOXAMINE, dtype: int64"
      ]
     },
     "metadata": {},
     "output_type": "display_data"
    },
    {
     "name": "stdout",
     "output_type": "stream",
     "text": [
      "----------------------------------------CARBOCISTEINE---------------------------------------- - "
     ]
    },
    {
     "data": {
      "text/plain": [
       "0    564\n",
       "1      5\n",
       "Name: CARBOCISTEINE, dtype: int64"
      ]
     },
     "metadata": {},
     "output_type": "display_data"
    },
    {
     "name": "stdout",
     "output_type": "stream",
     "text": [
      "----------------------------------------CEPHAELIS IPECACUANHA---------------------------------------- - "
     ]
    },
    {
     "data": {
      "text/plain": [
       "0    554\n",
       "1     15\n",
       "Name: CEPHAELIS IPECACUANHA, dtype: int64"
      ]
     },
     "metadata": {},
     "output_type": "display_data"
    },
    {
     "name": "stdout",
     "output_type": "stream",
     "text": [
      "----------------------------------------CHELIDONIUM MAJUS---------------------------------------- - "
     ]
    },
    {
     "data": {
      "text/plain": [
       "0    555\n",
       "1     14\n",
       "Name: CHELIDONIUM MAJUS, dtype: int64"
      ]
     },
     "metadata": {},
     "output_type": "display_data"
    },
    {
     "name": "stdout",
     "output_type": "stream",
     "text": [
      "----------------------------------------CHLORPHENAMINE---------------------------------------- - "
     ]
    },
    {
     "data": {
      "text/plain": [
       "0    550\n",
       "1     19\n",
       "Name: CHLORPHENAMINE, dtype: int64"
      ]
     },
     "metadata": {},
     "output_type": "display_data"
    },
    {
     "name": "stdout",
     "output_type": "stream",
     "text": [
      "----------------------------------------CINEOLE---------------------------------------- - "
     ]
    },
    {
     "data": {
      "text/plain": [
       "0    563\n",
       "1      6\n",
       "Name: CINEOLE, dtype: int64"
      ]
     },
     "metadata": {},
     "output_type": "display_data"
    },
    {
     "name": "stdout",
     "output_type": "stream",
     "text": [
      "----------------------------------------CINNAMAVERINE---------------------------------------- - "
     ]
    },
    {
     "data": {
      "text/plain": [
       "0    567\n",
       "1      2\n",
       "Name: CINNAMAVERINE, dtype: int64"
      ]
     },
     "metadata": {},
     "output_type": "display_data"
    },
    {
     "name": "stdout",
     "output_type": "stream",
     "text": [
      "----------------------------------------CINNAMOMUM ZEYLANICUM---------------------------------------- - "
     ]
    },
    {
     "data": {
      "text/plain": [
       "0    568\n",
       "1      1\n",
       "Name: CINNAMOMUM ZEYLANICUM, dtype: int64"
      ]
     },
     "metadata": {},
     "output_type": "display_data"
    },
    {
     "name": "stdout",
     "output_type": "stream",
     "text": [
      "----------------------------------------CISTUS CANADENSIS---------------------------------------- - "
     ]
    },
    {
     "data": {
      "text/plain": [
       "0    567\n",
       "1      2\n",
       "Name: CISTUS CANADENSIS, dtype: int64"
      ]
     },
     "metadata": {},
     "output_type": "display_data"
    },
    {
     "name": "stdout",
     "output_type": "stream",
     "text": [
      "----------------------------------------CITRIC ACID---------------------------------------- - "
     ]
    },
    {
     "data": {
      "text/plain": [
       "0    558\n",
       "1     11\n",
       "Name: CITRIC ACID, dtype: int64"
      ]
     },
     "metadata": {},
     "output_type": "display_data"
    },
    {
     "name": "stdout",
     "output_type": "stream",
     "text": [
      "----------------------------------------CITRUS AURANTIUM---------------------------------------- - "
     ]
    },
    {
     "data": {
      "text/plain": [
       "0    567\n",
       "1      2\n",
       "Name: CITRUS AURANTIUM, dtype: int64"
      ]
     },
     "metadata": {},
     "output_type": "display_data"
    },
    {
     "name": "stdout",
     "output_type": "stream",
     "text": [
      "----------------------------------------CODEINE---------------------------------------- - "
     ]
    },
    {
     "data": {
      "text/plain": [
       "1    569\n",
       "Name: CODEINE, dtype: int64"
      ]
     },
     "metadata": {},
     "output_type": "display_data"
    },
    {
     "name": "stdout",
     "output_type": "stream",
     "text": [
      "----------------------------------------CRATAEGUS LAEVIGATA---------------------------------------- - "
     ]
    },
    {
     "data": {
      "text/plain": [
       "0    568\n",
       "1      1\n",
       "Name: CRATAEGUS LAEVIGATA, dtype: int64"
      ]
     },
     "metadata": {},
     "output_type": "display_data"
    },
    {
     "name": "stdout",
     "output_type": "stream",
     "text": [
      "----------------------------------------CRESOTAMIDE---------------------------------------- - "
     ]
    },
    {
     "data": {
      "text/plain": [
       "0    568\n",
       "1      1\n",
       "Name: CRESOTAMIDE, dtype: int64"
      ]
     },
     "metadata": {},
     "output_type": "display_data"
    },
    {
     "name": "stdout",
     "output_type": "stream",
     "text": [
      "----------------------------------------DEXTROMETHORPHAN---------------------------------------- - "
     ]
    },
    {
     "data": {
      "text/plain": [
       "0    568\n",
       "1      1\n",
       "Name: DEXTROMETHORPHAN, dtype: int64"
      ]
     },
     "metadata": {},
     "output_type": "display_data"
    },
    {
     "name": "stdout",
     "output_type": "stream",
     "text": [
      "----------------------------------------DIPHENHYDRAMINE---------------------------------------- - "
     ]
    },
    {
     "data": {
      "text/plain": [
       "0    532\n",
       "1     37\n",
       "Name: DIPHENHYDRAMINE, dtype: int64"
      ]
     },
     "metadata": {},
     "output_type": "display_data"
    },
    {
     "name": "stdout",
     "output_type": "stream",
     "text": [
      "----------------------------------------DIPHENYLPYRALINE---------------------------------------- - "
     ]
    },
    {
     "data": {
      "text/plain": [
       "0    567\n",
       "1      2\n",
       "Name: DIPHENYLPYRALINE, dtype: int64"
      ]
     },
     "metadata": {},
     "output_type": "display_data"
    },
    {
     "name": "stdout",
     "output_type": "stream",
     "text": [
      "----------------------------------------DL-LACTIC ACID---------------------------------------- - "
     ]
    },
    {
     "data": {
      "text/plain": [
       "0    567\n",
       "1      2\n",
       "Name: DL-LACTIC ACID, dtype: int64"
      ]
     },
     "metadata": {},
     "output_type": "display_data"
    },
    {
     "name": "stdout",
     "output_type": "stream",
     "text": [
      "----------------------------------------DOXYLAMINE---------------------------------------- - "
     ]
    },
    {
     "data": {
      "text/plain": [
       "0    517\n",
       "1     52\n",
       "Name: DOXYLAMINE, dtype: int64"
      ]
     },
     "metadata": {},
     "output_type": "display_data"
    },
    {
     "name": "stdout",
     "output_type": "stream",
     "text": [
      "----------------------------------------DROFENINE---------------------------------------- - "
     ]
    },
    {
     "data": {
      "text/plain": [
       "0    568\n",
       "1      1\n",
       "Name: DROFENINE, dtype: int64"
      ]
     },
     "metadata": {},
     "output_type": "display_data"
    },
    {
     "name": "stdout",
     "output_type": "stream",
     "text": [
      "----------------------------------------DROSERA ROTUNDIFOLIA---------------------------------------- - "
     ]
    },
    {
     "data": {
      "text/plain": [
       "0    557\n",
       "1     12\n",
       "Name: DROSERA ROTUNDIFOLIA, dtype: int64"
      ]
     },
     "metadata": {},
     "output_type": "display_data"
    },
    {
     "name": "stdout",
     "output_type": "stream",
     "text": [
      "----------------------------------------DROTAVERINE---------------------------------------- - "
     ]
    },
    {
     "data": {
      "text/plain": [
       "0    566\n",
       "1      3\n",
       "Name: DROTAVERINE, dtype: int64"
      ]
     },
     "metadata": {},
     "output_type": "display_data"
    },
    {
     "name": "stdout",
     "output_type": "stream",
     "text": [
      "----------------------------------------EPHEDRINE---------------------------------------- - "
     ]
    },
    {
     "data": {
      "text/plain": [
       "0    517\n",
       "1     52\n",
       "Name: EPHEDRINE, dtype: int64"
      ]
     },
     "metadata": {},
     "output_type": "display_data"
    },
    {
     "name": "stdout",
     "output_type": "stream",
     "text": [
      "----------------------------------------ERGOTAMINE---------------------------------------- - "
     ]
    },
    {
     "data": {
      "text/plain": [
       "0    567\n",
       "1      2\n",
       "Name: ERGOTAMINE, dtype: int64"
      ]
     },
     "metadata": {},
     "output_type": "display_data"
    },
    {
     "name": "stdout",
     "output_type": "stream",
     "text": [
      "----------------------------------------ETHYLMORPHINE---------------------------------------- - "
     ]
    },
    {
     "data": {
      "text/plain": [
       "0    562\n",
       "1      7\n",
       "Name: ETHYLMORPHINE, dtype: int64"
      ]
     },
     "metadata": {},
     "output_type": "display_data"
    },
    {
     "name": "stdout",
     "output_type": "stream",
     "text": [
      "----------------------------------------EUCALYPTUS GLOBULUS---------------------------------------- - "
     ]
    },
    {
     "data": {
      "text/plain": [
       "0    552\n",
       "1     17\n",
       "Name: EUCALYPTUS GLOBULUS, dtype: int64"
      ]
     },
     "metadata": {},
     "output_type": "display_data"
    },
    {
     "name": "stdout",
     "output_type": "stream",
     "text": [
      "----------------------------------------FOENICULUM VULGARE---------------------------------------- - "
     ]
    },
    {
     "data": {
      "text/plain": [
       "0    563\n",
       "1      6\n",
       "Name: FOENICULUM VULGARE, dtype: int64"
      ]
     },
     "metadata": {},
     "output_type": "display_data"
    },
    {
     "name": "stdout",
     "output_type": "stream",
     "text": [
      "----------------------------------------FORMIC ACID---------------------------------------- - "
     ]
    },
    {
     "data": {
      "text/plain": [
       "0    566\n",
       "1      3\n",
       "Name: FORMIC ACID, dtype: int64"
      ]
     },
     "metadata": {},
     "output_type": "display_data"
    },
    {
     "name": "stdout",
     "output_type": "stream",
     "text": [
      "----------------------------------------FRANGULA ALNUS---------------------------------------- - "
     ]
    },
    {
     "data": {
      "text/plain": [
       "0    568\n",
       "1      1\n",
       "Name: FRANGULA ALNUS, dtype: int64"
      ]
     },
     "metadata": {},
     "output_type": "display_data"
    },
    {
     "name": "stdout",
     "output_type": "stream",
     "text": [
      "----------------------------------------GLUCOSE---------------------------------------- - "
     ]
    },
    {
     "data": {
      "text/plain": [
       "0    568\n",
       "1      1\n",
       "Name: GLUCOSE, dtype: int64"
      ]
     },
     "metadata": {},
     "output_type": "display_data"
    },
    {
     "name": "stdout",
     "output_type": "stream",
     "text": [
      "----------------------------------------GLYCYRRHIZA GLABRA---------------------------------------- - "
     ]
    },
    {
     "data": {
      "text/plain": [
       "0    556\n",
       "1     13\n",
       "Name: GLYCYRRHIZA GLABRA, dtype: int64"
      ]
     },
     "metadata": {},
     "output_type": "display_data"
    },
    {
     "name": "stdout",
     "output_type": "stream",
     "text": [
      "----------------------------------------GRINDELIA ROBUSTA---------------------------------------- - "
     ]
    },
    {
     "data": {
      "text/plain": [
       "0    560\n",
       "1      9\n",
       "Name: GRINDELIA ROBUSTA, dtype: int64"
      ]
     },
     "metadata": {},
     "output_type": "display_data"
    },
    {
     "name": "stdout",
     "output_type": "stream",
     "text": [
      "----------------------------------------GUAIACOL---------------------------------------- - "
     ]
    },
    {
     "data": {
      "text/plain": [
       "0    559\n",
       "1     10\n",
       "Name: GUAIACOL, dtype: int64"
      ]
     },
     "metadata": {},
     "output_type": "display_data"
    },
    {
     "name": "stdout",
     "output_type": "stream",
     "text": [
      "----------------------------------------GUAIFENESIN---------------------------------------- - "
     ]
    },
    {
     "data": {
      "text/plain": [
       "0    539\n",
       "1     30\n",
       "Name: GUAIFENESIN, dtype: int64"
      ]
     },
     "metadata": {},
     "output_type": "display_data"
    },
    {
     "name": "stdout",
     "output_type": "stream",
     "text": [
      "----------------------------------------HEDERA HELIX---------------------------------------- - "
     ]
    },
    {
     "data": {
      "text/plain": [
       "0    565\n",
       "1      4\n",
       "Name: HEDERA HELIX, dtype: int64"
      ]
     },
     "metadata": {},
     "output_type": "display_data"
    },
    {
     "name": "stdout",
     "output_type": "stream",
     "text": [
      "----------------------------------------HESPERIDIN---------------------------------------- - "
     ]
    },
    {
     "data": {
      "text/plain": [
       "0    568\n",
       "1      1\n",
       "Name: HESPERIDIN, dtype: int64"
      ]
     },
     "metadata": {},
     "output_type": "display_data"
    },
    {
     "name": "stdout",
     "output_type": "stream",
     "text": [
      "----------------------------------------HISTAMINE---------------------------------------- - "
     ]
    },
    {
     "data": {
      "text/plain": [
       "0    567\n",
       "1      2\n",
       "Name: HISTAMINE, dtype: int64"
      ]
     },
     "metadata": {},
     "output_type": "display_data"
    },
    {
     "name": "stdout",
     "output_type": "stream",
     "text": [
      "----------------------------------------HYOSCYAMINE---------------------------------------- - "
     ]
    },
    {
     "data": {
      "text/plain": [
       "0    567\n",
       "1      2\n",
       "Name: HYOSCYAMINE, dtype: int64"
      ]
     },
     "metadata": {},
     "output_type": "display_data"
    },
    {
     "name": "stdout",
     "output_type": "stream",
     "text": [
      "----------------------------------------HYOSCYAMUS NIGER---------------------------------------- - "
     ]
    },
    {
     "data": {
      "text/plain": [
       "0    567\n",
       "1      2\n",
       "Name: HYOSCYAMUS NIGER, dtype: int64"
      ]
     },
     "metadata": {},
     "output_type": "display_data"
    },
    {
     "name": "stdout",
     "output_type": "stream",
     "text": [
      "----------------------------------------HYSSOPUS OFFICINALIS---------------------------------------- - "
     ]
    },
    {
     "data": {
      "text/plain": [
       "0    568\n",
       "1      1\n",
       "Name: HYSSOPUS OFFICINALIS, dtype: int64"
      ]
     },
     "metadata": {},
     "output_type": "display_data"
    },
    {
     "name": "stdout",
     "output_type": "stream",
     "text": [
      "----------------------------------------IBUPROFEN---------------------------------------- - "
     ]
    },
    {
     "data": {
      "text/plain": [
       "0    537\n",
       "1     32\n",
       "Name: IBUPROFEN, dtype: int64"
      ]
     },
     "metadata": {},
     "output_type": "display_data"
    },
    {
     "name": "stdout",
     "output_type": "stream",
     "text": [
      "----------------------------------------ILLICIUM VERUM---------------------------------------- - "
     ]
    },
    {
     "data": {
      "text/plain": [
       "0    567\n",
       "1      2\n",
       "Name: ILLICIUM VERUM, dtype: int64"
      ]
     },
     "metadata": {},
     "output_type": "display_data"
    },
    {
     "name": "stdout",
     "output_type": "stream",
     "text": [
      "----------------------------------------LEVOMENTHOL---------------------------------------- - "
     ]
    },
    {
     "data": {
      "text/plain": [
       "0    560\n",
       "1      9\n",
       "Name: LEVOMENTHOL, dtype: int64"
      ]
     },
     "metadata": {},
     "output_type": "display_data"
    },
    {
     "name": "stdout",
     "output_type": "stream",
     "text": [
      "----------------------------------------LIDOCAINE---------------------------------------- - "
     ]
    },
    {
     "data": {
      "text/plain": [
       "0    567\n",
       "1      2\n",
       "Name: LIDOCAINE, dtype: int64"
      ]
     },
     "metadata": {},
     "output_type": "display_data"
    },
    {
     "name": "stdout",
     "output_type": "stream",
     "text": [
      "----------------------------------------LUFFA ACUTANGULA---------------------------------------- - "
     ]
    },
    {
     "data": {
      "text/plain": [
       "0    567\n",
       "1      2\n",
       "Name: LUFFA ACUTANGULA, dtype: int64"
      ]
     },
     "metadata": {},
     "output_type": "display_data"
    },
    {
     "name": "stdout",
     "output_type": "stream",
     "text": [
      "----------------------------------------LYSOZYME---------------------------------------- - "
     ]
    },
    {
     "data": {
      "text/plain": [
       "0    560\n",
       "1      9\n",
       "Name: LYSOZYME, dtype: int64"
      ]
     },
     "metadata": {},
     "output_type": "display_data"
    },
    {
     "name": "stdout",
     "output_type": "stream",
     "text": [
      "----------------------------------------MALLOTUS PHILIPPINENSIS---------------------------------------- - "
     ]
    },
    {
     "data": {
      "text/plain": [
       "0    567\n",
       "1      2\n",
       "Name: MALLOTUS PHILIPPINENSIS, dtype: int64"
      ]
     },
     "metadata": {},
     "output_type": "display_data"
    },
    {
     "name": "stdout",
     "output_type": "stream",
     "text": [
      "----------------------------------------MALVA PURPUREA---------------------------------------- - "
     ]
    },
    {
     "data": {
      "text/plain": [
       "0    568\n",
       "1      1\n",
       "Name: MALVA PURPUREA, dtype: int64"
      ]
     },
     "metadata": {},
     "output_type": "display_data"
    },
    {
     "name": "stdout",
     "output_type": "stream",
     "text": [
      "----------------------------------------MENTHA PIPERITA---------------------------------------- - "
     ]
    },
    {
     "data": {
      "text/plain": [
       "0    568\n",
       "1      1\n",
       "Name: MENTHA PIPERITA, dtype: int64"
      ]
     },
     "metadata": {},
     "output_type": "display_data"
    },
    {
     "name": "stdout",
     "output_type": "stream",
     "text": [
      "----------------------------------------MENTHOL---------------------------------------- - "
     ]
    },
    {
     "data": {
      "text/plain": [
       "0    557\n",
       "1     12\n",
       "Name: MENTHOL, dtype: int64"
      ]
     },
     "metadata": {},
     "output_type": "display_data"
    },
    {
     "name": "stdout",
     "output_type": "stream",
     "text": [
      "----------------------------------------MEPROBAMATE---------------------------------------- - "
     ]
    },
    {
     "data": {
      "text/plain": [
       "0    568\n",
       "1      1\n",
       "Name: MEPROBAMATE, dtype: int64"
      ]
     },
     "metadata": {},
     "output_type": "display_data"
    },
    {
     "name": "stdout",
     "output_type": "stream",
     "text": [
      "----------------------------------------MEPYRAMINE---------------------------------------- - "
     ]
    },
    {
     "data": {
      "text/plain": [
       "0    564\n",
       "1      5\n",
       "Name: MEPYRAMINE, dtype: int64"
      ]
     },
     "metadata": {},
     "output_type": "display_data"
    },
    {
     "name": "stdout",
     "output_type": "stream",
     "text": [
      "----------------------------------------METAMIZOLE SODIUM---------------------------------------- - "
     ]
    },
    {
     "data": {
      "text/plain": [
       "0    558\n",
       "1     11\n",
       "Name: METAMIZOLE SODIUM, dtype: int64"
      ]
     },
     "metadata": {},
     "output_type": "display_data"
    },
    {
     "name": "stdout",
     "output_type": "stream",
     "text": [
      "----------------------------------------METHAPYRILENE---------------------------------------- - "
     ]
    },
    {
     "data": {
      "text/plain": [
       "0    568\n",
       "1      1\n",
       "Name: METHAPYRILENE, dtype: int64"
      ]
     },
     "metadata": {},
     "output_type": "display_data"
    },
    {
     "name": "stdout",
     "output_type": "stream",
     "text": [
      "----------------------------------------METHYLEPHEDRINE---------------------------------------- - "
     ]
    },
    {
     "data": {
      "text/plain": [
       "0    552\n",
       "1     17\n",
       "Name: METHYLEPHEDRINE, dtype: int64"
      ]
     },
     "metadata": {},
     "output_type": "display_data"
    },
    {
     "name": "stdout",
     "output_type": "stream",
     "text": [
      "----------------------------------------NAPROXEN---------------------------------------- - "
     ]
    },
    {
     "data": {
      "text/plain": [
       "0    566\n",
       "1      3\n",
       "Name: NAPROXEN, dtype: int64"
      ]
     },
     "metadata": {},
     "output_type": "display_data"
    },
    {
     "name": "stdout",
     "output_type": "stream",
     "text": [
      "----------------------------------------NICOTINAMIDE---------------------------------------- - "
     ]
    },
    {
     "data": {
      "text/plain": [
       "0    568\n",
       "1      1\n",
       "Name: NICOTINAMIDE, dtype: int64"
      ]
     },
     "metadata": {},
     "output_type": "display_data"
    },
    {
     "name": "stdout",
     "output_type": "stream",
     "text": [
      "----------------------------------------NOSCAPINE---------------------------------------- - "
     ]
    },
    {
     "data": {
      "text/plain": [
       "0    562\n",
       "1      7\n",
       "Name: NOSCAPINE, dtype: int64"
      ]
     },
     "metadata": {},
     "output_type": "display_data"
    },
    {
     "name": "stdout",
     "output_type": "stream",
     "text": [
      "----------------------------------------O-PHENOLSULFONIC ACID---------------------------------------- - "
     ]
    },
    {
     "data": {
      "text/plain": [
       "0    567\n",
       "1      2\n",
       "Name: O-PHENOLSULFONIC ACID, dtype: int64"
      ]
     },
     "metadata": {},
     "output_type": "display_data"
    },
    {
     "name": "stdout",
     "output_type": "stream",
     "text": [
      "----------------------------------------PANTOTHENIC ACID---------------------------------------- - "
     ]
    },
    {
     "data": {
      "text/plain": [
       "0    568\n",
       "1      1\n",
       "Name: PANTOTHENIC ACID, dtype: int64"
      ]
     },
     "metadata": {},
     "output_type": "display_data"
    },
    {
     "name": "stdout",
     "output_type": "stream",
     "text": [
      "----------------------------------------PAPAVER RHOEAS---------------------------------------- - "
     ]
    },
    {
     "data": {
      "text/plain": [
       "0    566\n",
       "1      3\n",
       "Name: PAPAVER RHOEAS, dtype: int64"
      ]
     },
     "metadata": {},
     "output_type": "display_data"
    },
    {
     "name": "stdout",
     "output_type": "stream",
     "text": [
      "----------------------------------------PAPAVERINE---------------------------------------- - "
     ]
    },
    {
     "data": {
      "text/plain": [
       "0    565\n",
       "1      4\n",
       "Name: PAPAVERINE, dtype: int64"
      ]
     },
     "metadata": {},
     "output_type": "display_data"
    },
    {
     "name": "stdout",
     "output_type": "stream",
     "text": [
      "----------------------------------------PARACETAMOL---------------------------------------- - "
     ]
    },
    {
     "data": {
      "text/plain": [
       "1    310\n",
       "0    259\n",
       "Name: PARACETAMOL, dtype: int64"
      ]
     },
     "metadata": {},
     "output_type": "display_data"
    },
    {
     "name": "stdout",
     "output_type": "stream",
     "text": [
      "----------------------------------------PENTOBARBITAL---------------------------------------- - "
     ]
    },
    {
     "data": {
      "text/plain": [
       "0    568\n",
       "1      1\n",
       "Name: PENTOBARBITAL, dtype: int64"
      ]
     },
     "metadata": {},
     "output_type": "display_data"
    },
    {
     "name": "stdout",
     "output_type": "stream",
     "text": [
      "----------------------------------------PHENACETIN---------------------------------------- - "
     ]
    },
    {
     "data": {
      "text/plain": [
       "0    566\n",
       "1      3\n",
       "Name: PHENACETIN, dtype: int64"
      ]
     },
     "metadata": {},
     "output_type": "display_data"
    },
    {
     "name": "stdout",
     "output_type": "stream",
     "text": [
      "----------------------------------------PHENAZONE---------------------------------------- - "
     ]
    },
    {
     "data": {
      "text/plain": [
       "0    567\n",
       "1      2\n",
       "Name: PHENAZONE, dtype: int64"
      ]
     },
     "metadata": {},
     "output_type": "display_data"
    },
    {
     "name": "stdout",
     "output_type": "stream",
     "text": [
      "----------------------------------------PHENOBARBITAL---------------------------------------- - "
     ]
    },
    {
     "data": {
      "text/plain": [
       "0    559\n",
       "1     10\n",
       "Name: PHENOBARBITAL, dtype: int64"
      ]
     },
     "metadata": {},
     "output_type": "display_data"
    },
    {
     "name": "stdout",
     "output_type": "stream",
     "text": [
      "----------------------------------------PHENOL---------------------------------------- - "
     ]
    },
    {
     "data": {
      "text/plain": [
       "0    567\n",
       "1      2\n",
       "Name: PHENOL, dtype: int64"
      ]
     },
     "metadata": {},
     "output_type": "display_data"
    },
    {
     "name": "stdout",
     "output_type": "stream",
     "text": [
      "----------------------------------------PHENOLPHTHALEIN---------------------------------------- - "
     ]
    },
    {
     "data": {
      "text/plain": [
       "0    568\n",
       "1      1\n",
       "Name: PHENOLPHTHALEIN, dtype: int64"
      ]
     },
     "metadata": {},
     "output_type": "display_data"
    },
    {
     "name": "stdout",
     "output_type": "stream",
     "text": [
      "----------------------------------------PHENYLEPHRINE---------------------------------------- - "
     ]
    },
    {
     "data": {
      "text/plain": [
       "0    564\n",
       "1      5\n",
       "Name: PHENYLEPHRINE, dtype: int64"
      ]
     },
     "metadata": {},
     "output_type": "display_data"
    },
    {
     "name": "stdout",
     "output_type": "stream",
     "text": [
      "----------------------------------------PHENYLPROPANOLAMINE---------------------------------------- - "
     ]
    },
    {
     "data": {
      "text/plain": [
       "0    563\n",
       "1      6\n",
       "Name: PHENYLPROPANOLAMINE, dtype: int64"
      ]
     },
     "metadata": {},
     "output_type": "display_data"
    },
    {
     "name": "stdout",
     "output_type": "stream",
     "text": [
      "----------------------------------------PHENYLTOLOXAMINE---------------------------------------- - "
     ]
    },
    {
     "data": {
      "text/plain": [
       "0    563\n",
       "1      6\n",
       "Name: PHENYLTOLOXAMINE, dtype: int64"
      ]
     },
     "metadata": {},
     "output_type": "display_data"
    },
    {
     "name": "stdout",
     "output_type": "stream",
     "text": [
      "----------------------------------------PHOLCODINE---------------------------------------- - "
     ]
    },
    {
     "data": {
      "text/plain": [
       "0    567\n",
       "1      2\n",
       "Name: PHOLCODINE, dtype: int64"
      ]
     },
     "metadata": {},
     "output_type": "display_data"
    },
    {
     "name": "stdout",
     "output_type": "stream",
     "text": [
      "----------------------------------------PHOSPHORIC ACID---------------------------------------- - "
     ]
    },
    {
     "data": {
      "text/plain": [
       "0    565\n",
       "1      4\n",
       "Name: PHOSPHORIC ACID, dtype: int64"
      ]
     },
     "metadata": {},
     "output_type": "display_data"
    },
    {
     "name": "stdout",
     "output_type": "stream",
     "text": [
      "----------------------------------------PIMPINELLA ANISUM---------------------------------------- - "
     ]
    },
    {
     "data": {
      "text/plain": [
       "0    561\n",
       "1      8\n",
       "Name: PIMPINELLA ANISUM, dtype: int64"
      ]
     },
     "metadata": {},
     "output_type": "display_data"
    },
    {
     "name": "stdout",
     "output_type": "stream",
     "text": [
      "----------------------------------------PINUS MUGO PUMILIO---------------------------------------- - "
     ]
    },
    {
     "data": {
      "text/plain": [
       "0    563\n",
       "1      6\n",
       "Name: PINUS MUGO PUMILIO, dtype: int64"
      ]
     },
     "metadata": {},
     "output_type": "display_data"
    },
    {
     "name": "stdout",
     "output_type": "stream",
     "text": [
      "----------------------------------------PINUS SYLVESTRIS---------------------------------------- - "
     ]
    },
    {
     "data": {
      "text/plain": [
       "0    567\n",
       "1      2\n",
       "Name: PINUS SYLVESTRIS, dtype: int64"
      ]
     },
     "metadata": {},
     "output_type": "display_data"
    },
    {
     "name": "stdout",
     "output_type": "stream",
     "text": [
      "----------------------------------------PIPERYLONE---------------------------------------- - "
     ]
    },
    {
     "data": {
      "text/plain": [
       "0    568\n",
       "1      1\n",
       "Name: PIPERYLONE, dtype: int64"
      ]
     },
     "metadata": {},
     "output_type": "display_data"
    },
    {
     "name": "stdout",
     "output_type": "stream",
     "text": [
      "----------------------------------------PLANTAGO OVATA---------------------------------------- - "
     ]
    },
    {
     "data": {
      "text/plain": [
       "0    568\n",
       "1      1\n",
       "Name: PLANTAGO OVATA, dtype: int64"
      ]
     },
     "metadata": {},
     "output_type": "display_data"
    },
    {
     "name": "stdout",
     "output_type": "stream",
     "text": [
      "----------------------------------------POLYGALA AMARA---------------------------------------- - "
     ]
    },
    {
     "data": {
      "text/plain": [
       "0    563\n",
       "1      6\n",
       "Name: POLYGALA AMARA, dtype: int64"
      ]
     },
     "metadata": {},
     "output_type": "display_data"
    },
    {
     "name": "stdout",
     "output_type": "stream",
     "text": [
      "----------------------------------------POLYGALA SENEGA---------------------------------------- - "
     ]
    },
    {
     "data": {
      "text/plain": [
       "0    558\n",
       "1     11\n",
       "Name: POLYGALA SENEGA, dtype: int64"
      ]
     },
     "metadata": {},
     "output_type": "display_data"
    },
    {
     "name": "stdout",
     "output_type": "stream",
     "text": [
      "----------------------------------------PRIMULA---------------------------------------- - "
     ]
    },
    {
     "data": {
      "text/plain": [
       "0    567\n",
       "1      2\n",
       "Name: PRIMULA, dtype: int64"
      ]
     },
     "metadata": {},
     "output_type": "display_data"
    },
    {
     "name": "stdout",
     "output_type": "stream",
     "text": [
      "----------------------------------------PROMETHAZINE---------------------------------------- - "
     ]
    },
    {
     "data": {
      "text/plain": [
       "0    545\n",
       "1     24\n",
       "Name: PROMETHAZINE, dtype: int64"
      ]
     },
     "metadata": {},
     "output_type": "display_data"
    },
    {
     "name": "stdout",
     "output_type": "stream",
     "text": [
      "----------------------------------------PROPYPHENAZONE---------------------------------------- - "
     ]
    },
    {
     "data": {
      "text/plain": [
       "0    552\n",
       "1     17\n",
       "Name: PROPYPHENAZONE, dtype: int64"
      ]
     },
     "metadata": {},
     "output_type": "display_data"
    },
    {
     "name": "stdout",
     "output_type": "stream",
     "text": [
      "----------------------------------------PRUNUS LAUROCERASUS---------------------------------------- - "
     ]
    },
    {
     "data": {
      "text/plain": [
       "0    564\n",
       "1      5\n",
       "Name: PRUNUS LAUROCERASUS, dtype: int64"
      ]
     },
     "metadata": {},
     "output_type": "display_data"
    },
    {
     "name": "stdout",
     "output_type": "stream",
     "text": [
      "----------------------------------------PSEUDOEPHEDRINE---------------------------------------- - "
     ]
    },
    {
     "data": {
      "text/plain": [
       "0    551\n",
       "1     18\n",
       "Name: PSEUDOEPHEDRINE, dtype: int64"
      ]
     },
     "metadata": {},
     "output_type": "display_data"
    },
    {
     "name": "stdout",
     "output_type": "stream",
     "text": [
      "----------------------------------------PYRIDOXINE---------------------------------------- - "
     ]
    },
    {
     "data": {
      "text/plain": [
       "0    568\n",
       "1      1\n",
       "Name: PYRIDOXINE, dtype: int64"
      ]
     },
     "metadata": {},
     "output_type": "display_data"
    },
    {
     "name": "stdout",
     "output_type": "stream",
     "text": [
      "----------------------------------------RHEUM OFFICINALE---------------------------------------- - "
     ]
    },
    {
     "data": {
      "text/plain": [
       "0    568\n",
       "1      1\n",
       "Name: RHEUM OFFICINALE, dtype: int64"
      ]
     },
     "metadata": {},
     "output_type": "display_data"
    },
    {
     "name": "stdout",
     "output_type": "stream",
     "text": [
      "----------------------------------------RHODEA JAPONICA---------------------------------------- - "
     ]
    },
    {
     "data": {
      "text/plain": [
       "0    567\n",
       "1      2\n",
       "Name: RHODEA JAPONICA, dtype: int64"
      ]
     },
     "metadata": {},
     "output_type": "display_data"
    },
    {
     "name": "stdout",
     "output_type": "stream",
     "text": [
      "----------------------------------------RIBOFLAVIN---------------------------------------- - "
     ]
    },
    {
     "data": {
      "text/plain": [
       "0    554\n",
       "1     15\n",
       "Name: RIBOFLAVIN, dtype: int64"
      ]
     },
     "metadata": {},
     "output_type": "display_data"
    },
    {
     "name": "stdout",
     "output_type": "stream",
     "text": [
      "----------------------------------------SAMBUCUS NIGRA---------------------------------------- - "
     ]
    },
    {
     "data": {
      "text/plain": [
       "0    567\n",
       "1      2\n",
       "Name: SAMBUCUS NIGRA, dtype: int64"
      ]
     },
     "metadata": {},
     "output_type": "display_data"
    },
    {
     "name": "stdout",
     "output_type": "stream",
     "text": [
      "----------------------------------------SAPONARIA OFFICINALIS---------------------------------------- - "
     ]
    },
    {
     "data": {
      "text/plain": [
       "0    568\n",
       "1      1\n",
       "Name: SAPONARIA OFFICINALIS, dtype: int64"
      ]
     },
     "metadata": {},
     "output_type": "display_data"
    },
    {
     "name": "stdout",
     "output_type": "stream",
     "text": [
      "----------------------------------------SCOPOLAMINE---------------------------------------- - "
     ]
    },
    {
     "data": {
      "text/plain": [
       "0    567\n",
       "1      2\n",
       "Name: SCOPOLAMINE, dtype: int64"
      ]
     },
     "metadata": {},
     "output_type": "display_data"
    },
    {
     "name": "stdout",
     "output_type": "stream",
     "text": [
      "----------------------------------------SENNA---------------------------------------- - "
     ]
    },
    {
     "data": {
      "text/plain": [
       "0    568\n",
       "1      1\n",
       "Name: SENNA, dtype: int64"
      ]
     },
     "metadata": {},
     "output_type": "display_data"
    },
    {
     "name": "stdout",
     "output_type": "stream",
     "text": [
      "----------------------------------------SILVER---------------------------------------- - "
     ]
    },
    {
     "data": {
      "text/plain": [
       "0    567\n",
       "1      2\n",
       "Name: SILVER, dtype: int64"
      ]
     },
     "metadata": {},
     "output_type": "display_data"
    },
    {
     "name": "stdout",
     "output_type": "stream",
     "text": [
      "----------------------------------------SISYMBRIUM OFFICINALE---------------------------------------- - "
     ]
    },
    {
     "data": {
      "text/plain": [
       "0    563\n",
       "1      6\n",
       "Name: SISYMBRIUM OFFICINALE, dtype: int64"
      ]
     },
     "metadata": {},
     "output_type": "display_data"
    },
    {
     "name": "stdout",
     "output_type": "stream",
     "text": [
      "----------------------------------------SODIUM---------------------------------------- - "
     ]
    },
    {
     "data": {
      "text/plain": [
       "0    563\n",
       "1      6\n",
       "Name: SODIUM, dtype: int64"
      ]
     },
     "metadata": {},
     "output_type": "display_data"
    },
    {
     "name": "stdout",
     "output_type": "stream",
     "text": [
      "----------------------------------------SORBITOL---------------------------------------- - "
     ]
    },
    {
     "data": {
      "text/plain": [
       "0    567\n",
       "1      2\n",
       "Name: SORBITOL, dtype: int64"
      ]
     },
     "metadata": {},
     "output_type": "display_data"
    },
    {
     "name": "stdout",
     "output_type": "stream",
     "text": [
      "----------------------------------------SULBUTIAMINE---------------------------------------- - "
     ]
    },
    {
     "data": {
      "text/plain": [
       "0    562\n",
       "1      7\n",
       "Name: SULBUTIAMINE, dtype: int64"
      ]
     },
     "metadata": {},
     "output_type": "display_data"
    },
    {
     "name": "stdout",
     "output_type": "stream",
     "text": [
      "----------------------------------------SULFOGAIACOL---------------------------------------- - "
     ]
    },
    {
     "data": {
      "text/plain": [
       "0    558\n",
       "1     11\n",
       "Name: SULFOGAIACOL, dtype: int64"
      ]
     },
     "metadata": {},
     "output_type": "display_data"
    },
    {
     "name": "stdout",
     "output_type": "stream",
     "text": [
      "----------------------------------------TERPIN HYDRATE---------------------------------------- - "
     ]
    },
    {
     "data": {
      "text/plain": [
       "0    565\n",
       "1      4\n",
       "Name: TERPIN HYDRATE, dtype: int64"
      ]
     },
     "metadata": {},
     "output_type": "display_data"
    },
    {
     "name": "stdout",
     "output_type": "stream",
     "text": [
      "----------------------------------------TETRACAINE---------------------------------------- - "
     ]
    },
    {
     "data": {
      "text/plain": [
       "0    568\n",
       "1      1\n",
       "Name: TETRACAINE, dtype: int64"
      ]
     },
     "metadata": {},
     "output_type": "display_data"
    },
    {
     "name": "stdout",
     "output_type": "stream",
     "text": [
      "----------------------------------------TEUCRIUM SCORODONIA---------------------------------------- - "
     ]
    },
    {
     "data": {
      "text/plain": [
       "0    561\n",
       "1      8\n",
       "Name: TEUCRIUM SCORODONIA, dtype: int64"
      ]
     },
     "metadata": {},
     "output_type": "display_data"
    },
    {
     "name": "stdout",
     "output_type": "stream",
     "text": [
      "----------------------------------------THEOPHYLLINE---------------------------------------- - "
     ]
    },
    {
     "data": {
      "text/plain": [
       "0    566\n",
       "1      3\n",
       "Name: THEOPHYLLINE, dtype: int64"
      ]
     },
     "metadata": {},
     "output_type": "display_data"
    },
    {
     "name": "stdout",
     "output_type": "stream",
     "text": [
      "----------------------------------------THERMOPSIS---------------------------------------- - "
     ]
    },
    {
     "data": {
      "text/plain": [
       "0    566\n",
       "1      3\n",
       "Name: THERMOPSIS, dtype: int64"
      ]
     },
     "metadata": {},
     "output_type": "display_data"
    },
    {
     "name": "stdout",
     "output_type": "stream",
     "text": [
      "----------------------------------------THIAMINE---------------------------------------- - "
     ]
    },
    {
     "data": {
      "text/plain": [
       "0    566\n",
       "1      3\n",
       "Name: THIAMINE, dtype: int64"
      ]
     },
     "metadata": {},
     "output_type": "display_data"
    },
    {
     "name": "stdout",
     "output_type": "stream",
     "text": [
      "----------------------------------------THYMUS SERPYLLUM---------------------------------------- - "
     ]
    },
    {
     "data": {
      "text/plain": [
       "0    568\n",
       "1      1\n",
       "Name: THYMUS SERPYLLUM, dtype: int64"
      ]
     },
     "metadata": {},
     "output_type": "display_data"
    },
    {
     "name": "stdout",
     "output_type": "stream",
     "text": [
      "----------------------------------------THYMUS VULGARE---------------------------------------- - "
     ]
    },
    {
     "data": {
      "text/plain": [
       "0    563\n",
       "1      6\n",
       "Name: THYMUS VULGARE, dtype: int64"
      ]
     },
     "metadata": {},
     "output_type": "display_data"
    },
    {
     "name": "stdout",
     "output_type": "stream",
     "text": [
      "----------------------------------------TIN---------------------------------------- - "
     ]
    },
    {
     "data": {
      "text/plain": [
       "0    561\n",
       "1      8\n",
       "Name: TIN, dtype: int64"
      ]
     },
     "metadata": {},
     "output_type": "display_data"
    },
    {
     "name": "stdout",
     "output_type": "stream",
     "text": [
      "----------------------------------------TOLU BALSAM---------------------------------------- - "
     ]
    },
    {
     "data": {
      "text/plain": [
       "0    559\n",
       "1     10\n",
       "Name: TOLU BALSAM, dtype: int64"
      ]
     },
     "metadata": {},
     "output_type": "display_data"
    },
    {
     "name": "stdout",
     "output_type": "stream",
     "text": [
      "----------------------------------------TRANEXAMIC ACID---------------------------------------- - "
     ]
    },
    {
     "data": {
      "text/plain": [
       "0    567\n",
       "1      2\n",
       "Name: TRANEXAMIC ACID, dtype: int64"
      ]
     },
     "metadata": {},
     "output_type": "display_data"
    },
    {
     "name": "stdout",
     "output_type": "stream",
     "text": [
      "----------------------------------------TRIPROLIDINE---------------------------------------- - "
     ]
    },
    {
     "data": {
      "text/plain": [
       "0    558\n",
       "1     11\n",
       "Name: TRIPROLIDINE, dtype: int64"
      ]
     },
     "metadata": {},
     "output_type": "display_data"
    },
    {
     "name": "stdout",
     "output_type": "stream",
     "text": [
      "----------------------------------------TUSSILAGO FARFARA---------------------------------------- - "
     ]
    },
    {
     "data": {
      "text/plain": [
       "0    568\n",
       "1      1\n",
       "Name: TUSSILAGO FARFARA, dtype: int64"
      ]
     },
     "metadata": {},
     "output_type": "display_data"
    },
    {
     "name": "stdout",
     "output_type": "stream",
     "text": [
      "----------------------------------------URGINEA SCILLA---------------------------------------- - "
     ]
    },
    {
     "data": {
      "text/plain": [
       "0    568\n",
       "1      1\n",
       "Name: URGINEA SCILLA, dtype: int64"
      ]
     },
     "metadata": {},
     "output_type": "display_data"
    },
    {
     "name": "stdout",
     "output_type": "stream",
     "text": [
      "----------------------------------------VALERIANA OFFICINALIS---------------------------------------- - "
     ]
    },
    {
     "data": {
      "text/plain": [
       "0    568\n",
       "1      1\n",
       "Name: VALERIANA OFFICINALIS, dtype: int64"
      ]
     },
     "metadata": {},
     "output_type": "display_data"
    },
    {
     "name": "stdout",
     "output_type": "stream",
     "text": [
      "----------------------------------------VERBASCUM DENSIFLORUM---------------------------------------- - "
     ]
    },
    {
     "data": {
      "text/plain": [
       "0    567\n",
       "1      2\n",
       "Name: VERBASCUM DENSIFLORUM, dtype: int64"
      ]
     },
     "metadata": {},
     "output_type": "display_data"
    },
    {
     "name": "stdout",
     "output_type": "stream",
     "text": [
      "----------------------------------------VERBASCUM THAPSUS---------------------------------------- - "
     ]
    },
    {
     "data": {
      "text/plain": [
       "0    568\n",
       "1      1\n",
       "Name: VERBASCUM THAPSUS, dtype: int64"
      ]
     },
     "metadata": {},
     "output_type": "display_data"
    },
    {
     "name": "stdout",
     "output_type": "stream",
     "text": [
      "----------------------------------------VIOLA ODORATA---------------------------------------- - "
     ]
    },
    {
     "data": {
      "text/plain": [
       "0    568\n",
       "1      1\n",
       "Name: VIOLA ODORATA, dtype: int64"
      ]
     },
     "metadata": {},
     "output_type": "display_data"
    },
    {
     "name": "stdout",
     "output_type": "stream",
     "text": [
      "----------------------------------------VISCUM ALBUM---------------------------------------- - "
     ]
    },
    {
     "data": {
      "text/plain": [
       "0    568\n",
       "1      1\n",
       "Name: VISCUM ALBUM, dtype: int64"
      ]
     },
     "metadata": {},
     "output_type": "display_data"
    }
   ],
   "source": [
    "# I tried df2.apply(pd.value_counts) but this did not work... so I used this: \n",
    "for col in df2.columns:\n",
    "    print('-' * 40 + col + '-' * 40 , end=' - ')\n",
    "    display(df2[col].value_counts())"
   ]
  },
  {
   "cell_type": "code",
   "execution_count": 4,
   "metadata": {},
   "outputs": [
    {
     "data": {
      "text/html": [
       "<div>\n",
       "<style scoped>\n",
       "    .dataframe tbody tr th:only-of-type {\n",
       "        vertical-align: middle;\n",
       "    }\n",
       "\n",
       "    .dataframe tbody tr th {\n",
       "        vertical-align: top;\n",
       "    }\n",
       "\n",
       "    .dataframe thead th {\n",
       "        text-align: right;\n",
       "    }\n",
       "</style>\n",
       "<table border=\"1\" class=\"dataframe\">\n",
       "  <thead>\n",
       "    <tr style=\"text-align: right;\">\n",
       "      <th></th>\n",
       "      <th>no_combinations</th>\n",
       "      <th>ACETYLSALICYLIC ACID</th>\n",
       "      <th>ACONITUM NAPELLUS</th>\n",
       "      <th>ALLOBARBITAL</th>\n",
       "      <th>ALTHAEA OFFICINALIS</th>\n",
       "      <th>AMBROXOL</th>\n",
       "      <th>AMBUCETAMIDE</th>\n",
       "      <th>AMMI VISNAGA</th>\n",
       "      <th>AMMONIUM</th>\n",
       "      <th>ANETHOLE</th>\n",
       "      <th>...</th>\n",
       "      <th>TOLU BALSAM</th>\n",
       "      <th>TRANEXAMIC ACID</th>\n",
       "      <th>TRIPROLIDINE</th>\n",
       "      <th>TUSSILAGO FARFARA</th>\n",
       "      <th>URGINEA SCILLA</th>\n",
       "      <th>VALERIANA OFFICINALIS</th>\n",
       "      <th>VERBASCUM DENSIFLORUM</th>\n",
       "      <th>VERBASCUM THAPSUS</th>\n",
       "      <th>VIOLA ODORATA</th>\n",
       "      <th>VISCUM ALBUM</th>\n",
       "    </tr>\n",
       "  </thead>\n",
       "  <tbody>\n",
       "    <tr>\n",
       "      <th>count</th>\n",
       "      <td>569.000000</td>\n",
       "      <td>569.000000</td>\n",
       "      <td>569.000000</td>\n",
       "      <td>569.000000</td>\n",
       "      <td>569.000000</td>\n",
       "      <td>569.000000</td>\n",
       "      <td>569.000000</td>\n",
       "      <td>569.000000</td>\n",
       "      <td>569.000000</td>\n",
       "      <td>569.000000</td>\n",
       "      <td>...</td>\n",
       "      <td>569.000000</td>\n",
       "      <td>569.000000</td>\n",
       "      <td>569.000000</td>\n",
       "      <td>569.000000</td>\n",
       "      <td>569.000000</td>\n",
       "      <td>569.000000</td>\n",
       "      <td>569.000000</td>\n",
       "      <td>569.000000</td>\n",
       "      <td>569.000000</td>\n",
       "      <td>569.000000</td>\n",
       "    </tr>\n",
       "    <tr>\n",
       "      <th>mean</th>\n",
       "      <td>3.523726</td>\n",
       "      <td>0.038664</td>\n",
       "      <td>0.024605</td>\n",
       "      <td>0.001757</td>\n",
       "      <td>0.001757</td>\n",
       "      <td>0.012302</td>\n",
       "      <td>0.001757</td>\n",
       "      <td>0.014060</td>\n",
       "      <td>0.031634</td>\n",
       "      <td>0.001757</td>\n",
       "      <td>...</td>\n",
       "      <td>0.017575</td>\n",
       "      <td>0.003515</td>\n",
       "      <td>0.019332</td>\n",
       "      <td>0.001757</td>\n",
       "      <td>0.001757</td>\n",
       "      <td>0.001757</td>\n",
       "      <td>0.003515</td>\n",
       "      <td>0.001757</td>\n",
       "      <td>0.001757</td>\n",
       "      <td>0.001757</td>\n",
       "    </tr>\n",
       "    <tr>\n",
       "      <th>std</th>\n",
       "      <td>1.925519</td>\n",
       "      <td>0.192963</td>\n",
       "      <td>0.155053</td>\n",
       "      <td>0.041922</td>\n",
       "      <td>0.041922</td>\n",
       "      <td>0.110328</td>\n",
       "      <td>0.041922</td>\n",
       "      <td>0.117841</td>\n",
       "      <td>0.175179</td>\n",
       "      <td>0.041922</td>\n",
       "      <td>...</td>\n",
       "      <td>0.131515</td>\n",
       "      <td>0.059235</td>\n",
       "      <td>0.137811</td>\n",
       "      <td>0.041922</td>\n",
       "      <td>0.041922</td>\n",
       "      <td>0.041922</td>\n",
       "      <td>0.059235</td>\n",
       "      <td>0.041922</td>\n",
       "      <td>0.041922</td>\n",
       "      <td>0.041922</td>\n",
       "    </tr>\n",
       "    <tr>\n",
       "      <th>min</th>\n",
       "      <td>1.000000</td>\n",
       "      <td>0.000000</td>\n",
       "      <td>0.000000</td>\n",
       "      <td>0.000000</td>\n",
       "      <td>0.000000</td>\n",
       "      <td>0.000000</td>\n",
       "      <td>0.000000</td>\n",
       "      <td>0.000000</td>\n",
       "      <td>0.000000</td>\n",
       "      <td>0.000000</td>\n",
       "      <td>...</td>\n",
       "      <td>0.000000</td>\n",
       "      <td>0.000000</td>\n",
       "      <td>0.000000</td>\n",
       "      <td>0.000000</td>\n",
       "      <td>0.000000</td>\n",
       "      <td>0.000000</td>\n",
       "      <td>0.000000</td>\n",
       "      <td>0.000000</td>\n",
       "      <td>0.000000</td>\n",
       "      <td>0.000000</td>\n",
       "    </tr>\n",
       "    <tr>\n",
       "      <th>25%</th>\n",
       "      <td>2.000000</td>\n",
       "      <td>0.000000</td>\n",
       "      <td>0.000000</td>\n",
       "      <td>0.000000</td>\n",
       "      <td>0.000000</td>\n",
       "      <td>0.000000</td>\n",
       "      <td>0.000000</td>\n",
       "      <td>0.000000</td>\n",
       "      <td>0.000000</td>\n",
       "      <td>0.000000</td>\n",
       "      <td>...</td>\n",
       "      <td>0.000000</td>\n",
       "      <td>0.000000</td>\n",
       "      <td>0.000000</td>\n",
       "      <td>0.000000</td>\n",
       "      <td>0.000000</td>\n",
       "      <td>0.000000</td>\n",
       "      <td>0.000000</td>\n",
       "      <td>0.000000</td>\n",
       "      <td>0.000000</td>\n",
       "      <td>0.000000</td>\n",
       "    </tr>\n",
       "    <tr>\n",
       "      <th>50%</th>\n",
       "      <td>3.000000</td>\n",
       "      <td>0.000000</td>\n",
       "      <td>0.000000</td>\n",
       "      <td>0.000000</td>\n",
       "      <td>0.000000</td>\n",
       "      <td>0.000000</td>\n",
       "      <td>0.000000</td>\n",
       "      <td>0.000000</td>\n",
       "      <td>0.000000</td>\n",
       "      <td>0.000000</td>\n",
       "      <td>...</td>\n",
       "      <td>0.000000</td>\n",
       "      <td>0.000000</td>\n",
       "      <td>0.000000</td>\n",
       "      <td>0.000000</td>\n",
       "      <td>0.000000</td>\n",
       "      <td>0.000000</td>\n",
       "      <td>0.000000</td>\n",
       "      <td>0.000000</td>\n",
       "      <td>0.000000</td>\n",
       "      <td>0.000000</td>\n",
       "    </tr>\n",
       "    <tr>\n",
       "      <th>75%</th>\n",
       "      <td>4.000000</td>\n",
       "      <td>0.000000</td>\n",
       "      <td>0.000000</td>\n",
       "      <td>0.000000</td>\n",
       "      <td>0.000000</td>\n",
       "      <td>0.000000</td>\n",
       "      <td>0.000000</td>\n",
       "      <td>0.000000</td>\n",
       "      <td>0.000000</td>\n",
       "      <td>0.000000</td>\n",
       "      <td>...</td>\n",
       "      <td>0.000000</td>\n",
       "      <td>0.000000</td>\n",
       "      <td>0.000000</td>\n",
       "      <td>0.000000</td>\n",
       "      <td>0.000000</td>\n",
       "      <td>0.000000</td>\n",
       "      <td>0.000000</td>\n",
       "      <td>0.000000</td>\n",
       "      <td>0.000000</td>\n",
       "      <td>0.000000</td>\n",
       "    </tr>\n",
       "    <tr>\n",
       "      <th>max</th>\n",
       "      <td>16.000000</td>\n",
       "      <td>1.000000</td>\n",
       "      <td>1.000000</td>\n",
       "      <td>1.000000</td>\n",
       "      <td>1.000000</td>\n",
       "      <td>1.000000</td>\n",
       "      <td>1.000000</td>\n",
       "      <td>1.000000</td>\n",
       "      <td>1.000000</td>\n",
       "      <td>1.000000</td>\n",
       "      <td>...</td>\n",
       "      <td>1.000000</td>\n",
       "      <td>1.000000</td>\n",
       "      <td>1.000000</td>\n",
       "      <td>1.000000</td>\n",
       "      <td>1.000000</td>\n",
       "      <td>1.000000</td>\n",
       "      <td>1.000000</td>\n",
       "      <td>1.000000</td>\n",
       "      <td>1.000000</td>\n",
       "      <td>1.000000</td>\n",
       "    </tr>\n",
       "  </tbody>\n",
       "</table>\n",
       "<p>8 rows × 151 columns</p>\n",
       "</div>"
      ],
      "text/plain": [
       "       no_combinations  ACETYLSALICYLIC ACID  ACONITUM NAPELLUS  ALLOBARBITAL  \\\n",
       "count       569.000000            569.000000         569.000000    569.000000   \n",
       "mean          3.523726              0.038664           0.024605      0.001757   \n",
       "std           1.925519              0.192963           0.155053      0.041922   \n",
       "min           1.000000              0.000000           0.000000      0.000000   \n",
       "25%           2.000000              0.000000           0.000000      0.000000   \n",
       "50%           3.000000              0.000000           0.000000      0.000000   \n",
       "75%           4.000000              0.000000           0.000000      0.000000   \n",
       "max          16.000000              1.000000           1.000000      1.000000   \n",
       "\n",
       "       ALTHAEA OFFICINALIS    AMBROXOL  AMBUCETAMIDE  AMMI VISNAGA  \\\n",
       "count           569.000000  569.000000    569.000000    569.000000   \n",
       "mean              0.001757    0.012302      0.001757      0.014060   \n",
       "std               0.041922    0.110328      0.041922      0.117841   \n",
       "min               0.000000    0.000000      0.000000      0.000000   \n",
       "25%               0.000000    0.000000      0.000000      0.000000   \n",
       "50%               0.000000    0.000000      0.000000      0.000000   \n",
       "75%               0.000000    0.000000      0.000000      0.000000   \n",
       "max               1.000000    1.000000      1.000000      1.000000   \n",
       "\n",
       "         AMMONIUM    ANETHOLE      ...       TOLU BALSAM  TRANEXAMIC ACID  \\\n",
       "count  569.000000  569.000000      ...        569.000000       569.000000   \n",
       "mean     0.031634    0.001757      ...          0.017575         0.003515   \n",
       "std      0.175179    0.041922      ...          0.131515         0.059235   \n",
       "min      0.000000    0.000000      ...          0.000000         0.000000   \n",
       "25%      0.000000    0.000000      ...          0.000000         0.000000   \n",
       "50%      0.000000    0.000000      ...          0.000000         0.000000   \n",
       "75%      0.000000    0.000000      ...          0.000000         0.000000   \n",
       "max      1.000000    1.000000      ...          1.000000         1.000000   \n",
       "\n",
       "       TRIPROLIDINE  TUSSILAGO FARFARA  URGINEA SCILLA  VALERIANA OFFICINALIS  \\\n",
       "count    569.000000         569.000000      569.000000             569.000000   \n",
       "mean       0.019332           0.001757        0.001757               0.001757   \n",
       "std        0.137811           0.041922        0.041922               0.041922   \n",
       "min        0.000000           0.000000        0.000000               0.000000   \n",
       "25%        0.000000           0.000000        0.000000               0.000000   \n",
       "50%        0.000000           0.000000        0.000000               0.000000   \n",
       "75%        0.000000           0.000000        0.000000               0.000000   \n",
       "max        1.000000           1.000000        1.000000               1.000000   \n",
       "\n",
       "       VERBASCUM DENSIFLORUM  VERBASCUM THAPSUS  VIOLA ODORATA  VISCUM ALBUM  \n",
       "count             569.000000         569.000000     569.000000    569.000000  \n",
       "mean                0.003515           0.001757       0.001757      0.001757  \n",
       "std                 0.059235           0.041922       0.041922      0.041922  \n",
       "min                 0.000000           0.000000       0.000000      0.000000  \n",
       "25%                 0.000000           0.000000       0.000000      0.000000  \n",
       "50%                 0.000000           0.000000       0.000000      0.000000  \n",
       "75%                 0.000000           0.000000       0.000000      0.000000  \n",
       "max                 1.000000           1.000000       1.000000      1.000000  \n",
       "\n",
       "[8 rows x 151 columns]"
      ]
     },
     "execution_count": 4,
     "metadata": {},
     "output_type": "execute_result"
    }
   ],
   "source": [
    "df2.describe()"
   ]
  },
  {
   "cell_type": "code",
   "execution_count": 6,
   "metadata": {},
   "outputs": [
    {
     "data": {
      "text/html": [
       "<div>\n",
       "<style scoped>\n",
       "    .dataframe tbody tr th:only-of-type {\n",
       "        vertical-align: middle;\n",
       "    }\n",
       "\n",
       "    .dataframe tbody tr th {\n",
       "        vertical-align: top;\n",
       "    }\n",
       "\n",
       "    .dataframe thead th {\n",
       "        text-align: right;\n",
       "    }\n",
       "</style>\n",
       "<table border=\"1\" class=\"dataframe\">\n",
       "  <thead>\n",
       "    <tr style=\"text-align: right;\">\n",
       "      <th></th>\n",
       "      <th>Country</th>\n",
       "      <th>Molecules</th>\n",
       "      <th>no_combinations</th>\n",
       "    </tr>\n",
       "  </thead>\n",
       "  <tbody>\n",
       "    <tr>\n",
       "      <th>0</th>\n",
       "      <td>ARGENTINA</td>\n",
       "      <td>[BENZOIC ACID, CODEINE, CRATAEGUS LAEVIGATA, E...</td>\n",
       "      <td>6</td>\n",
       "    </tr>\n",
       "    <tr>\n",
       "      <th>1</th>\n",
       "      <td>BELGIUM</td>\n",
       "      <td>[ACONITUM NAPELLUS, CODEINE, SULFOGAIACOL]</td>\n",
       "      <td>3</td>\n",
       "    </tr>\n",
       "    <tr>\n",
       "      <th>2</th>\n",
       "      <td>BELGIUM</td>\n",
       "      <td>[BROMOFORM, CAMPHOR, CINEOLE, CODEINE, GUAIACO...</td>\n",
       "      <td>6</td>\n",
       "    </tr>\n",
       "    <tr>\n",
       "      <th>3</th>\n",
       "      <td>BELGIUM</td>\n",
       "      <td>[CODEINE]</td>\n",
       "      <td>1</td>\n",
       "    </tr>\n",
       "    <tr>\n",
       "      <th>4</th>\n",
       "      <td>BELGIUM</td>\n",
       "      <td>[CODEINE, EPHEDRINE, ETHYLMORPHINE, GUAIFENESIN]</td>\n",
       "      <td>4</td>\n",
       "    </tr>\n",
       "    <tr>\n",
       "      <th>5</th>\n",
       "      <td>BELGIUM</td>\n",
       "      <td>[CODEINE]</td>\n",
       "      <td>1</td>\n",
       "    </tr>\n",
       "    <tr>\n",
       "      <th>6</th>\n",
       "      <td>BELGIUM</td>\n",
       "      <td>[CINEOLE, CODEINE]</td>\n",
       "      <td>2</td>\n",
       "    </tr>\n",
       "    <tr>\n",
       "      <th>7</th>\n",
       "      <td>BELGIUM</td>\n",
       "      <td>[ACONITUM NAPELLUS, CODEINE, FORMIC ACID]</td>\n",
       "      <td>3</td>\n",
       "    </tr>\n",
       "    <tr>\n",
       "      <th>8</th>\n",
       "      <td>BELGIUM</td>\n",
       "      <td>[CODEINE]</td>\n",
       "      <td>1</td>\n",
       "    </tr>\n",
       "    <tr>\n",
       "      <th>9</th>\n",
       "      <td>BELGIUM</td>\n",
       "      <td>[CAFFEINE, CINNAMOMUM ZEYLANICUM, CODEINE, PHE...</td>\n",
       "      <td>5</td>\n",
       "    </tr>\n",
       "    <tr>\n",
       "      <th>10</th>\n",
       "      <td>BELGIUM</td>\n",
       "      <td>[ALLOBARBITAL, CODEINE, DROFENINE, PROPYPHENAZ...</td>\n",
       "      <td>4</td>\n",
       "    </tr>\n",
       "    <tr>\n",
       "      <th>11</th>\n",
       "      <td>BELGIUM</td>\n",
       "      <td>[CODEINE, ETHYLMORPHINE, SULFOGAIACOL]</td>\n",
       "      <td>3</td>\n",
       "    </tr>\n",
       "    <tr>\n",
       "      <th>12</th>\n",
       "      <td>BELGIUM</td>\n",
       "      <td>[CODEINE, PARACETAMOL]</td>\n",
       "      <td>2</td>\n",
       "    </tr>\n",
       "    <tr>\n",
       "      <th>13</th>\n",
       "      <td>BELGIUM</td>\n",
       "      <td>[CODEINE]</td>\n",
       "      <td>1</td>\n",
       "    </tr>\n",
       "    <tr>\n",
       "      <th>14</th>\n",
       "      <td>BELGIUM</td>\n",
       "      <td>[ACONITUM NAPELLUS, CODEINE, FORMIC ACID, SISY...</td>\n",
       "      <td>5</td>\n",
       "    </tr>\n",
       "    <tr>\n",
       "      <th>15</th>\n",
       "      <td>BELGIUM</td>\n",
       "      <td>[ACETYLSALICYLIC ACID, CAFFEINE, CODEINE, PARA...</td>\n",
       "      <td>4</td>\n",
       "    </tr>\n",
       "    <tr>\n",
       "      <th>16</th>\n",
       "      <td>BELGIUM</td>\n",
       "      <td>[CINEOLE, CODEINE]</td>\n",
       "      <td>2</td>\n",
       "    </tr>\n",
       "    <tr>\n",
       "      <th>17</th>\n",
       "      <td>BELGIUM</td>\n",
       "      <td>[ACONITUM NAPELLUS, CODEINE, SULFOGAIACOL]</td>\n",
       "      <td>3</td>\n",
       "    </tr>\n",
       "    <tr>\n",
       "      <th>18</th>\n",
       "      <td>BELGIUM</td>\n",
       "      <td>[ACETYLSALICYLIC ACID, CAFFEINE, CODEINE, DIPH...</td>\n",
       "      <td>4</td>\n",
       "    </tr>\n",
       "    <tr>\n",
       "      <th>19</th>\n",
       "      <td>BELGIUM</td>\n",
       "      <td>[CODEINE, EPHEDRINE, ETHYLMORPHINE, GUAIFENESIN]</td>\n",
       "      <td>4</td>\n",
       "    </tr>\n",
       "    <tr>\n",
       "      <th>20</th>\n",
       "      <td>BELGIUM</td>\n",
       "      <td>[ACONITUM NAPELLUS, BENZOIC ACID, CODEINE, PRU...</td>\n",
       "      <td>4</td>\n",
       "    </tr>\n",
       "    <tr>\n",
       "      <th>21</th>\n",
       "      <td>BELGIUM</td>\n",
       "      <td>[ACONITUM NAPELLUS, ATROPA BELLADONNA, CAMPHOR...</td>\n",
       "      <td>8</td>\n",
       "    </tr>\n",
       "    <tr>\n",
       "      <th>22</th>\n",
       "      <td>BELGIUM</td>\n",
       "      <td>[ACETYLSALICYLIC ACID, AMBUCETAMIDE, CAFFEINE,...</td>\n",
       "      <td>5</td>\n",
       "    </tr>\n",
       "    <tr>\n",
       "      <th>23</th>\n",
       "      <td>BELGIUM</td>\n",
       "      <td>[ASCORBIC ACID, CAFFEINE, CODEINE, CRESOTAMIDE...</td>\n",
       "      <td>5</td>\n",
       "    </tr>\n",
       "    <tr>\n",
       "      <th>24</th>\n",
       "      <td>BELGIUM</td>\n",
       "      <td>[ACONITUM NAPELLUS, ATROPA BELLADONNA, BROMOFO...</td>\n",
       "      <td>7</td>\n",
       "    </tr>\n",
       "    <tr>\n",
       "      <th>25</th>\n",
       "      <td>BELGIUM</td>\n",
       "      <td>[CODEINE]</td>\n",
       "      <td>1</td>\n",
       "    </tr>\n",
       "    <tr>\n",
       "      <th>26</th>\n",
       "      <td>BELGIUM</td>\n",
       "      <td>[ASCORBIC ACID, BENZOIC ACID, CEPHAELIS IPECAC...</td>\n",
       "      <td>6</td>\n",
       "    </tr>\n",
       "    <tr>\n",
       "      <th>27</th>\n",
       "      <td>BELGIUM</td>\n",
       "      <td>[CODEINE]</td>\n",
       "      <td>1</td>\n",
       "    </tr>\n",
       "    <tr>\n",
       "      <th>28</th>\n",
       "      <td>BELGIUM</td>\n",
       "      <td>[ACETYLSALICYLIC ACID, CAFFEINE, CODEINE]</td>\n",
       "      <td>3</td>\n",
       "    </tr>\n",
       "    <tr>\n",
       "      <th>29</th>\n",
       "      <td>BELGIUM</td>\n",
       "      <td>[CODEINE]</td>\n",
       "      <td>1</td>\n",
       "    </tr>\n",
       "    <tr>\n",
       "      <th>...</th>\n",
       "      <td>...</td>\n",
       "      <td>...</td>\n",
       "      <td>...</td>\n",
       "    </tr>\n",
       "    <tr>\n",
       "      <th>539</th>\n",
       "      <td>UK</td>\n",
       "      <td>[CODEINE, PARACETAMOL]</td>\n",
       "      <td>2</td>\n",
       "    </tr>\n",
       "    <tr>\n",
       "      <th>540</th>\n",
       "      <td>UK</td>\n",
       "      <td>[CODEINE]</td>\n",
       "      <td>1</td>\n",
       "    </tr>\n",
       "    <tr>\n",
       "      <th>541</th>\n",
       "      <td>UK</td>\n",
       "      <td>[BUCLIZINE, CODEINE, PARACETAMOL]</td>\n",
       "      <td>3</td>\n",
       "    </tr>\n",
       "    <tr>\n",
       "      <th>542</th>\n",
       "      <td>UK</td>\n",
       "      <td>[CODEINE, IBUPROFEN]</td>\n",
       "      <td>2</td>\n",
       "    </tr>\n",
       "    <tr>\n",
       "      <th>543</th>\n",
       "      <td>UK</td>\n",
       "      <td>[CODEINE, PARACETAMOL]</td>\n",
       "      <td>2</td>\n",
       "    </tr>\n",
       "    <tr>\n",
       "      <th>544</th>\n",
       "      <td>UK</td>\n",
       "      <td>[CODEINE, PARACETAMOL]</td>\n",
       "      <td>2</td>\n",
       "    </tr>\n",
       "    <tr>\n",
       "      <th>545</th>\n",
       "      <td>UK</td>\n",
       "      <td>[CODEINE, IBUPROFEN]</td>\n",
       "      <td>2</td>\n",
       "    </tr>\n",
       "    <tr>\n",
       "      <th>546</th>\n",
       "      <td>UK</td>\n",
       "      <td>[CAFFEINE, CODEINE, DOXYLAMINE, PARACETAMOL]</td>\n",
       "      <td>4</td>\n",
       "    </tr>\n",
       "    <tr>\n",
       "      <th>547</th>\n",
       "      <td>UK</td>\n",
       "      <td>[CAFFEINE, CODEINE, PARACETAMOL]</td>\n",
       "      <td>3</td>\n",
       "    </tr>\n",
       "    <tr>\n",
       "      <th>548</th>\n",
       "      <td>UK</td>\n",
       "      <td>[CODEINE, PARACETAMOL]</td>\n",
       "      <td>2</td>\n",
       "    </tr>\n",
       "    <tr>\n",
       "      <th>549</th>\n",
       "      <td>UK</td>\n",
       "      <td>[CAFFEINE, CODEINE, DOXYLAMINE, PARACETAMOL]</td>\n",
       "      <td>4</td>\n",
       "    </tr>\n",
       "    <tr>\n",
       "      <th>550</th>\n",
       "      <td>UK</td>\n",
       "      <td>[CAFFEINE, CODEINE, DOXYLAMINE, PARACETAMOL]</td>\n",
       "      <td>4</td>\n",
       "    </tr>\n",
       "    <tr>\n",
       "      <th>551</th>\n",
       "      <td>UK</td>\n",
       "      <td>[CODEINE, PARACETAMOL]</td>\n",
       "      <td>2</td>\n",
       "    </tr>\n",
       "    <tr>\n",
       "      <th>552</th>\n",
       "      <td>UK</td>\n",
       "      <td>[ACETYLSALICYLIC ACID, CODEINE]</td>\n",
       "      <td>2</td>\n",
       "    </tr>\n",
       "    <tr>\n",
       "      <th>553</th>\n",
       "      <td>UK</td>\n",
       "      <td>[CAFFEINE, CODEINE, PARACETAMOL]</td>\n",
       "      <td>3</td>\n",
       "    </tr>\n",
       "    <tr>\n",
       "      <th>554</th>\n",
       "      <td>UK</td>\n",
       "      <td>[CAFFEINE, CODEINE, PARACETAMOL]</td>\n",
       "      <td>3</td>\n",
       "    </tr>\n",
       "    <tr>\n",
       "      <th>555</th>\n",
       "      <td>UK</td>\n",
       "      <td>[BUCLIZINE, CODEINE, PARACETAMOL]</td>\n",
       "      <td>3</td>\n",
       "    </tr>\n",
       "    <tr>\n",
       "      <th>556</th>\n",
       "      <td>UK</td>\n",
       "      <td>[CODEINE, GUAIACOL, PHOSPHORIC ACID]</td>\n",
       "      <td>3</td>\n",
       "    </tr>\n",
       "    <tr>\n",
       "      <th>557</th>\n",
       "      <td>UK</td>\n",
       "      <td>[CAFFEINE, CODEINE, PARACETAMOL]</td>\n",
       "      <td>3</td>\n",
       "    </tr>\n",
       "    <tr>\n",
       "      <th>558</th>\n",
       "      <td>UK</td>\n",
       "      <td>[ASCORBIC ACID, CAFFEINE, CODEINE, DIPHENHYDRA...</td>\n",
       "      <td>6</td>\n",
       "    </tr>\n",
       "    <tr>\n",
       "      <th>559</th>\n",
       "      <td>UK</td>\n",
       "      <td>[CODEINE, IBUPROFEN]</td>\n",
       "      <td>2</td>\n",
       "    </tr>\n",
       "    <tr>\n",
       "      <th>560</th>\n",
       "      <td>UK</td>\n",
       "      <td>[CAFFEINE, CODEINE, PARACETAMOL]</td>\n",
       "      <td>3</td>\n",
       "    </tr>\n",
       "    <tr>\n",
       "      <th>561</th>\n",
       "      <td>UK</td>\n",
       "      <td>[ACETYLSALICYLIC ACID, CODEINE]</td>\n",
       "      <td>2</td>\n",
       "    </tr>\n",
       "    <tr>\n",
       "      <th>562</th>\n",
       "      <td>UK</td>\n",
       "      <td>[CODEINE, TERPIN HYDRATE]</td>\n",
       "      <td>2</td>\n",
       "    </tr>\n",
       "    <tr>\n",
       "      <th>563</th>\n",
       "      <td>UK</td>\n",
       "      <td>[BROMPHENIRAMINE, CODEINE, PSEUDOEPHEDRINE]</td>\n",
       "      <td>3</td>\n",
       "    </tr>\n",
       "    <tr>\n",
       "      <th>564</th>\n",
       "      <td>UK</td>\n",
       "      <td>[CAFFEINE, CODEINE, PARACETAMOL]</td>\n",
       "      <td>3</td>\n",
       "    </tr>\n",
       "    <tr>\n",
       "      <th>565</th>\n",
       "      <td>UK</td>\n",
       "      <td>[CAFFEINE, CODEINE, PARACETAMOL]</td>\n",
       "      <td>3</td>\n",
       "    </tr>\n",
       "    <tr>\n",
       "      <th>566</th>\n",
       "      <td>USA</td>\n",
       "      <td>[CODEINE, DEXTROMETHORPHAN, PARACETAMOL, PSEUD...</td>\n",
       "      <td>4</td>\n",
       "    </tr>\n",
       "    <tr>\n",
       "      <th>567</th>\n",
       "      <td>USA</td>\n",
       "      <td>[CODEINE, GUAIFENESIN]</td>\n",
       "      <td>2</td>\n",
       "    </tr>\n",
       "    <tr>\n",
       "      <th>568</th>\n",
       "      <td>USA</td>\n",
       "      <td>[CODEINE, GUAIFENESIN]</td>\n",
       "      <td>2</td>\n",
       "    </tr>\n",
       "  </tbody>\n",
       "</table>\n",
       "<p>569 rows × 3 columns</p>\n",
       "</div>"
      ],
      "text/plain": [
       "       Country                                          Molecules  \\\n",
       "0    ARGENTINA  [BENZOIC ACID, CODEINE, CRATAEGUS LAEVIGATA, E...   \n",
       "1      BELGIUM         [ACONITUM NAPELLUS, CODEINE, SULFOGAIACOL]   \n",
       "2      BELGIUM  [BROMOFORM, CAMPHOR, CINEOLE, CODEINE, GUAIACO...   \n",
       "3      BELGIUM                                          [CODEINE]   \n",
       "4      BELGIUM   [CODEINE, EPHEDRINE, ETHYLMORPHINE, GUAIFENESIN]   \n",
       "5      BELGIUM                                          [CODEINE]   \n",
       "6      BELGIUM                                 [CINEOLE, CODEINE]   \n",
       "7      BELGIUM          [ACONITUM NAPELLUS, CODEINE, FORMIC ACID]   \n",
       "8      BELGIUM                                          [CODEINE]   \n",
       "9      BELGIUM  [CAFFEINE, CINNAMOMUM ZEYLANICUM, CODEINE, PHE...   \n",
       "10     BELGIUM  [ALLOBARBITAL, CODEINE, DROFENINE, PROPYPHENAZ...   \n",
       "11     BELGIUM             [CODEINE, ETHYLMORPHINE, SULFOGAIACOL]   \n",
       "12     BELGIUM                             [CODEINE, PARACETAMOL]   \n",
       "13     BELGIUM                                          [CODEINE]   \n",
       "14     BELGIUM  [ACONITUM NAPELLUS, CODEINE, FORMIC ACID, SISY...   \n",
       "15     BELGIUM  [ACETYLSALICYLIC ACID, CAFFEINE, CODEINE, PARA...   \n",
       "16     BELGIUM                                 [CINEOLE, CODEINE]   \n",
       "17     BELGIUM         [ACONITUM NAPELLUS, CODEINE, SULFOGAIACOL]   \n",
       "18     BELGIUM  [ACETYLSALICYLIC ACID, CAFFEINE, CODEINE, DIPH...   \n",
       "19     BELGIUM   [CODEINE, EPHEDRINE, ETHYLMORPHINE, GUAIFENESIN]   \n",
       "20     BELGIUM  [ACONITUM NAPELLUS, BENZOIC ACID, CODEINE, PRU...   \n",
       "21     BELGIUM  [ACONITUM NAPELLUS, ATROPA BELLADONNA, CAMPHOR...   \n",
       "22     BELGIUM  [ACETYLSALICYLIC ACID, AMBUCETAMIDE, CAFFEINE,...   \n",
       "23     BELGIUM  [ASCORBIC ACID, CAFFEINE, CODEINE, CRESOTAMIDE...   \n",
       "24     BELGIUM  [ACONITUM NAPELLUS, ATROPA BELLADONNA, BROMOFO...   \n",
       "25     BELGIUM                                          [CODEINE]   \n",
       "26     BELGIUM  [ASCORBIC ACID, BENZOIC ACID, CEPHAELIS IPECAC...   \n",
       "27     BELGIUM                                          [CODEINE]   \n",
       "28     BELGIUM          [ACETYLSALICYLIC ACID, CAFFEINE, CODEINE]   \n",
       "29     BELGIUM                                          [CODEINE]   \n",
       "..         ...                                                ...   \n",
       "539         UK                             [CODEINE, PARACETAMOL]   \n",
       "540         UK                                          [CODEINE]   \n",
       "541         UK                  [BUCLIZINE, CODEINE, PARACETAMOL]   \n",
       "542         UK                               [CODEINE, IBUPROFEN]   \n",
       "543         UK                             [CODEINE, PARACETAMOL]   \n",
       "544         UK                             [CODEINE, PARACETAMOL]   \n",
       "545         UK                               [CODEINE, IBUPROFEN]   \n",
       "546         UK       [CAFFEINE, CODEINE, DOXYLAMINE, PARACETAMOL]   \n",
       "547         UK                   [CAFFEINE, CODEINE, PARACETAMOL]   \n",
       "548         UK                             [CODEINE, PARACETAMOL]   \n",
       "549         UK       [CAFFEINE, CODEINE, DOXYLAMINE, PARACETAMOL]   \n",
       "550         UK       [CAFFEINE, CODEINE, DOXYLAMINE, PARACETAMOL]   \n",
       "551         UK                             [CODEINE, PARACETAMOL]   \n",
       "552         UK                    [ACETYLSALICYLIC ACID, CODEINE]   \n",
       "553         UK                   [CAFFEINE, CODEINE, PARACETAMOL]   \n",
       "554         UK                   [CAFFEINE, CODEINE, PARACETAMOL]   \n",
       "555         UK                  [BUCLIZINE, CODEINE, PARACETAMOL]   \n",
       "556         UK               [CODEINE, GUAIACOL, PHOSPHORIC ACID]   \n",
       "557         UK                   [CAFFEINE, CODEINE, PARACETAMOL]   \n",
       "558         UK  [ASCORBIC ACID, CAFFEINE, CODEINE, DIPHENHYDRA...   \n",
       "559         UK                               [CODEINE, IBUPROFEN]   \n",
       "560         UK                   [CAFFEINE, CODEINE, PARACETAMOL]   \n",
       "561         UK                    [ACETYLSALICYLIC ACID, CODEINE]   \n",
       "562         UK                          [CODEINE, TERPIN HYDRATE]   \n",
       "563         UK        [BROMPHENIRAMINE, CODEINE, PSEUDOEPHEDRINE]   \n",
       "564         UK                   [CAFFEINE, CODEINE, PARACETAMOL]   \n",
       "565         UK                   [CAFFEINE, CODEINE, PARACETAMOL]   \n",
       "566        USA  [CODEINE, DEXTROMETHORPHAN, PARACETAMOL, PSEUD...   \n",
       "567        USA                             [CODEINE, GUAIFENESIN]   \n",
       "568        USA                             [CODEINE, GUAIFENESIN]   \n",
       "\n",
       "     no_combinations  \n",
       "0                  6  \n",
       "1                  3  \n",
       "2                  6  \n",
       "3                  1  \n",
       "4                  4  \n",
       "5                  1  \n",
       "6                  2  \n",
       "7                  3  \n",
       "8                  1  \n",
       "9                  5  \n",
       "10                 4  \n",
       "11                 3  \n",
       "12                 2  \n",
       "13                 1  \n",
       "14                 5  \n",
       "15                 4  \n",
       "16                 2  \n",
       "17                 3  \n",
       "18                 4  \n",
       "19                 4  \n",
       "20                 4  \n",
       "21                 8  \n",
       "22                 5  \n",
       "23                 5  \n",
       "24                 7  \n",
       "25                 1  \n",
       "26                 6  \n",
       "27                 1  \n",
       "28                 3  \n",
       "29                 1  \n",
       "..               ...  \n",
       "539                2  \n",
       "540                1  \n",
       "541                3  \n",
       "542                2  \n",
       "543                2  \n",
       "544                2  \n",
       "545                2  \n",
       "546                4  \n",
       "547                3  \n",
       "548                2  \n",
       "549                4  \n",
       "550                4  \n",
       "551                2  \n",
       "552                2  \n",
       "553                3  \n",
       "554                3  \n",
       "555                3  \n",
       "556                3  \n",
       "557                3  \n",
       "558                6  \n",
       "559                2  \n",
       "560                3  \n",
       "561                2  \n",
       "562                2  \n",
       "563                3  \n",
       "564                3  \n",
       "565                3  \n",
       "566                4  \n",
       "567                2  \n",
       "568                2  \n",
       "\n",
       "[569 rows x 3 columns]"
      ]
     },
     "execution_count": 6,
     "metadata": {},
     "output_type": "execute_result"
    }
   ],
   "source": [
    "df1[\"Molecules\"]= df1[\"Molecules\"].str.split(\"!\") \n",
    "df1"
   ]
  },
  {
   "cell_type": "markdown",
   "metadata": {},
   "source": [
    "# Here I determined how many products contained paracetamol "
   ]
  },
  {
   "cell_type": "code",
   "execution_count": 18,
   "metadata": {},
   "outputs": [],
   "source": [
    "sub ='PARACETAMOL'\n",
    "df1[\"paracetamol\"]= df1['Molecules'].str.find(sub)\n",
    "df1.head()"
   ]
  },
  {
   "cell_type": "code",
   "execution_count": 23,
   "metadata": {},
   "outputs": [
    {
     "data": {
      "text/html": [
       "<div>\n",
       "<style scoped>\n",
       "    .dataframe tbody tr th:only-of-type {\n",
       "        vertical-align: middle;\n",
       "    }\n",
       "\n",
       "    .dataframe tbody tr th {\n",
       "        vertical-align: top;\n",
       "    }\n",
       "\n",
       "    .dataframe thead th {\n",
       "        text-align: right;\n",
       "    }\n",
       "</style>\n",
       "<table border=\"1\" class=\"dataframe\">\n",
       "  <thead>\n",
       "    <tr style=\"text-align: right;\">\n",
       "      <th></th>\n",
       "      <th>Country</th>\n",
       "      <th>Molecules</th>\n",
       "      <th>no_combinations</th>\n",
       "      <th>paracetamol</th>\n",
       "      <th>para_combo</th>\n",
       "    </tr>\n",
       "  </thead>\n",
       "  <tbody>\n",
       "    <tr>\n",
       "      <th>0</th>\n",
       "      <td>ARGENTINA</td>\n",
       "      <td>BENZOIC ACID!CODEINE!CRATAEGUS LAEVIGATA!ETHYL...</td>\n",
       "      <td>6</td>\n",
       "      <td>-1</td>\n",
       "      <td>no</td>\n",
       "    </tr>\n",
       "    <tr>\n",
       "      <th>1</th>\n",
       "      <td>BELGIUM</td>\n",
       "      <td>ACONITUM NAPELLUS!CODEINE!SULFOGAIACOL</td>\n",
       "      <td>3</td>\n",
       "      <td>-1</td>\n",
       "      <td>no</td>\n",
       "    </tr>\n",
       "    <tr>\n",
       "      <th>2</th>\n",
       "      <td>BELGIUM</td>\n",
       "      <td>BROMOFORM!CAMPHOR!CINEOLE!CODEINE!GUAIACOL!PHENOL</td>\n",
       "      <td>6</td>\n",
       "      <td>-1</td>\n",
       "      <td>no</td>\n",
       "    </tr>\n",
       "    <tr>\n",
       "      <th>3</th>\n",
       "      <td>BELGIUM</td>\n",
       "      <td>CODEINE</td>\n",
       "      <td>1</td>\n",
       "      <td>-1</td>\n",
       "      <td>no</td>\n",
       "    </tr>\n",
       "    <tr>\n",
       "      <th>4</th>\n",
       "      <td>BELGIUM</td>\n",
       "      <td>CODEINE!EPHEDRINE!ETHYLMORPHINE!GUAIFENESIN</td>\n",
       "      <td>4</td>\n",
       "      <td>-1</td>\n",
       "      <td>no</td>\n",
       "    </tr>\n",
       "    <tr>\n",
       "      <th>5</th>\n",
       "      <td>BELGIUM</td>\n",
       "      <td>CODEINE</td>\n",
       "      <td>1</td>\n",
       "      <td>-1</td>\n",
       "      <td>no</td>\n",
       "    </tr>\n",
       "    <tr>\n",
       "      <th>6</th>\n",
       "      <td>BELGIUM</td>\n",
       "      <td>CINEOLE!CODEINE</td>\n",
       "      <td>2</td>\n",
       "      <td>-1</td>\n",
       "      <td>no</td>\n",
       "    </tr>\n",
       "    <tr>\n",
       "      <th>7</th>\n",
       "      <td>BELGIUM</td>\n",
       "      <td>ACONITUM NAPELLUS!CODEINE!FORMIC ACID</td>\n",
       "      <td>3</td>\n",
       "      <td>-1</td>\n",
       "      <td>no</td>\n",
       "    </tr>\n",
       "    <tr>\n",
       "      <th>8</th>\n",
       "      <td>BELGIUM</td>\n",
       "      <td>CODEINE</td>\n",
       "      <td>1</td>\n",
       "      <td>-1</td>\n",
       "      <td>no</td>\n",
       "    </tr>\n",
       "    <tr>\n",
       "      <th>9</th>\n",
       "      <td>BELGIUM</td>\n",
       "      <td>CAFFEINE!CINNAMOMUM ZEYLANICUM!CODEINE!PHENAZO...</td>\n",
       "      <td>5</td>\n",
       "      <td>-1</td>\n",
       "      <td>no</td>\n",
       "    </tr>\n",
       "    <tr>\n",
       "      <th>10</th>\n",
       "      <td>BELGIUM</td>\n",
       "      <td>ALLOBARBITAL!CODEINE!DROFENINE!PROPYPHENAZONE</td>\n",
       "      <td>4</td>\n",
       "      <td>-1</td>\n",
       "      <td>no</td>\n",
       "    </tr>\n",
       "    <tr>\n",
       "      <th>11</th>\n",
       "      <td>BELGIUM</td>\n",
       "      <td>CODEINE!ETHYLMORPHINE!SULFOGAIACOL</td>\n",
       "      <td>3</td>\n",
       "      <td>-1</td>\n",
       "      <td>no</td>\n",
       "    </tr>\n",
       "    <tr>\n",
       "      <th>12</th>\n",
       "      <td>BELGIUM</td>\n",
       "      <td>CODEINE!PARACETAMOL</td>\n",
       "      <td>2</td>\n",
       "      <td>8</td>\n",
       "      <td>yes</td>\n",
       "    </tr>\n",
       "    <tr>\n",
       "      <th>13</th>\n",
       "      <td>BELGIUM</td>\n",
       "      <td>CODEINE</td>\n",
       "      <td>1</td>\n",
       "      <td>-1</td>\n",
       "      <td>no</td>\n",
       "    </tr>\n",
       "    <tr>\n",
       "      <th>14</th>\n",
       "      <td>BELGIUM</td>\n",
       "      <td>ACONITUM NAPELLUS!CODEINE!FORMIC ACID!SISYMBRI...</td>\n",
       "      <td>5</td>\n",
       "      <td>-1</td>\n",
       "      <td>no</td>\n",
       "    </tr>\n",
       "    <tr>\n",
       "      <th>15</th>\n",
       "      <td>BELGIUM</td>\n",
       "      <td>ACETYLSALICYLIC ACID!CAFFEINE!CODEINE!PARACETAMOL</td>\n",
       "      <td>4</td>\n",
       "      <td>38</td>\n",
       "      <td>yes</td>\n",
       "    </tr>\n",
       "    <tr>\n",
       "      <th>16</th>\n",
       "      <td>BELGIUM</td>\n",
       "      <td>CINEOLE!CODEINE</td>\n",
       "      <td>2</td>\n",
       "      <td>-1</td>\n",
       "      <td>no</td>\n",
       "    </tr>\n",
       "    <tr>\n",
       "      <th>17</th>\n",
       "      <td>BELGIUM</td>\n",
       "      <td>ACONITUM NAPELLUS!CODEINE!SULFOGAIACOL</td>\n",
       "      <td>3</td>\n",
       "      <td>-1</td>\n",
       "      <td>no</td>\n",
       "    </tr>\n",
       "    <tr>\n",
       "      <th>18</th>\n",
       "      <td>BELGIUM</td>\n",
       "      <td>ACETYLSALICYLIC ACID!CAFFEINE!CODEINE!DIPHENHY...</td>\n",
       "      <td>4</td>\n",
       "      <td>-1</td>\n",
       "      <td>no</td>\n",
       "    </tr>\n",
       "    <tr>\n",
       "      <th>19</th>\n",
       "      <td>BELGIUM</td>\n",
       "      <td>CODEINE!EPHEDRINE!ETHYLMORPHINE!GUAIFENESIN</td>\n",
       "      <td>4</td>\n",
       "      <td>-1</td>\n",
       "      <td>no</td>\n",
       "    </tr>\n",
       "    <tr>\n",
       "      <th>20</th>\n",
       "      <td>BELGIUM</td>\n",
       "      <td>ACONITUM NAPELLUS!BENZOIC ACID!CODEINE!PRUNUS ...</td>\n",
       "      <td>4</td>\n",
       "      <td>-1</td>\n",
       "      <td>no</td>\n",
       "    </tr>\n",
       "    <tr>\n",
       "      <th>21</th>\n",
       "      <td>BELGIUM</td>\n",
       "      <td>ACONITUM NAPELLUS!ATROPA BELLADONNA!CAMPHORSUL...</td>\n",
       "      <td>8</td>\n",
       "      <td>-1</td>\n",
       "      <td>no</td>\n",
       "    </tr>\n",
       "    <tr>\n",
       "      <th>22</th>\n",
       "      <td>BELGIUM</td>\n",
       "      <td>ACETYLSALICYLIC ACID!AMBUCETAMIDE!CAFFEINE!COD...</td>\n",
       "      <td>5</td>\n",
       "      <td>51</td>\n",
       "      <td>yes</td>\n",
       "    </tr>\n",
       "    <tr>\n",
       "      <th>23</th>\n",
       "      <td>BELGIUM</td>\n",
       "      <td>ASCORBIC ACID!CAFFEINE!CODEINE!CRESOTAMIDE!PAR...</td>\n",
       "      <td>5</td>\n",
       "      <td>43</td>\n",
       "      <td>yes</td>\n",
       "    </tr>\n",
       "    <tr>\n",
       "      <th>24</th>\n",
       "      <td>BELGIUM</td>\n",
       "      <td>ACONITUM NAPELLUS!ATROPA BELLADONNA!BROMOFORM!...</td>\n",
       "      <td>7</td>\n",
       "      <td>-1</td>\n",
       "      <td>no</td>\n",
       "    </tr>\n",
       "    <tr>\n",
       "      <th>25</th>\n",
       "      <td>BELGIUM</td>\n",
       "      <td>CODEINE</td>\n",
       "      <td>1</td>\n",
       "      <td>-1</td>\n",
       "      <td>no</td>\n",
       "    </tr>\n",
       "    <tr>\n",
       "      <th>26</th>\n",
       "      <td>BELGIUM</td>\n",
       "      <td>ASCORBIC ACID!BENZOIC ACID!CEPHAELIS IPECACUAN...</td>\n",
       "      <td>6</td>\n",
       "      <td>-1</td>\n",
       "      <td>no</td>\n",
       "    </tr>\n",
       "    <tr>\n",
       "      <th>27</th>\n",
       "      <td>BELGIUM</td>\n",
       "      <td>CODEINE</td>\n",
       "      <td>1</td>\n",
       "      <td>-1</td>\n",
       "      <td>no</td>\n",
       "    </tr>\n",
       "    <tr>\n",
       "      <th>28</th>\n",
       "      <td>BELGIUM</td>\n",
       "      <td>ACETYLSALICYLIC ACID!CAFFEINE!CODEINE</td>\n",
       "      <td>3</td>\n",
       "      <td>-1</td>\n",
       "      <td>no</td>\n",
       "    </tr>\n",
       "    <tr>\n",
       "      <th>29</th>\n",
       "      <td>BELGIUM</td>\n",
       "      <td>CODEINE</td>\n",
       "      <td>1</td>\n",
       "      <td>-1</td>\n",
       "      <td>no</td>\n",
       "    </tr>\n",
       "    <tr>\n",
       "      <th>...</th>\n",
       "      <td>...</td>\n",
       "      <td>...</td>\n",
       "      <td>...</td>\n",
       "      <td>...</td>\n",
       "      <td>...</td>\n",
       "    </tr>\n",
       "    <tr>\n",
       "      <th>539</th>\n",
       "      <td>UK</td>\n",
       "      <td>CODEINE!PARACETAMOL</td>\n",
       "      <td>2</td>\n",
       "      <td>8</td>\n",
       "      <td>yes</td>\n",
       "    </tr>\n",
       "    <tr>\n",
       "      <th>540</th>\n",
       "      <td>UK</td>\n",
       "      <td>CODEINE</td>\n",
       "      <td>1</td>\n",
       "      <td>-1</td>\n",
       "      <td>no</td>\n",
       "    </tr>\n",
       "    <tr>\n",
       "      <th>541</th>\n",
       "      <td>UK</td>\n",
       "      <td>BUCLIZINE!CODEINE!PARACETAMOL</td>\n",
       "      <td>3</td>\n",
       "      <td>18</td>\n",
       "      <td>yes</td>\n",
       "    </tr>\n",
       "    <tr>\n",
       "      <th>542</th>\n",
       "      <td>UK</td>\n",
       "      <td>CODEINE!IBUPROFEN</td>\n",
       "      <td>2</td>\n",
       "      <td>-1</td>\n",
       "      <td>no</td>\n",
       "    </tr>\n",
       "    <tr>\n",
       "      <th>543</th>\n",
       "      <td>UK</td>\n",
       "      <td>CODEINE!PARACETAMOL</td>\n",
       "      <td>2</td>\n",
       "      <td>8</td>\n",
       "      <td>yes</td>\n",
       "    </tr>\n",
       "    <tr>\n",
       "      <th>544</th>\n",
       "      <td>UK</td>\n",
       "      <td>CODEINE!PARACETAMOL</td>\n",
       "      <td>2</td>\n",
       "      <td>8</td>\n",
       "      <td>yes</td>\n",
       "    </tr>\n",
       "    <tr>\n",
       "      <th>545</th>\n",
       "      <td>UK</td>\n",
       "      <td>CODEINE!IBUPROFEN</td>\n",
       "      <td>2</td>\n",
       "      <td>-1</td>\n",
       "      <td>no</td>\n",
       "    </tr>\n",
       "    <tr>\n",
       "      <th>546</th>\n",
       "      <td>UK</td>\n",
       "      <td>CAFFEINE!CODEINE!DOXYLAMINE!PARACETAMOL</td>\n",
       "      <td>4</td>\n",
       "      <td>28</td>\n",
       "      <td>yes</td>\n",
       "    </tr>\n",
       "    <tr>\n",
       "      <th>547</th>\n",
       "      <td>UK</td>\n",
       "      <td>CAFFEINE!CODEINE!PARACETAMOL</td>\n",
       "      <td>3</td>\n",
       "      <td>17</td>\n",
       "      <td>yes</td>\n",
       "    </tr>\n",
       "    <tr>\n",
       "      <th>548</th>\n",
       "      <td>UK</td>\n",
       "      <td>CODEINE!PARACETAMOL</td>\n",
       "      <td>2</td>\n",
       "      <td>8</td>\n",
       "      <td>yes</td>\n",
       "    </tr>\n",
       "    <tr>\n",
       "      <th>549</th>\n",
       "      <td>UK</td>\n",
       "      <td>CAFFEINE!CODEINE!DOXYLAMINE!PARACETAMOL</td>\n",
       "      <td>4</td>\n",
       "      <td>28</td>\n",
       "      <td>yes</td>\n",
       "    </tr>\n",
       "    <tr>\n",
       "      <th>550</th>\n",
       "      <td>UK</td>\n",
       "      <td>CAFFEINE!CODEINE!DOXYLAMINE!PARACETAMOL</td>\n",
       "      <td>4</td>\n",
       "      <td>28</td>\n",
       "      <td>yes</td>\n",
       "    </tr>\n",
       "    <tr>\n",
       "      <th>551</th>\n",
       "      <td>UK</td>\n",
       "      <td>CODEINE!PARACETAMOL</td>\n",
       "      <td>2</td>\n",
       "      <td>8</td>\n",
       "      <td>yes</td>\n",
       "    </tr>\n",
       "    <tr>\n",
       "      <th>552</th>\n",
       "      <td>UK</td>\n",
       "      <td>ACETYLSALICYLIC ACID!CODEINE</td>\n",
       "      <td>2</td>\n",
       "      <td>-1</td>\n",
       "      <td>no</td>\n",
       "    </tr>\n",
       "    <tr>\n",
       "      <th>553</th>\n",
       "      <td>UK</td>\n",
       "      <td>CAFFEINE!CODEINE!PARACETAMOL</td>\n",
       "      <td>3</td>\n",
       "      <td>17</td>\n",
       "      <td>yes</td>\n",
       "    </tr>\n",
       "    <tr>\n",
       "      <th>554</th>\n",
       "      <td>UK</td>\n",
       "      <td>CAFFEINE!CODEINE!PARACETAMOL</td>\n",
       "      <td>3</td>\n",
       "      <td>17</td>\n",
       "      <td>yes</td>\n",
       "    </tr>\n",
       "    <tr>\n",
       "      <th>555</th>\n",
       "      <td>UK</td>\n",
       "      <td>BUCLIZINE!CODEINE!PARACETAMOL</td>\n",
       "      <td>3</td>\n",
       "      <td>18</td>\n",
       "      <td>yes</td>\n",
       "    </tr>\n",
       "    <tr>\n",
       "      <th>556</th>\n",
       "      <td>UK</td>\n",
       "      <td>CODEINE!GUAIACOL!PHOSPHORIC ACID</td>\n",
       "      <td>3</td>\n",
       "      <td>-1</td>\n",
       "      <td>no</td>\n",
       "    </tr>\n",
       "    <tr>\n",
       "      <th>557</th>\n",
       "      <td>UK</td>\n",
       "      <td>CAFFEINE!CODEINE!PARACETAMOL</td>\n",
       "      <td>3</td>\n",
       "      <td>17</td>\n",
       "      <td>yes</td>\n",
       "    </tr>\n",
       "    <tr>\n",
       "      <th>558</th>\n",
       "      <td>UK</td>\n",
       "      <td>ASCORBIC ACID!CAFFEINE!CODEINE!DIPHENHYDRAMINE...</td>\n",
       "      <td>6</td>\n",
       "      <td>47</td>\n",
       "      <td>yes</td>\n",
       "    </tr>\n",
       "    <tr>\n",
       "      <th>559</th>\n",
       "      <td>UK</td>\n",
       "      <td>CODEINE!IBUPROFEN</td>\n",
       "      <td>2</td>\n",
       "      <td>-1</td>\n",
       "      <td>no</td>\n",
       "    </tr>\n",
       "    <tr>\n",
       "      <th>560</th>\n",
       "      <td>UK</td>\n",
       "      <td>CAFFEINE!CODEINE!PARACETAMOL</td>\n",
       "      <td>3</td>\n",
       "      <td>17</td>\n",
       "      <td>yes</td>\n",
       "    </tr>\n",
       "    <tr>\n",
       "      <th>561</th>\n",
       "      <td>UK</td>\n",
       "      <td>ACETYLSALICYLIC ACID!CODEINE</td>\n",
       "      <td>2</td>\n",
       "      <td>-1</td>\n",
       "      <td>no</td>\n",
       "    </tr>\n",
       "    <tr>\n",
       "      <th>562</th>\n",
       "      <td>UK</td>\n",
       "      <td>CODEINE!TERPIN HYDRATE</td>\n",
       "      <td>2</td>\n",
       "      <td>-1</td>\n",
       "      <td>no</td>\n",
       "    </tr>\n",
       "    <tr>\n",
       "      <th>563</th>\n",
       "      <td>UK</td>\n",
       "      <td>BROMPHENIRAMINE!CODEINE!PSEUDOEPHEDRINE</td>\n",
       "      <td>3</td>\n",
       "      <td>-1</td>\n",
       "      <td>no</td>\n",
       "    </tr>\n",
       "    <tr>\n",
       "      <th>564</th>\n",
       "      <td>UK</td>\n",
       "      <td>CAFFEINE!CODEINE!PARACETAMOL</td>\n",
       "      <td>3</td>\n",
       "      <td>17</td>\n",
       "      <td>yes</td>\n",
       "    </tr>\n",
       "    <tr>\n",
       "      <th>565</th>\n",
       "      <td>UK</td>\n",
       "      <td>CAFFEINE!CODEINE!PARACETAMOL</td>\n",
       "      <td>3</td>\n",
       "      <td>17</td>\n",
       "      <td>yes</td>\n",
       "    </tr>\n",
       "    <tr>\n",
       "      <th>566</th>\n",
       "      <td>USA</td>\n",
       "      <td>CODEINE!DEXTROMETHORPHAN!PARACETAMOL!PSEUDOEPH...</td>\n",
       "      <td>4</td>\n",
       "      <td>25</td>\n",
       "      <td>yes</td>\n",
       "    </tr>\n",
       "    <tr>\n",
       "      <th>567</th>\n",
       "      <td>USA</td>\n",
       "      <td>CODEINE!GUAIFENESIN</td>\n",
       "      <td>2</td>\n",
       "      <td>-1</td>\n",
       "      <td>no</td>\n",
       "    </tr>\n",
       "    <tr>\n",
       "      <th>568</th>\n",
       "      <td>USA</td>\n",
       "      <td>CODEINE!GUAIFENESIN</td>\n",
       "      <td>2</td>\n",
       "      <td>-1</td>\n",
       "      <td>no</td>\n",
       "    </tr>\n",
       "  </tbody>\n",
       "</table>\n",
       "<p>569 rows × 5 columns</p>\n",
       "</div>"
      ],
      "text/plain": [
       "       Country                                          Molecules  \\\n",
       "0    ARGENTINA  BENZOIC ACID!CODEINE!CRATAEGUS LAEVIGATA!ETHYL...   \n",
       "1      BELGIUM             ACONITUM NAPELLUS!CODEINE!SULFOGAIACOL   \n",
       "2      BELGIUM  BROMOFORM!CAMPHOR!CINEOLE!CODEINE!GUAIACOL!PHENOL   \n",
       "3      BELGIUM                                            CODEINE   \n",
       "4      BELGIUM        CODEINE!EPHEDRINE!ETHYLMORPHINE!GUAIFENESIN   \n",
       "5      BELGIUM                                            CODEINE   \n",
       "6      BELGIUM                                    CINEOLE!CODEINE   \n",
       "7      BELGIUM              ACONITUM NAPELLUS!CODEINE!FORMIC ACID   \n",
       "8      BELGIUM                                            CODEINE   \n",
       "9      BELGIUM  CAFFEINE!CINNAMOMUM ZEYLANICUM!CODEINE!PHENAZO...   \n",
       "10     BELGIUM      ALLOBARBITAL!CODEINE!DROFENINE!PROPYPHENAZONE   \n",
       "11     BELGIUM                 CODEINE!ETHYLMORPHINE!SULFOGAIACOL   \n",
       "12     BELGIUM                                CODEINE!PARACETAMOL   \n",
       "13     BELGIUM                                            CODEINE   \n",
       "14     BELGIUM  ACONITUM NAPELLUS!CODEINE!FORMIC ACID!SISYMBRI...   \n",
       "15     BELGIUM  ACETYLSALICYLIC ACID!CAFFEINE!CODEINE!PARACETAMOL   \n",
       "16     BELGIUM                                    CINEOLE!CODEINE   \n",
       "17     BELGIUM             ACONITUM NAPELLUS!CODEINE!SULFOGAIACOL   \n",
       "18     BELGIUM  ACETYLSALICYLIC ACID!CAFFEINE!CODEINE!DIPHENHY...   \n",
       "19     BELGIUM        CODEINE!EPHEDRINE!ETHYLMORPHINE!GUAIFENESIN   \n",
       "20     BELGIUM  ACONITUM NAPELLUS!BENZOIC ACID!CODEINE!PRUNUS ...   \n",
       "21     BELGIUM  ACONITUM NAPELLUS!ATROPA BELLADONNA!CAMPHORSUL...   \n",
       "22     BELGIUM  ACETYLSALICYLIC ACID!AMBUCETAMIDE!CAFFEINE!COD...   \n",
       "23     BELGIUM  ASCORBIC ACID!CAFFEINE!CODEINE!CRESOTAMIDE!PAR...   \n",
       "24     BELGIUM  ACONITUM NAPELLUS!ATROPA BELLADONNA!BROMOFORM!...   \n",
       "25     BELGIUM                                            CODEINE   \n",
       "26     BELGIUM  ASCORBIC ACID!BENZOIC ACID!CEPHAELIS IPECACUAN...   \n",
       "27     BELGIUM                                            CODEINE   \n",
       "28     BELGIUM              ACETYLSALICYLIC ACID!CAFFEINE!CODEINE   \n",
       "29     BELGIUM                                            CODEINE   \n",
       "..         ...                                                ...   \n",
       "539         UK                                CODEINE!PARACETAMOL   \n",
       "540         UK                                            CODEINE   \n",
       "541         UK                      BUCLIZINE!CODEINE!PARACETAMOL   \n",
       "542         UK                                  CODEINE!IBUPROFEN   \n",
       "543         UK                                CODEINE!PARACETAMOL   \n",
       "544         UK                                CODEINE!PARACETAMOL   \n",
       "545         UK                                  CODEINE!IBUPROFEN   \n",
       "546         UK            CAFFEINE!CODEINE!DOXYLAMINE!PARACETAMOL   \n",
       "547         UK                       CAFFEINE!CODEINE!PARACETAMOL   \n",
       "548         UK                                CODEINE!PARACETAMOL   \n",
       "549         UK            CAFFEINE!CODEINE!DOXYLAMINE!PARACETAMOL   \n",
       "550         UK            CAFFEINE!CODEINE!DOXYLAMINE!PARACETAMOL   \n",
       "551         UK                                CODEINE!PARACETAMOL   \n",
       "552         UK                       ACETYLSALICYLIC ACID!CODEINE   \n",
       "553         UK                       CAFFEINE!CODEINE!PARACETAMOL   \n",
       "554         UK                       CAFFEINE!CODEINE!PARACETAMOL   \n",
       "555         UK                      BUCLIZINE!CODEINE!PARACETAMOL   \n",
       "556         UK                   CODEINE!GUAIACOL!PHOSPHORIC ACID   \n",
       "557         UK                       CAFFEINE!CODEINE!PARACETAMOL   \n",
       "558         UK  ASCORBIC ACID!CAFFEINE!CODEINE!DIPHENHYDRAMINE...   \n",
       "559         UK                                  CODEINE!IBUPROFEN   \n",
       "560         UK                       CAFFEINE!CODEINE!PARACETAMOL   \n",
       "561         UK                       ACETYLSALICYLIC ACID!CODEINE   \n",
       "562         UK                             CODEINE!TERPIN HYDRATE   \n",
       "563         UK            BROMPHENIRAMINE!CODEINE!PSEUDOEPHEDRINE   \n",
       "564         UK                       CAFFEINE!CODEINE!PARACETAMOL   \n",
       "565         UK                       CAFFEINE!CODEINE!PARACETAMOL   \n",
       "566        USA  CODEINE!DEXTROMETHORPHAN!PARACETAMOL!PSEUDOEPH...   \n",
       "567        USA                                CODEINE!GUAIFENESIN   \n",
       "568        USA                                CODEINE!GUAIFENESIN   \n",
       "\n",
       "     no_combinations  paracetamol para_combo  \n",
       "0                  6           -1         no  \n",
       "1                  3           -1         no  \n",
       "2                  6           -1         no  \n",
       "3                  1           -1         no  \n",
       "4                  4           -1         no  \n",
       "5                  1           -1         no  \n",
       "6                  2           -1         no  \n",
       "7                  3           -1         no  \n",
       "8                  1           -1         no  \n",
       "9                  5           -1         no  \n",
       "10                 4           -1         no  \n",
       "11                 3           -1         no  \n",
       "12                 2            8        yes  \n",
       "13                 1           -1         no  \n",
       "14                 5           -1         no  \n",
       "15                 4           38        yes  \n",
       "16                 2           -1         no  \n",
       "17                 3           -1         no  \n",
       "18                 4           -1         no  \n",
       "19                 4           -1         no  \n",
       "20                 4           -1         no  \n",
       "21                 8           -1         no  \n",
       "22                 5           51        yes  \n",
       "23                 5           43        yes  \n",
       "24                 7           -1         no  \n",
       "25                 1           -1         no  \n",
       "26                 6           -1         no  \n",
       "27                 1           -1         no  \n",
       "28                 3           -1         no  \n",
       "29                 1           -1         no  \n",
       "..               ...          ...        ...  \n",
       "539                2            8        yes  \n",
       "540                1           -1         no  \n",
       "541                3           18        yes  \n",
       "542                2           -1         no  \n",
       "543                2            8        yes  \n",
       "544                2            8        yes  \n",
       "545                2           -1         no  \n",
       "546                4           28        yes  \n",
       "547                3           17        yes  \n",
       "548                2            8        yes  \n",
       "549                4           28        yes  \n",
       "550                4           28        yes  \n",
       "551                2            8        yes  \n",
       "552                2           -1         no  \n",
       "553                3           17        yes  \n",
       "554                3           17        yes  \n",
       "555                3           18        yes  \n",
       "556                3           -1         no  \n",
       "557                3           17        yes  \n",
       "558                6           47        yes  \n",
       "559                2           -1         no  \n",
       "560                3           17        yes  \n",
       "561                2           -1         no  \n",
       "562                2           -1         no  \n",
       "563                3           -1         no  \n",
       "564                3           17        yes  \n",
       "565                3           17        yes  \n",
       "566                4           25        yes  \n",
       "567                2           -1         no  \n",
       "568                2           -1         no  \n",
       "\n",
       "[569 rows x 5 columns]"
      ]
     },
     "execution_count": 23,
     "metadata": {},
     "output_type": "execute_result"
    }
   ],
   "source": [
    "df1['para_combo'] = np.where(df1['paracetamol']>=0, 'yes', 'no')\n",
    "df1"
   ]
  },
  {
   "cell_type": "code",
   "execution_count": 24,
   "metadata": {},
   "outputs": [
    {
     "data": {
      "text/plain": [
       "yes    310\n",
       "no     259\n",
       "Name: para_combo, dtype: int64"
      ]
     },
     "execution_count": 24,
     "metadata": {},
     "output_type": "execute_result"
    }
   ],
   "source": [
    "# to count the number of products that contain paracetamol in their combinations \n",
    "df1['para_combo'].value_counts()"
   ]
  },
  {
   "cell_type": "code",
   "execution_count": 25,
   "metadata": {},
   "outputs": [
    {
     "data": {
      "text/plain": [
       "54.5774647887324"
      ]
     },
     "execution_count": 25,
     "metadata": {},
     "output_type": "execute_result"
    }
   ],
   "source": [
    "# simple % calculation of the 'yes' products \n",
    "(310/568)*100"
   ]
  },
  {
   "cell_type": "markdown",
   "metadata": {},
   "source": [
    "# Save changes to csv"
   ]
  },
  {
   "cell_type": "code",
   "execution_count": null,
   "metadata": {},
   "outputs": [],
   "source": [
    "# save changes to df as a csv \n",
    "df2.to_csv('molecules_otc_new.csv')"
   ]
  }
 ],
 "metadata": {
  "kernelspec": {
   "display_name": "Python 3",
   "language": "python",
   "name": "python3"
  },
  "language_info": {
   "codemirror_mode": {
    "name": "ipython",
    "version": 3
   },
   "file_extension": ".py",
   "mimetype": "text/x-python",
   "name": "python",
   "nbconvert_exporter": "python",
   "pygments_lexer": "ipython3",
   "version": "3.7.1"
  }
 },
 "nbformat": 4,
 "nbformat_minor": 2
}
